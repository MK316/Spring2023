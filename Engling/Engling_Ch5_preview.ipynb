{
  "nbformat": 4,
  "nbformat_minor": 0,
  "metadata": {
    "colab": {
      "private_outputs": true,
      "provenance": [],
      "authorship_tag": "ABX9TyNLMnlPe1XeAlyTSnI46xcd",
      "include_colab_link": true
    },
    "kernelspec": {
      "name": "python3",
      "display_name": "Python 3"
    },
    "language_info": {
      "name": "python"
    }
  },
  "cells": [
    {
      "cell_type": "markdown",
      "metadata": {
        "id": "view-in-github",
        "colab_type": "text"
      },
      "source": [
        "<a href=\"https://colab.research.google.com/github/MK316/Spring2023/blob/main/Engling/Engling_Ch5_preview.ipynb\" target=\"_parent\"><img src=\"https://colab.research.google.com/assets/colab-badge.svg\" alt=\"Open In Colab\"/></a>"
      ]
    },
    {
      "cell_type": "markdown",
      "source": [
        "Group quiz:\n",
        "\n",
        "Group mean"
      ],
      "metadata": {
        "id": "V75c0TP1JQJK"
      }
    },
    {
      "cell_type": "code",
      "execution_count": null,
      "metadata": {
        "id": "DyihTBh6JKoj"
      },
      "outputs": [],
      "source": [
        "import pandas as pd"
      ]
    },
    {
      "cell_type": "code",
      "source": [
        "from google.colab import drive\n",
        "drive.mount('/content/drive')"
      ],
      "metadata": {
        "id": "6PH5w-AlJp0o"
      },
      "execution_count": null,
      "outputs": []
    },
    {
      "cell_type": "code",
      "source": [
        "df = pd.read_csv(\"/content/drive/MyDrive/myclass/ch5_preview.csv\")\n",
        "df.head()"
      ],
      "metadata": {
        "id": "P4wwm0wOJvWN"
      },
      "execution_count": null,
      "outputs": []
    },
    {
      "cell_type": "code",
      "source": [
        "drive.flush_and_unmount()\n"
      ],
      "metadata": {
        "id": "KFxv_dyVKr6D"
      },
      "execution_count": null,
      "outputs": []
    },
    {
      "cell_type": "code",
      "source": [
        "import pandas as pd\n",
        "import matplotlib.pyplot as plt\n",
        "\n",
        "# Assuming you have a DataFrame called df with 'Group' and 'Score' columns\n",
        "\n",
        "# Calculate the average score by group\n",
        "grouped_df = df.groupby('Group')['Score'].mean()\n",
        "\n",
        "# Create a bar plot\n",
        "grouped_df.plot(kind='bar')\n",
        "\n",
        "# Set labels and title\n",
        "plt.xlabel('Group')\n",
        "plt.ylabel('Average Score')\n",
        "plt.title('Bar Plot: Average Score by Group')\n",
        "\n",
        "# Show the plot\n",
        "plt.show()\n"
      ],
      "metadata": {
        "id": "6NKdLsVbKtBS"
      },
      "execution_count": null,
      "outputs": []
    },
    {
      "cell_type": "code",
      "source": [
        "import pandas as pd\n",
        "\n",
        "# Assuming you have a DataFrame called df with 'Group' and 'Score' columns\n",
        "\n",
        "# Calculate score summary by group\n",
        "summary_df = df.groupby('Group')['Score'].agg(['mean', 'median', 'min', 'max', 'std'])\n",
        "\n",
        "# Display the summary\n",
        "print(summary_df)\n"
      ],
      "metadata": {
        "id": "JkcuRERCLGcw"
      },
      "execution_count": null,
      "outputs": []
    },
    {
      "cell_type": "code",
      "source": [
        "import matplotlib.pyplot as plt\n",
        "\n",
        "# Assuming you have a DataFrame called df with 'Group' and 'Score' columns\n",
        "\n",
        "# Create a box plot\n",
        "plt.boxplot([df[df['Group'] == group]['Score'] for group in df['Group'].unique()])\n",
        "\n",
        "# Set x-axis labels\n",
        "plt.xticks(range(1, len(df['Group'].unique()) + 1), df['Group'].unique())\n",
        "\n",
        "# Set labels and title\n",
        "plt.xlabel('Group')\n",
        "plt.ylabel('Score')\n",
        "plt.title('Box Plot: Score by Group')\n",
        "\n",
        "# Show the plot\n",
        "plt.show()\n"
      ],
      "metadata": {
        "id": "slAMSG-LLuDI"
      },
      "execution_count": null,
      "outputs": []
    }
  ]
}
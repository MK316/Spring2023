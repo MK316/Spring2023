{
  "nbformat": 4,
  "nbformat_minor": 0,
  "metadata": {
    "colab": {
      "provenance": [],
      "authorship_tag": "ABX9TyPKVx5ClnBn38G3ww5COLdy",
      "include_colab_link": true
    },
    "kernelspec": {
      "name": "python3",
      "display_name": "Python 3"
    },
    "language_info": {
      "name": "python"
    }
  },
  "cells": [
    {
      "cell_type": "markdown",
      "metadata": {
        "id": "view-in-github",
        "colab_type": "text"
      },
      "source": [
        "<a href=\"https://colab.research.google.com/github/MK316/Spring2023/blob/main/Engling/Engling_Ch4_part1_preview.ipynb\" target=\"_parent\"><img src=\"https://colab.research.google.com/assets/colab-badge.svg\" alt=\"Open In Colab\"/></a>"
      ]
    },
    {
      "cell_type": "markdown",
      "source": [
        "# Chapter 4. Morphology (part 1) Preview"
      ],
      "metadata": {
        "id": "8Y1yxQaBCJMO"
      }
    },
    {
      "cell_type": "markdown",
      "source": [
        "[link]() blank for now"
      ],
      "metadata": {
        "id": "htUVmnMkCPOv"
      }
    },
    {
      "cell_type": "code",
      "execution_count": null,
      "metadata": {
        "id": "ZTF6LpryCIaU"
      },
      "outputs": [],
      "source": [
        "#@markdown Install {pyqrcode} and enter link address\n",
        "!pip install pyqrcode\n",
        "\n",
        "import pyqrcode\n",
        "from pyqrcode import QRCode"
      ]
    },
    {
      "cell_type": "markdown",
      "source": [
        "[link2]() for instructor blank for now\n",
        "\n",
        "\n",
        "[link3]() for individuals blank for now"
      ],
      "metadata": {
        "id": "O638ESepPoPE"
      }
    },
    {
      "cell_type": "code",
      "source": [
        "\n",
        "#@markdown Enter the link, save it as a file, and display\n",
        "s = input(\"Paste the link: \")\n",
        "\n",
        "# Generate QR code\n",
        "url = pyqrcode.create(s)\n",
        "\n",
        "# Create and save the png file naming \"myqr.png\"\n",
        "url.svg(\"myqrcode.svg\", scale=10)\n",
        "\n",
        "from IPython.display import SVG, display\n",
        "def show_svg(file):\n",
        "    display(SVG(file))\n",
        "\n",
        "show_svg(\"myqrcode.svg\")\n",
        "     "
      ],
      "metadata": {
        "cellView": "form",
        "id": "-27PQ8p-CXOu"
      },
      "execution_count": null,
      "outputs": []
    }
  ]
}
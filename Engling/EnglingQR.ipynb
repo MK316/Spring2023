{
  "nbformat": 4,
  "nbformat_minor": 0,
  "metadata": {
    "colab": {
      "private_outputs": true,
      "provenance": [],
      "authorship_tag": "ABX9TyMt19r4Ni2Xkltj7ZJXXzBy",
      "include_colab_link": true
    },
    "kernelspec": {
      "name": "python3",
      "display_name": "Python 3"
    },
    "language_info": {
      "name": "python"
    }
  },
  "cells": [
    {
      "cell_type": "markdown",
      "metadata": {
        "id": "view-in-github",
        "colab_type": "text"
      },
      "source": [
        "<a href=\"https://colab.research.google.com/github/MK316/Spring2023/blob/main/Engling/EnglingQR.ipynb\" target=\"_parent\"><img src=\"https://colab.research.google.com/assets/colab-badge.svg\" alt=\"Open In Colab\"/></a>"
      ]
    },
    {
      "cell_type": "markdown",
      "source": [
        "# Engling QR codes"
      ],
      "metadata": {
        "id": "Mrw4XPl2nL_Y"
      }
    },
    {
      "cell_type": "code",
      "execution_count": null,
      "metadata": {
        "id": "a4wcSnOhnLWe"
      },
      "outputs": [],
      "source": [
        "#@markdown Install {pyqrcode} and enter link address\n",
        "!pip install pyqrcode\n",
        "\n",
        "import pyqrcode\n",
        "from pyqrcode import QRCode"
      ]
    },
    {
      "cell_type": "markdown",
      "source": [
        "[Ch06 preview](https://forms.gle/i153MGLSCKK5wRSr9)"
      ],
      "metadata": {
        "id": "B6CxldpFn5AR"
      }
    },
    {
      "cell_type": "code",
      "source": [
        "\n",
        "#@markdown Enter the link, save it as a file, and display\n",
        "s = input(\"Paste the link: \")\n",
        "\n",
        "# Generate QR code\n",
        "url = pyqrcode.create(s)\n",
        "\n",
        "# Create and save the png file naming \"myqr.png\"\n",
        "url.svg(\"myqrcode.svg\", scale=16)\n",
        "\n",
        "from IPython.display import SVG, display\n",
        "def show_svg(file):\n",
        "    display(SVG(file))\n",
        "\n",
        "print(s)\n",
        "show_svg(\"myqrcode.svg\")"
      ],
      "metadata": {
        "cellView": "form",
        "id": "oWBowM0bnZkU"
      },
      "execution_count": null,
      "outputs": []
    }
  ]
}
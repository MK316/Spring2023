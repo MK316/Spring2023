{
  "nbformat": 4,
  "nbformat_minor": 0,
  "metadata": {
    "colab": {
      "provenance": [],
      "authorship_tag": "ABX9TyNWlevRgpCfEGjAOuOmxtoo",
      "include_colab_link": true
    },
    "kernelspec": {
      "name": "python3",
      "display_name": "Python 3"
    },
    "language_info": {
      "name": "python"
    }
  },
  "cells": [
    {
      "cell_type": "markdown",
      "metadata": {
        "id": "view-in-github",
        "colab_type": "text"
      },
      "source": [
        "<a href=\"https://colab.research.google.com/github/MK316/Spring2023/blob/main/Engling/feature_practice.ipynb\" target=\"_parent\"><img src=\"https://colab.research.google.com/assets/colab-badge.svg\" alt=\"Open In Colab\"/></a>"
      ]
    },
    {
      "cell_type": "markdown",
      "source": [
        "# 🌿English consonant feature practice"
      ],
      "metadata": {
        "id": "H9Yk_pG5t2eF"
      }
    },
    {
      "cell_type": "code",
      "execution_count": 23,
      "metadata": {
        "cellView": "form",
        "outputId": "e1c799d2-410c-4efe-f0d6-649801d9af2e",
        "colab": {
          "base_uri": "https://localhost:8080/"
        },
        "id": "QvBjMzlVTfaz"
      },
      "outputs": [
        {
          "output_type": "stream",
          "name": "stdout",
          "text": [
            "🐬24 English consonant phonemes: ['p', 'b', 't', 'd', 'k', 'g', 'f', 'v', 'θ', 'ð', 's', 'z', 'ʃ', 'ʒ', 'h', 'm', 'n', 'ŋ', 'l', 'ɹ', 'j', 'w', 'tʃ', 'dʒ']\n",
            "🐬Each phoneme is stored its features as follows:\n",
            " ('p', ['[-strident]', '[-anterior]', '[-coronal]', '[+consonantal]', '[-sonorant]', '[-syllabic]', '[-nasal]', '[-continuant]', '[-lateral]', '[-Delayed Release]', '[-voice]'])\n"
          ]
        }
      ],
      "source": [
        "#@markdown 📌 24 Consonant phoneme features defined\n",
        "# Define tuples for English consonant phonemes\n",
        "phoneme1 = ('p', ['[-strident]','[-anterior]','[-coronal]','[+consonantal]', '[-sonorant]', '[-syllabic]', '[-nasal]', '[-continuant]', '[-lateral]', '[-Delayed Release]', '[-voice]'])\n",
        "phoneme2 = ('b', ['[-strident]','[-anterior]','[-coronal]','[+consonantal]', '[-sonorant]', '[-syllabic]', '[-nasal]', '[-continuant]', '[-lateral]', '[-Delayed Release]', '[+voice]'])\n",
        "phoneme3 = ('t', ['[-strident]','[+anterior]','[+coronal]','[+consonantal]', '[-sonorant]', '[-syllabic]', '[-nasal]', '[-continuant]', '[-lateral]', '[-Delayed Release]', '[-voice]'])\n",
        "phoneme4 = ('d', ['[-strident]','[+anterior]','[+coronal]','[+consonantal]', '[-sonorant]', '[-syllabic]', '[-nasal]', '[-continuant]', '[-lateral]', '[-Delayed Release]', '[+voice]'])\n",
        "phoneme5 = ('k', ['[-strident]','[-anterior]','[-coronal]','[+consonantal]', '[-sonorant]', '[-syllabic]', '[-nasal]', '[-continuant]', '[-lateral]', '[-Delayed Release]', '[-voice]'])\n",
        "phoneme6 = ('g', ['[-strident]','[-anterior]','[-coronal]','[+consonantal]', '[-sonorant]', '[-syllabic]', '[-nasal]', '[-continuant]', '[-lateral]', '[-Delayed Release]', '[+voice]'])\n",
        "phoneme7 = ('f', ['[-strident]','[-anterior]','[-coronal]','[+consonantal]', '[-sonorant]', '[-syllabic]', '[-nasal]', '[+continuant]', '[-lateral]', '[-Delayed Release]', '[-voice]'])\n",
        "phoneme8 = ('v', ['[-strident]','[-anterior]','[-coronal]','[+consonantal]', '[-sonorant]', '[-syllabic]', '[-nasal]', '[+continuant]', '[-lateral]', '[-Delayed Release]', '[+voice]'])\n",
        "phoneme9 = ('θ', ['[-strident]','[+anterior]','[+coronal]','[+consonantal]', '[-sonorant]', '[-syllabic]', '[-nasal]', '[+continuant]', '[-lateral]', '[-Delayed Release]', '[-voice]'])\n",
        "phoneme10 = ('ð', ['[-strident]','[+anterior]','[+coronal]','[+consonantal]', '[-sonorant]', '[-syllabic]', '[-nasal]', '[+continuant]', '[-lateral]', '[-Delayed Release]', '[+voice]'])\n",
        "phoneme11 = ('s', ['[+strident]','[+anterior]','[+coronal]','[+consonantal]', '[-sonorant]', '[-syllabic]', '[-nasal]', '[+continuant]', '[-lateral]', '[-Delayed Release]', '[-voice]'])\n",
        "phoneme12 = ('z', ['[+strident]','[+anterior]','[+coronal]','[+consonantal]', '[-sonorant]', '[-syllabic]', '[-nasal]', '[+continuant]', '[-lateral]', '[-Delayed Release]', '[+voice]'])\n",
        "phoneme13 = ('ʃ', ['[+strident]','[-anterior]','[+coronal]','[+consonantal]', '[-sonorant]', '[-syllabic]', '[-nasal]', '[+continuant]', '[-lateral]', '[-Delayed Release]', '[-voice]'])\n",
        "phoneme14 = ('ʒ', ['[+strident]','[-anterior]','[+coronal]','[+consonantal]', '[-sonorant]', '[-syllabic]', '[-nasal]', '[+continuant]', '[-lateral]', '[-Delayed Release]', '[+voice]'])\n",
        "phoneme15 = ('h', ['[-strident]','[-anterior]','[-coronal]','[+consonantal]', '[-sonorant]', '[-syllabic]', '[-nasal]', '[+continuant]', '[-lateral]', '[-Delayed Release]', '[-voice]'])\n",
        "phoneme16 = ('m', ['[-strident]','[-anterior]','[-coronal]','[+consonantal]', '[+sonorant]', '[-syllabic]', '[+nasal]', '[-continuant]', '[-lateral]', '[-Delayed Release]', '[+voice]'])\n",
        "phoneme17 = ('n', ['[-strident]','[+anterior]','[+coronal]','[+consonantal]', '[+sonorant]', '[-syllabic]', '[+nasal]', '[-continuant]', '[-lateral]', '[-Delayed Release]', '[+voice]'])\n",
        "phoneme18 = ('ŋ', ['[-strident]','[-anterior]','[-coronal]','[+consonantal]', '[+sonorant]', '[-syllabic]', '[+nasal]', '[-continuant]', '[-lateral]', '[-Delayed Release]', '[+voice]'])\n",
        "phoneme19 = ('l', ['[-strident]','[+anterior]','[+coronal]','[+consonantal]', '[+sonorant]', '[-syllabic]', '[-nasal]', '[+continuant]', '[+lateral]', '[-Delayed Release]', '[+voice]'])\n",
        "phoneme20 = ('ɹ', ['[-strident]','[+anterior]','[+coronal]','[+consonantal]', '[+sonorant]', '[-syllabic]', '[-nasal]', '[+continuant]', '[-lateral]', '[-Delayed Release]', '[+voice]'])\n",
        "phoneme21 = ('j', ['[-strident]','[-anterior]','[-coronal]','[-consonantal]', '[+sonorant]', '[-syllabic]', '[-nasal]', '[+continuant]', '[-lateral]', '[-Delayed Release]', '[+voice]'])\n",
        "phoneme22 = ('w', ['[-strident]','[-anterior]','[-coronal]','[-consonantal]', '[+sonorant]', '[-syllabic]', '[-nasal]', '[+continuant]', '[-lateral]', '[-Delayed Release]', '[+voice]'])\n",
        "phoneme23 = ('tʃ', ['[+strident]','[-anterior]','[+coronal]','[+consonantal]', '[-sonorant]', '[-syllabic]', '[-nasal]', '[-continuant]', '[-lateral]', '[+Delayed Release]', '[-voice]'])\n",
        "phoneme24 = ('dʒ', ['[+strident]','[-anterior]','[+coronal]','[+consonantal]', '[-sonorant]', '[-syllabic]', '[-nasal]', '[-continuant]', '[-lateral]', '[+Delayed Release]', '[+voice]'])\n",
        "\n",
        "\n",
        "# Store tuples in a list\n",
        "phonemes = [phoneme1, phoneme2, phoneme3, phoneme4, phoneme5,\n",
        "                      phoneme6, phoneme7, phoneme8, phoneme9, phoneme10,\n",
        "                      phoneme11, phoneme12, phoneme13, phoneme14, phoneme15,\n",
        "                      phoneme16, phoneme17, phoneme18, phoneme19, phoneme20,\n",
        "                      phoneme21, phoneme22, phoneme23, phoneme24]\n",
        "\n",
        "# Print the list of tuples\n",
        "plist = [] \n",
        "for phoneme in phonemes:\n",
        "    plist.append(phoneme[0])\n",
        "print(f\"🐬24 English consonant phonemes: {plist}\")\n",
        "len(plist)\n",
        "\n",
        "print(f\"🐬Each phoneme is stored its features as follows:\\n {phonemes[0]}\")\n"
      ]
    },
    {
      "cell_type": "markdown",
      "source": [
        "## [1] Random sound list and see their shared features"
      ],
      "metadata": {
        "id": "gX1wiEXVuD6T"
      }
    },
    {
      "cell_type": "code",
      "source": [
        "#@markdown 🐋 Random list and shared features\n",
        "import random\n",
        "\n",
        "# Choose 5 random phonemes from the list\n",
        "random_phonemes = random.sample(phonemes, 5)\n",
        "# Extract the sounds from the tuples and store them in a list\n",
        "sounds = [phoneme[0] for phoneme in random_phonemes]\n",
        "\n",
        "# Print the list of randomly chosen sounds\n",
        "print(f\"Selcted sounds: {sounds}\")\n",
        "print(\"=\"*50)\n",
        "show = input(\"Hit ENTER to see the answer\")\n",
        "print(\"=\"*50)\n",
        "\n",
        "target_element = '+consonantal'  # the element to search for\n",
        "shared_elements = set(random_phonemes[0][1])  # initialize the set of shared elements\n",
        "for phoneme in random_phonemes[1:]:\n",
        "    shared_elements.intersection_update(phoneme[1])  # update the set with the shared elements\n",
        "\n",
        "# Print the shared elements\n",
        "if shared_elements:\n",
        "    shared_elements_str = ', '.join(shared_elements)\n",
        "    print(f\"The randomly chosen phonemes share the following element(s)\\n: {shared_elements_str}\")\n",
        "else:\n",
        "    print(\"None of the randomly chosen phonemes share any element.\")"
      ],
      "metadata": {
        "id": "HMEMoGR4gwuo",
        "cellView": "form",
        "outputId": "3a38a251-68fa-4a7a-e43d-4de37ba5c24b",
        "colab": {
          "base_uri": "https://localhost:8080/"
        }
      },
      "execution_count": 13,
      "outputs": [
        {
          "output_type": "stream",
          "name": "stdout",
          "text": [
            "Selcted sounds: ['j', 'd', 'p', 'h', 'ð']\n",
            "==================================================\n",
            "Hit ENTER to see the answer\n",
            "==================================================\n",
            "The randomly chosen phonemes share the following element(s)\n",
            ": [-syllabic], [-strident], [-Delayed Release], [+consonantal], [-lateral], [-nasal]\n"
          ]
        }
      ]
    },
    {
      "cell_type": "markdown",
      "source": [
        "## [2] Choose the number of sounds to group, and guess one feature shared by them."
      ],
      "metadata": {
        "id": "rachMZZ4uJyl"
      }
    },
    {
      "cell_type": "code",
      "source": [
        "#@markdown 🐋Select number of sounds and see their shared features\n",
        "import random\n",
        "sn = input(\"How many sounds to select? \")\n",
        "sn = int(sn)\n",
        "# Choose 5 random phonemes from the list\n",
        "random_phonemes = random.sample(phonemes, sn)\n",
        "# Extract the sounds from the tuples and store them in a list\n",
        "sounds = [phoneme[0] for phoneme in random_phonemes]\n",
        "\n",
        "# Print the list of randomly chosen sounds\n",
        "print(sounds)\n",
        "print(\"=\"*50)\n",
        "answer = input(\"One common feature?\")\n",
        "\n",
        "target_element = answer  # the element to search for\n",
        "shared_elements = set(random_phonemes[0][1])  # initialize the set of shared elements\n",
        "for phoneme in random_phonemes[1:]:\n",
        "    shared_elements.intersection_update(phoneme[1])  # update the set with the shared elements\n",
        "\n",
        "# Print the shared elements\n",
        "if shared_elements:\n",
        "    shared_elements_str = ', '.join(shared_elements)\n",
        "    print(f\"The phoneme list shares the following element(s): {shared_elements_str}\")\n",
        "else:\n",
        "    print(\"The feature you've provided isn't shared by the phoneme list'.\")"
      ],
      "metadata": {
        "cellView": "form",
        "id": "9Sj-iTGPiNM5",
        "outputId": "9dccc444-ea40-4804-a5a3-052cc176f40e",
        "colab": {
          "base_uri": "https://localhost:8080/"
        }
      },
      "execution_count": 15,
      "outputs": [
        {
          "output_type": "stream",
          "name": "stdout",
          "text": [
            "How many sounds to select? 3\n",
            "['dʒ', 'v', 'g']\n",
            "==================================================\n",
            "One common feature?[+voice]\n",
            "The phoneme list shares the following element(s): [-syllabic], [-sonorant], [+voice], [+consonantal], [-lateral], [-nasal]\n"
          ]
        }
      ]
    },
    {
      "cell_type": "markdown",
      "source": [
        "## [3] Practice with 4 random sounds"
      ],
      "metadata": {
        "id": "d5iS1QeruYL0"
      }
    },
    {
      "cell_type": "code",
      "source": [
        "#@markdown 🐋 Shared feature to check with 4 selected sounds\n",
        "import random\n",
        "\n",
        "# Select and display 4 random phonemes\n",
        "selected_phonemes = random.sample(phonemes, 4)\n",
        "\n",
        "mylist = []\n",
        "for phoneme in selected_phonemes:\n",
        "    mylist.append(phoneme[0])\n",
        "print(\"=\"*50)\n",
        "print(f\"Selected phonemes: {mylist}\")\n",
        "print(\"=\"*50)\n",
        "# Ask user for input\n",
        "\n",
        "user_input = input(\"Enter a feature to check if it is shared by all the sounds listed: \")\n",
        "\n",
        "# Check if the input is shared by all sounds\n",
        "shared = all(user_input in phoneme[1] for phoneme in selected_phonemes)\n",
        "\n",
        "if shared:\n",
        "    print(f\"{user_input} is shared by all the sounds listed.\")\n",
        "else:\n",
        "    print(f\"{user_input} is not shared by the sound list. Try again.\")\n"
      ],
      "metadata": {
        "cellView": "form",
        "id": "RXuOqbaAj6-X",
        "outputId": "f9ee6ef1-8152-4185-ee11-74936033a677",
        "colab": {
          "base_uri": "https://localhost:8080/"
        }
      },
      "execution_count": 16,
      "outputs": [
        {
          "output_type": "stream",
          "name": "stdout",
          "text": [
            "==================================================\n",
            "Selected phonemes: ['g', 'θ', 'k', 'ð']\n",
            "==================================================\n",
            "Enter a feature to check if it is shared by all the sounds listed: [-sonorant]\n",
            "[-sonorant] is shared by all the sounds listed.\n"
          ]
        }
      ]
    },
    {
      "cell_type": "markdown",
      "source": [
        "## [4] Choose the number of sounds to select, and check each shared feature for its value + or -"
      ],
      "metadata": {
        "id": "lTnM_TTbu3GT"
      }
    },
    {
      "cell_type": "code",
      "source": [
        "#@markdown 🐋Select the number of sounds and check + or - for a given feature\n",
        "# Select and display random phonemes\n",
        "sn = input(\"How many sounds to select? \")\n",
        "sn = int(sn)\n",
        "selected_phonemes = random.sample(phonemes, sn)\n",
        "print(\"Selected phonemes:\")\n",
        "mylist = []\n",
        "for phoneme in selected_phonemes:\n",
        "    mylist.append(phoneme[0])\n",
        "\n",
        "print(mylist)\n",
        "print(\"=\"*50)\n",
        "\n",
        "\n",
        "\n",
        "# Find the shared features\n",
        "shared_features = set(selected_phonemes[0][1]).intersection(*[phoneme[1] for phoneme in selected_phonemes[1:]])\n",
        "# shared_features\n",
        "\n",
        "# If there are shared features, ask the user for the + or - sign\n",
        "if shared_features:\n",
        "    for feature in shared_features:\n",
        "        stripped_feature = feature[2:-1]  # Remove the sign from the feature\n",
        "        user_input = input(f\"Enter the sign (+ or -) for the shared feature '{stripped_feature}': \")\n",
        "\n",
        "        if user_input == feature[1]:\n",
        "            print(f\"Correct! The sign for {stripped_feature} is {user_input}.\")\n",
        "        else:\n",
        "            print(f\"Wrong input. Try again.\")\n",
        "else:\n",
        "    print(\"No shared features found.\")"
      ],
      "metadata": {
        "cellView": "form",
        "id": "0Zm5hughlsm6",
        "outputId": "850e42eb-646a-45fa-9281-436800f939e8",
        "colab": {
          "base_uri": "https://localhost:8080/"
        }
      },
      "execution_count": 17,
      "outputs": [
        {
          "output_type": "stream",
          "name": "stdout",
          "text": [
            "How many sounds to select? 3\n",
            "Selected phonemes:\n",
            "['g', 'h', 'm']\n",
            "==================================================\n",
            "Enter the sign (+ or -) for the shared feature 'syllabic': -\n",
            "Correct! The sign for syllabic is -.\n",
            "Enter the sign (+ or -) for the shared feature 'strident': -\n",
            "Correct! The sign for strident is -.\n",
            "Enter the sign (+ or -) for the shared feature 'Delayed Release': -\n",
            "Correct! The sign for Delayed Release is -.\n",
            "Enter the sign (+ or -) for the shared feature 'anterior': -\n",
            "Correct! The sign for anterior is -.\n",
            "Enter the sign (+ or -) for the shared feature 'consonantal': +\n",
            "Correct! The sign for consonantal is +.\n",
            "Enter the sign (+ or -) for the shared feature 'coronal': -\n",
            "Correct! The sign for coronal is -.\n",
            "Enter the sign (+ or -) for the shared feature 'lateral': -\n",
            "Correct! The sign for lateral is -.\n"
          ]
        }
      ]
    },
    {
      "cell_type": "markdown",
      "source": [
        "---\n",
        "# 🌀 Feature game\n",
        "---"
      ],
      "metadata": {
        "id": "6-kr9l1C9vR4"
      }
    },
    {
      "cell_type": "code",
      "execution_count": null,
      "metadata": {
        "cellView": "form",
        "id": "3LZwbqbhSwTC"
      },
      "outputs": [],
      "source": [
        "#@markdown 24 Consonant phoneme features defined\n",
        "# Define tuples for English consonant phonemes\n",
        "phoneme1 = ('p', ['[-strident]','[-anterior]','[-coronal]','[+consonantal]', '[-sonorant]', '[-syllabic]', '[-nasal]', '[-continuant]', '[-lateral]', '[-Delayed Release]', '[-voice]'])\n",
        "phoneme2 = ('b', ['[-strident]','[-anterior]','[-coronal]','[+consonantal]', '[-sonorant]', '[-syllabic]', '[-nasal]', '[-continuant]', '[-lateral]', '[-Delayed Release]', '[+voice]'])\n",
        "phoneme3 = ('t', ['[-strident]','[+anterior]','[+coronal]','[+consonantal]', '[-sonorant]', '[-syllabic]', '[-nasal]', '[-continuant]', '[-lateral]', '[-Delayed Release]', '[-voice]'])\n",
        "phoneme4 = ('d', ['[-strident]','[+anterior]','[+coronal]','[+consonantal]', '[-sonorant]', '[-syllabic]', '[-nasal]', '[-continuant]', '[-lateral]', '[-Delayed Release]', '[+voice]'])\n",
        "phoneme5 = ('k', ['[-strident]','[-anterior]','[-coronal]','[+consonantal]', '[-sonorant]', '[-syllabic]', '[-nasal]', '[-continuant]', '[-lateral]', '[-Delayed Release]', '[-voice]'])\n",
        "phoneme6 = ('g', ['[-strident]','[-anterior]','[-coronal]','[+consonantal]', '[-sonorant]', '[-syllabic]', '[-nasal]', '[-continuant]', '[-lateral]', '[-Delayed Release]', '[+voice]'])\n",
        "phoneme7 = ('f', ['[-strident]','[-anterior]','[-coronal]','[+consonantal]', '[-sonorant]', '[-syllabic]', '[-nasal]', '[+continuant]', '[-lateral]', '[-Delayed Release]', '[-voice]'])\n",
        "phoneme8 = ('v', ['[-strident]','[-anterior]','[-coronal]','[+consonantal]', '[-sonorant]', '[-syllabic]', '[-nasal]', '[+continuant]', '[-lateral]', '[-Delayed Release]', '[+voice]'])\n",
        "phoneme9 = ('θ', ['[-strident]','[+anterior]','[+coronal]','[+consonantal]', '[-sonorant]', '[-syllabic]', '[-nasal]', '[+continuant]', '[-lateral]', '[-Delayed Release]', '[-voice]'])\n",
        "phoneme10 = ('ð', ['[-strident]','[+anterior]','[+coronal]','[+consonantal]', '[-sonorant]', '[-syllabic]', '[-nasal]', '[+continuant]', '[-lateral]', '[-Delayed Release]', '[+voice]'])\n",
        "phoneme11 = ('s', ['[+strident]','[+anterior]','[+coronal]','[+consonantal]', '[-sonorant]', '[-syllabic]', '[-nasal]', '[+continuant]', '[-lateral]', '[-Delayed Release]', '[-voice]'])\n",
        "phoneme12 = ('z', ['[+strident]','[+anterior]','[+coronal]','[+consonantal]', '[-sonorant]', '[-syllabic]', '[-nasal]', '[+continuant]', '[-lateral]', '[-Delayed Release]', '[+voice]'])\n",
        "phoneme13 = ('ʃ', ['[+strident]','[-anterior]','[+coronal]','[+consonantal]', '[-sonorant]', '[-syllabic]', '[-nasal]', '[+continuant]', '[-lateral]', '[-Delayed Release]', '[-voice]'])\n",
        "phoneme14 = ('ʒ', ['[+strident]','[-anterior]','[+coronal]','[+consonantal]', '[-sonorant]', '[-syllabic]', '[-nasal]', '[+continuant]', '[-lateral]', '[-Delayed Release]', '[+voice]'])\n",
        "phoneme15 = ('h', ['[-strident]','[-anterior]','[-coronal]','[+consonantal]', '[-sonorant]', '[-syllabic]', '[-nasal]', '[+continuant]', '[-lateral]', '[-Delayed Release]', '[-voice]'])\n",
        "phoneme16 = ('m', ['[-strident]','[-anterior]','[-coronal]','[+consonantal]', '[+sonorant]', '[-syllabic]', '[+nasal]', '[-continuant]', '[-lateral]', '[-Delayed Release]', '[+voice]'])\n",
        "phoneme17 = ('n', ['[-strident]','[+anterior]','[+coronal]','[+consonantal]', '[+sonorant]', '[-syllabic]', '[+nasal]', '[-continuant]', '[-lateral]', '[-Delayed Release]', '[+voice]'])\n",
        "phoneme18 = ('ŋ', ['[-strident]','[-anterior]','[-coronal]','[+consonantal]', '[+sonorant]', '[-syllabic]', '[+nasal]', '[-continuant]', '[-lateral]', '[-Delayed Release]', '[+voice]'])\n",
        "phoneme19 = ('l', ['[-strident]','[+anterior]','[+coronal]','[+consonantal]', '[+sonorant]', '[-syllabic]', '[-nasal]', '[+continuant]', '[+lateral]', '[-Delayed Release]', '[+voice]'])\n",
        "phoneme20 = ('ɹ', ['[-strident]','[+anterior]','[+coronal]','[+consonantal]', '[+sonorant]', '[-syllabic]', '[-nasal]', '[+continuant]', '[-lateral]', '[-Delayed Release]', '[+voice]'])\n",
        "phoneme21 = ('j', ['[-strident]','[-anterior]','[-coronal]','[-consonantal]', '[+sonorant]', '[-syllabic]', '[-nasal]', '[+continuant]', '[-lateral]', '[-Delayed Release]', '[+voice]'])\n",
        "phoneme22 = ('w', ['[-strident]','[-anterior]','[-coronal]','[-consonantal]', '[+sonorant]', '[-syllabic]', '[-nasal]', '[+continuant]', '[-lateral]', '[-Delayed Release]', '[+voice]'])\n",
        "phoneme23 = ('tʃ', ['[+strident]','[-anterior]','[+coronal]','[+consonantal]', '[-sonorant]', '[-syllabic]', '[-nasal]', '[-continuant]', '[-lateral]', '[+Delayed Release]', '[-voice]'])\n",
        "phoneme24 = ('dʒ', ['[+strident]','[-anterior]','[+coronal]','[+consonantal]', '[-sonorant]', '[-syllabic]', '[-nasal]', '[-continuant]', '[-lateral]', '[+Delayed Release]', '[+voice]'])\n",
        "\n",
        "\n",
        "# Store tuples in a list\n",
        "phonemes = [phoneme1, phoneme2, phoneme3, phoneme4, phoneme5,\n",
        "                      phoneme6, phoneme7, phoneme8, phoneme9, phoneme10,\n",
        "                      phoneme11, phoneme12, phoneme13, phoneme14, phoneme15,\n",
        "                      phoneme16, phoneme17, phoneme18, phoneme19, phoneme20,\n",
        "                      phoneme21, phoneme22, phoneme23, phoneme24]\n",
        "\n",
        "# Print the list of tuples\n",
        "plist = [] \n",
        "for phoneme in phonemes:\n",
        "    plist.append(phoneme[0])\n",
        "print(f\"🐬24 English consonant phonemes: {plist}\")\n",
        "len(plist)\n",
        "\n",
        "print(f\"🐬Each phoneme is stored its features as follows:\\n {phonemes[0]}\")\n"
      ]
    },
    {
      "cell_type": "code",
      "source": [
        "#@markdown 📌Feature play with time limit: Time set, Group number, Number of sounds to select\n",
        "import random\n",
        "import time\n",
        "\n",
        "# Initialize the user's score to zero\n",
        "score = 0\n",
        "\n",
        "# Set the time limit (in seconds)\n",
        "timeset = input(\"Time setting in seconds: \")\n",
        "timeset = int(timeset)\n",
        "time_limit = timeset\n",
        "\n",
        "# Select and display random phonemes\n",
        "group = input(\"Your group? \")\n",
        "sn = input(\"How many sounds to select? \")\n",
        "sn = int(sn)\n",
        "selected_phonemes = random.sample(phonemes, sn)\n",
        "print(\"Selected phonemes:\")\n",
        "mylist = []\n",
        "for phoneme in selected_phonemes:\n",
        "    mylist.append(phoneme[0])\n",
        "\n",
        "print(mylist)\n",
        "print(\"=\"*50)\n",
        "\n",
        "# Find the shared features\n",
        "shared_features = set(selected_phonemes[0][1]).intersection(*[phoneme[1] for phoneme in selected_phonemes[1:]])\n",
        "\n",
        "# If there are shared features, ask the user for the + or - sign\n",
        "if shared_features:\n",
        "    start_time = time.time()  # Start the timer\n",
        "    while (time.time() - start_time) < time_limit:  # Run the loop until the time limit is reached\n",
        "        for feature in shared_features:\n",
        "            stripped_feature = feature[2:-1]  # Remove the sign from the feature\n",
        "            user_input = input(f\"Enter the sign (+ or -) for the shared feature '{stripped_feature}': \")\n",
        "\n",
        "            if user_input == feature[1]:\n",
        "                print(f\"Correct! The sign for {stripped_feature} is {user_input}.\")\n",
        "                score += 1  # Increment the user's score if the answer is correct\n",
        "            else:\n",
        "                print(f\"Wrong input. Try again.\")\n",
        "            if (time.time() - start_time) >= time_limit:  # End the loop if the time limit is reached\n",
        "                break\n",
        "    else:\n",
        "        print(\"Time's up! Game over.\")\n",
        "else:\n",
        "    print(\"No shared features found.\")\n",
        "\n",
        "print(f\"{group} has scored {score} points.\")\n"
      ],
      "metadata": {
        "cellView": "form",
        "id": "LLwgzGOF_uqI",
        "outputId": "efd88576-886c-4680-d045-7847faac8303",
        "colab": {
          "base_uri": "https://localhost:8080/"
        }
      },
      "execution_count": 34,
      "outputs": [
        {
          "output_type": "stream",
          "name": "stdout",
          "text": [
            "Time setting in seconds: 30\n",
            "Your group? G5\n",
            "How many sounds to select? 4\n",
            "Selected phonemes:\n",
            "['θ', 'v', 'h', 't']\n",
            "==================================================\n",
            "Enter the sign (+ or -) for the shared feature 'syllabic': -\n",
            "Correct! The sign for syllabic is -.\n",
            "Enter the sign (+ or -) for the shared feature 'strident': -\n",
            "Correct! The sign for strident is -.\n",
            "Enter the sign (+ or -) for the shared feature 'Delayed Release': -\n",
            "Correct! The sign for Delayed Release is -.\n",
            "Enter the sign (+ or -) for the shared feature 'sonorant': -\n",
            "Correct! The sign for sonorant is -.\n",
            "Enter the sign (+ or -) for the shared feature 'consonantal': +\n",
            "Correct! The sign for consonantal is +.\n",
            "Enter the sign (+ or -) for the shared feature 'lateral': -\n",
            "Correct! The sign for lateral is -.\n",
            "Enter the sign (+ or -) for the shared feature 'nasal': -\n",
            "Correct! The sign for nasal is -.\n",
            "Enter the sign (+ or -) for the shared feature 'syllabic': -\n",
            "Correct! The sign for syllabic is -.\n",
            "Enter the sign (+ or -) for the shared feature 'strident': -\n",
            "Correct! The sign for strident is -.\n",
            "Time's up! Game over.\n",
            "G5 has scored 9 points.\n"
          ]
        }
      ]
    },
    {
      "cell_type": "code",
      "source": [
        "G1 = \n",
        "G2 = 10 + 20 + 15 + 46\n",
        "G3 =\n",
        "G4 =\n",
        "G5 = 16 + 11 + 18 + 9\n",
        "G6 = \n",
        "G7 = \n",
        "G8 = \n",
        "\n",
        "print(f\"G1: {G1}\")\n",
        "print(f\"G2: {G2}\")\n",
        "print(f\"G3: {G3}\")\n",
        "print(f\"G4: {G4}\")\n",
        "print(f\"G5: {G5}\")\n",
        "print(f\"G6: {G6}\")\n",
        "print(f\"G7: {G7}\")\n",
        "print(f\"G8: {G8}\")"
      ],
      "metadata": {
        "id": "X9frrI30BZeR"
      },
      "execution_count": null,
      "outputs": []
    },
    {
      "cell_type": "markdown",
      "source": [
        "G1 = \n",
        "G2 = 10 + 20 + 15 + 46\n",
        "G3 =\n",
        "G4 =\n",
        "G5 = 16 + 11 + 18 + 9\n",
        "G6 = \n",
        "G7 = \n",
        "G8 = \n",
        "\n",
        "print(f\"G1: {G1}\")\n",
        "print(f\"G2: {G2}\")\n",
        "print(f\"G3: {G3}\")\n",
        "print(f\"G4: {G4}\")\n",
        "print(f\"G5: {G5}\")\n",
        "print(f\"G6: {G6}\")\n",
        "print(f\"G7: {G7}\")\n",
        "print(f\"G8: {G8}\")"
      ],
      "metadata": {
        "id": "l_BWjxuLYKoi"
      }
    },
    {
      "cell_type": "markdown",
      "source": [
        "[Group activity log](https://docs.google.com/spreadsheets/d/10ugJ1dj6NN6fTsxfINcWedX2fxDrDL9yjkX1V6iXKYk/edit?usp=sharing)"
      ],
      "metadata": {
        "id": "JWIl_7Hu22jK"
      }
    }
  ]
}
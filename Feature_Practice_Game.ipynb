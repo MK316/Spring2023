{
  "nbformat": 4,
  "nbformat_minor": 0,
  "metadata": {
    "colab": {
      "provenance": [],
      "authorship_tag": "ABX9TyNr88kzlmX7p98utTzz1fK0",
      "include_colab_link": true
    },
    "kernelspec": {
      "name": "python3",
      "display_name": "Python 3"
    },
    "language_info": {
      "name": "python"
    }
  },
  "cells": [
    {
      "cell_type": "markdown",
      "metadata": {
        "id": "view-in-github",
        "colab_type": "text"
      },
      "source": [
        "<a href=\"https://colab.research.google.com/github/MK316/Spring2023/blob/main/Feature_Practice_Game.ipynb\" target=\"_parent\"><img src=\"https://colab.research.google.com/assets/colab-badge.svg\" alt=\"Open In Colab\"/></a>"
      ]
    },
    {
      "cell_type": "markdown",
      "source": [
        "# 🍀 Distinctive Feature practice with English sounds: (revised asof 4/25)\n",
        "\n",
        "+ Why some sounds group together and involve in a certain pronunciation rule?\n",
        "+ What is natural class of sounds?\n",
        "+ In Feature theory, it is explained that sounds sharing certain features can behave together. In addition, rules are applied to features rather than specific sound segments.\n",
        "\n",
        "In this activity, you can practice what features a certain group of sounds share.\n",
        "\n",
        "**Note** that /h/ sound is excluded in this practice, resulting in 23 English consonants. (In our textbook, /h/ is specified as [-consonantal])"
      ],
      "metadata": {
        "id": "_-ossGaN0Iff"
      }
    },
    {
      "cell_type": "code",
      "execution_count": 1,
      "metadata": {
        "cellView": "form",
        "outputId": "6d3211be-9c1e-4e27-9658-2250acae8166",
        "colab": {
          "base_uri": "https://localhost:8080/"
        },
        "id": "kSPnIwJfZdC9"
      },
      "outputs": [
        {
          "output_type": "stream",
          "name": "stdout",
          "text": [
            "23 English consonant phonemes (h is removed): ['p', 'b', 't', 'd', 'k', 'g', 'f', 'v', 'θ', 'ð', 's', 'z', 'ʃ', 'ʒ', 'm', 'n', 'ŋ', 'l', 'ɹ', 'j', 'w', 'tʃ', 'dʒ']\n",
            "==================================================\n",
            "Each phoneme is stored its features as follows:\n",
            "==================================================\n",
            "('p', ['[-strident]', '[-anterior]', '[-coronal]', '[+consonantal]', '[-sonorant]', '[-syllabic]', '[-nasal]', '[-continuant]', '[-lateral]', '[-Delayed Release]', '[-voice]'])\n"
          ]
        }
      ],
      "source": [
        "#@markdown 📌 Setup: 23 Consonant phoneme features defined (h is removed)\n",
        "# Define tuples for English consonant phonemes\n",
        "phoneme1 = ('p', ['[-strident]','[-anterior]','[-coronal]','[+consonantal]', '[-sonorant]', '[-syllabic]', '[-nasal]', '[-continuant]', '[-lateral]', '[-Delayed Release]', '[-voice]'])\n",
        "phoneme2 = ('b', ['[-strident]','[-anterior]','[-coronal]','[+consonantal]', '[-sonorant]', '[-syllabic]', '[-nasal]', '[-continuant]', '[-lateral]', '[-Delayed Release]', '[+voice]'])\n",
        "phoneme3 = ('t', ['[-strident]','[+anterior]','[+coronal]','[+consonantal]', '[-sonorant]', '[-syllabic]', '[-nasal]', '[-continuant]', '[-lateral]', '[-Delayed Release]', '[-voice]'])\n",
        "phoneme4 = ('d', ['[-strident]','[+anterior]','[+coronal]','[+consonantal]', '[-sonorant]', '[-syllabic]', '[-nasal]', '[-continuant]', '[-lateral]', '[-Delayed Release]', '[+voice]'])\n",
        "phoneme5 = ('k', ['[-strident]','[-anterior]','[-coronal]','[+consonantal]', '[-sonorant]', '[-syllabic]', '[-nasal]', '[-continuant]', '[-lateral]', '[-Delayed Release]', '[-voice]'])\n",
        "phoneme6 = ('g', ['[-strident]','[-anterior]','[-coronal]','[+consonantal]', '[-sonorant]', '[-syllabic]', '[-nasal]', '[-continuant]', '[-lateral]', '[-Delayed Release]', '[+voice]'])\n",
        "phoneme7 = ('f', ['[-strident]','[-anterior]','[-coronal]','[+consonantal]', '[-sonorant]', '[-syllabic]', '[-nasal]', '[+continuant]', '[-lateral]', '[-Delayed Release]', '[-voice]'])\n",
        "phoneme8 = ('v', ['[-strident]','[-anterior]','[-coronal]','[+consonantal]', '[-sonorant]', '[-syllabic]', '[-nasal]', '[+continuant]', '[-lateral]', '[-Delayed Release]', '[+voice]'])\n",
        "phoneme9 = ('θ', ['[-strident]','[+anterior]','[+coronal]','[+consonantal]', '[-sonorant]', '[-syllabic]', '[-nasal]', '[+continuant]', '[-lateral]', '[-Delayed Release]', '[-voice]'])\n",
        "phoneme10 = ('ð', ['[-strident]','[+anterior]','[+coronal]','[+consonantal]', '[-sonorant]', '[-syllabic]', '[-nasal]', '[+continuant]', '[-lateral]', '[-Delayed Release]', '[+voice]'])\n",
        "phoneme11 = ('s', ['[+strident]','[+anterior]','[+coronal]','[+consonantal]', '[-sonorant]', '[-syllabic]', '[-nasal]', '[+continuant]', '[-lateral]', '[-Delayed Release]', '[-voice]'])\n",
        "phoneme12 = ('z', ['[+strident]','[+anterior]','[+coronal]','[+consonantal]', '[-sonorant]', '[-syllabic]', '[-nasal]', '[+continuant]', '[-lateral]', '[-Delayed Release]', '[+voice]'])\n",
        "phoneme13 = ('ʃ', ['[+strident]','[-anterior]','[+coronal]','[+consonantal]', '[-sonorant]', '[-syllabic]', '[-nasal]', '[+continuant]', '[-lateral]', '[-Delayed Release]', '[-voice]'])\n",
        "phoneme14 = ('ʒ', ['[+strident]','[-anterior]','[+coronal]','[+consonantal]', '[-sonorant]', '[-syllabic]', '[-nasal]', '[+continuant]', '[-lateral]', '[-Delayed Release]', '[+voice]'])\n",
        "#phoneme15 = ('h', ['[-strident]','[-anterior]','[-coronal]','[-consonantal]', '[-sonorant]', '[-syllabic]', '[-nasal]', '[+continuant]', '[-lateral]', '[-Delayed Release]', '[-voice]'])\n",
        "phoneme16 = ('m', ['[-strident]','[-anterior]','[-coronal]','[+consonantal]', '[+sonorant]', '[-syllabic]', '[+nasal]', '[-continuant]', '[-lateral]', '[-Delayed Release]', '[+voice]'])\n",
        "phoneme17 = ('n', ['[-strident]','[+anterior]','[+coronal]','[+consonantal]', '[+sonorant]', '[-syllabic]', '[+nasal]', '[-continuant]', '[-lateral]', '[-Delayed Release]', '[+voice]'])\n",
        "phoneme18 = ('ŋ', ['[-strident]','[-anterior]','[-coronal]','[+consonantal]', '[+sonorant]', '[-syllabic]', '[+nasal]', '[-continuant]', '[-lateral]', '[-Delayed Release]', '[+voice]'])\n",
        "phoneme19 = ('l', ['[-strident]','[+anterior]','[+coronal]','[+consonantal]', '[+sonorant]', '[-syllabic]', '[-nasal]', '[+continuant]', '[+lateral]', '[-Delayed Release]', '[+voice]'])\n",
        "phoneme20 = ('ɹ', ['[-strident]','[+anterior]','[+coronal]','[+consonantal]', '[+sonorant]', '[-syllabic]', '[-nasal]', '[+continuant]', '[-lateral]', '[-Delayed Release]', '[+voice]'])\n",
        "phoneme21 = ('j', ['[-strident]','[-anterior]','[-coronal]','[-consonantal]', '[+sonorant]', '[-syllabic]', '[-nasal]', '[+continuant]', '[-lateral]', '[-Delayed Release]', '[+voice]'])\n",
        "phoneme22 = ('w', ['[-strident]','[-anterior]','[-coronal]','[-consonantal]', '[+sonorant]', '[-syllabic]', '[-nasal]', '[+continuant]', '[-lateral]', '[-Delayed Release]', '[+voice]'])\n",
        "phoneme23 = ('tʃ', ['[+strident]','[-anterior]','[+coronal]','[+consonantal]', '[-sonorant]', '[-syllabic]', '[-nasal]', '[-continuant]', '[-lateral]', '[+Delayed Release]', '[-voice]'])\n",
        "phoneme24 = ('dʒ', ['[+strident]','[-anterior]','[+coronal]','[+consonantal]', '[-sonorant]', '[-syllabic]', '[-nasal]', '[-continuant]', '[-lateral]', '[+Delayed Release]', '[+voice]'])\n",
        "\n",
        "\n",
        "# Store tuples in a list\n",
        "phonemes = [phoneme1, phoneme2, phoneme3, phoneme4, phoneme5,\n",
        "                      phoneme6, phoneme7, phoneme8, phoneme9, phoneme10,\n",
        "                      phoneme11, phoneme12, phoneme13, phoneme14,\n",
        "                      phoneme16, phoneme17, phoneme18, phoneme19, phoneme20,\n",
        "                      phoneme21, phoneme22, phoneme23, phoneme24]\n",
        "\n",
        "# Print the list of tuples\n",
        "plist = [] \n",
        "for phoneme in phonemes:\n",
        "    plist.append(phoneme[0])\n",
        "print(f\"23 English consonant phonemes (h is removed): {plist}\")\n",
        "print(\"=\"*50)\n",
        "len(plist)\n",
        "\n",
        "print(\"Each phoneme is stored its features as follows:\")\n",
        "print(\"=\"*50)\n",
        "print(f\"{phonemes[0]}\")\n"
      ]
    },
    {
      "cell_type": "markdown",
      "source": [
        "# How to play: the user will be asked to type \"+\" or \"-\" for a specific feature\n",
        "\n",
        "e.g., [f, v] for 'consonantal'? \n",
        "\n",
        "You can type \"+\" and ENTER for continue."
      ],
      "metadata": {
        "id": "BHIdlsCm2BUz"
      }
    },
    {
      "cell_type": "code",
      "source": [
        "#@markdown 🌀 Run to Play\n",
        "#@markdown - 1. Set time limit: Time set in seconds (e.g., 30 for 30 seconds)\n",
        "#@markdown - 2. Your name, (e.g., Mary)\n",
        "#@markdown - 3. Number of sounds to select randomly (e.g., 3 for 3 sounds)\n",
        "import random\n",
        "import time\n",
        "\n",
        "# Initialize the user's score to zero\n",
        "score = 0\n",
        "\n",
        "# Set the time limit (in seconds)\n",
        "timeset = input(\"Time setting in seconds: \")\n",
        "timeset = int(timeset)\n",
        "time_limit = timeset\n",
        "\n",
        "# Select and display random phonemes\n",
        "group = input(\"Your name? \")\n",
        "sn = input(\"How many sounds to select? \")\n",
        "sn = int(sn)\n",
        "selected_phonemes = random.sample(phonemes, sn)\n",
        "print(\"Selected phonemes:\")\n",
        "mylist = []\n",
        "for phoneme in selected_phonemes:\n",
        "    mylist.append(phoneme[0])\n",
        "\n",
        "print(mylist)\n",
        "print(\"=\"*50)\n",
        "\n",
        "# Find the shared features\n",
        "shared_features = set(selected_phonemes[0][1]).intersection(*[phoneme[1] for phoneme in selected_phonemes[1:]])\n",
        "\n",
        "# If there are shared features, ask the user for the + or - sign\n",
        "if shared_features:\n",
        "    start_time = time.time()  # Start the timer\n",
        "    while (time.time() - start_time) < time_limit:  # Run the loop until the time limit is reached\n",
        "        for feature in shared_features:\n",
        "            stripped_feature = feature[2:-1]  # Remove the sign from the feature\n",
        "            print(f\"Selected phonemes: {mylist}\")\n",
        "            user_input = input(f\"Enter the sign (+ or -) for the shared feature '{stripped_feature}': \")\n",
        "\n",
        "            if user_input == feature[1]:\n",
        "                print(f\"Correct! The sign for {stripped_feature} is {user_input}.\")\n",
        "                print(\"=\"*30)\n",
        "                score += 1  # Increment the user's score if the answer is correct\n",
        "            else:\n",
        "                print(f\"Wrong input. Try again.\")\n",
        "            if (time.time() - start_time) >= time_limit:  # End the loop if the time limit is reached\n",
        "                break\n",
        "    else:\n",
        "        print(\"Time's up! Game over.\")\n",
        "else:\n",
        "    print(\"No shared features found.\")\n",
        "\n",
        "# print(f\"{group} has scored {score} points.\")\n",
        "# perc = (score/(len(shared_features)+1))*100\n",
        "# print(f\"{group} has scored {perc} percent.\")\n",
        "\n",
        "perc = (score/(len(shared_features)))*100\n",
        "print(f\"{group} has scored {score} points out of {len(shared_features)} possible points. ({perc:.2f} %)\")\n",
        "print(\"=\"*30)\n",
        "print(f\"All shared features are: {shared_features}\")"
      ],
      "metadata": {
        "cellView": "form",
        "id": "LLwgzGOF_uqI",
        "colab": {
          "base_uri": "https://localhost:8080/"
        },
        "outputId": "234748a9-6d23-41f7-dcae-e27d50d84d99"
      },
      "execution_count": 3,
      "outputs": [
        {
          "output_type": "stream",
          "name": "stdout",
          "text": [
            "Time setting in seconds: 5\n",
            "Your name? kmr\n",
            "How many sounds to select? 2\n",
            "Selected phonemes:\n",
            "['ʒ', 'n']\n",
            "==================================================\n",
            "Selected phonemes: ['ʒ', 'n']\n",
            "Enter the sign (+ or -) for the shared feature 'voice': +\n",
            "Correct! The sign for voice is +.\n",
            "==============================\n",
            "Selected phonemes: ['ʒ', 'n']\n",
            "Enter the sign (+ or -) for the shared feature 'consonantal': +\n",
            "Correct! The sign for consonantal is +.\n",
            "==============================\n",
            "Time's up! Game over.\n",
            "kmr has scored 2 points out of 6 possible points. (33.33 %)\n",
            "==============================\n",
            "All shared features are: {'[+voice]', '[+consonantal]', '[-Delayed Release]', '[-lateral]', '[+coronal]', '[-syllabic]'}\n"
          ]
        }
      ]
    }
  ]
}
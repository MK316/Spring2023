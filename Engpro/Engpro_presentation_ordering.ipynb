{
  "nbformat": 4,
  "nbformat_minor": 0,
  "metadata": {
    "colab": {
      "private_outputs": true,
      "provenance": [],
      "authorship_tag": "ABX9TyO2gws7JL7rTz9fJnhhRoIx",
      "include_colab_link": true
    },
    "kernelspec": {
      "name": "python3",
      "display_name": "Python 3"
    },
    "language_info": {
      "name": "python"
    }
  },
  "cells": [
    {
      "cell_type": "markdown",
      "metadata": {
        "id": "view-in-github",
        "colab_type": "text"
      },
      "source": [
        "<a href=\"https://colab.research.google.com/github/MK316/Spring2023/blob/main/Engpro/Engpro_presentation_ordering.ipynb\" target=\"_parent\"><img src=\"https://colab.research.google.com/assets/colab-badge.svg\" alt=\"Open In Colab\"/></a>"
      ]
    },
    {
      "cell_type": "markdown",
      "source": [
        "# Presentation order"
      ],
      "metadata": {
        "id": "CzuIMj2qWKML"
      }
    },
    {
      "cell_type": "code",
      "execution_count": null,
      "metadata": {
        "id": "5A76VLuhWJk6"
      },
      "outputs": [],
      "source": [
        "import random\n",
        "import pandas as pd"
      ]
    },
    {
      "cell_type": "markdown",
      "source": [
        "## Presentation groups\n",
        "\n",
        "+ Group1: 6/15 (N=5) => N = 7\n",
        "+ Group2: 6/20 (N = 13) => N = 12\n",
        "+ Video: 6/20 (N = 8)"
      ],
      "metadata": {
        "id": "MYGfktjTWO8L"
      }
    },
    {
      "cell_type": "code",
      "source": [
        "group1 = [\"노하정\",\"이유찬\",\"정서윤\",\"정서현\",\"하지함\"]\n",
        "group2 = [\"방예원\",\"양태경\",\"강주애\",\"김나영\",\"김류경\",\"김정민\",\"박소연\",\"박신영\",\"박혜원\",\"이나현\",\"이다혜\",\"임서영\",\"정해윤\"]"
      ],
      "metadata": {
        "id": "8gimyzsYWN76"
      },
      "execution_count": null,
      "outputs": []
    },
    {
      "cell_type": "markdown",
      "source": [
        "## Move 2 students to Group1"
      ],
      "metadata": {
        "id": "ijCpXI66bUb9"
      }
    },
    {
      "cell_type": "code",
      "source": [
        "group2 = [\"방예원\",\"양태경\",\"강주애\",\"김나영\",\"김류경\",\"김정민\",\"박소연\",\"박신영\",\"박혜원\",\"이나현\",\"이다혜\",\"임서영\",\"정해윤\"]\n",
        "temp = [\"강주애\",\"김나영\",\"김류경\",\"김정민\",\"박소연\",\"박신영\",\"박혜원\",\"이나현\",\"이다혜\",\"임서영\",\"정해윤\"]\n",
        "# choose 2 items randomly\n",
        "random_items = random.sample(temp, 2)\n",
        "\n",
        "print(random_items)"
      ],
      "metadata": {
        "id": "SLd3-PCxZkWh"
      },
      "execution_count": null,
      "outputs": []
    },
    {
      "cell_type": "code",
      "source": [
        "newgroup1 = group1 + random_items\n",
        "newgroup2 = [item for item in group2 if item not in random_items]\n",
        "\n",
        "print(newgroup1)\n",
        "print(newgroup2)"
      ],
      "metadata": {
        "id": "lRBJG-30Z7Hx"
      },
      "execution_count": null,
      "outputs": []
    },
    {
      "cell_type": "markdown",
      "source": [
        "## Group 2 Ordering"
      ],
      "metadata": {
        "id": "TK5Fc0CVc2Sd"
      }
    },
    {
      "cell_type": "code",
      "source": [
        "print(\"Before shuffling:\", newgroup2)\n",
        "\n",
        "random.shuffle(newgroup2)\n",
        "print(\"After shuffling:\", newgroup2)\n",
        "\n",
        "# convert the list to a DataFrame\n",
        "df = pd.DataFrame(newgroup2, columns=['Names'])\n",
        "df['Order'] = df.index + 1\n",
        "# add the 'Order' column representing index + 1\n",
        "df = df[['Order', 'Names']]\n",
        "print(df.to_string(index=False))"
      ],
      "metadata": {
        "id": "7SLiQJUQXSEh"
      },
      "execution_count": null,
      "outputs": []
    },
    {
      "cell_type": "markdown",
      "source": [
        "## Group1 ordering"
      ],
      "metadata": {
        "id": "50vR4wqkbL4r"
      }
    },
    {
      "cell_type": "code",
      "source": [
        "print(\"Before shuffling:\", newgroup1)\n",
        "random.shuffle(newgroup1)\n",
        "print(\"After shuffling:\", newgroup1)\n",
        "\n",
        "# convert the list to a DataFrame\n",
        "df = pd.DataFrame(newgroup1, columns=['Words'])\n",
        "\n",
        "# add the 'Order' column representing index + 1\n",
        "df['Order'] = df.index + 1\n",
        "df = df[['Order', 'Words']]\n",
        "print(df.to_string(index=False))"
      ],
      "metadata": {
        "id": "5n_iUTOabLWg"
      },
      "execution_count": null,
      "outputs": []
    },
    {
      "cell_type": "markdown",
      "source": [
        "# Saving\n",
        "\n",
        "[link](https://docs.google.com/spreadsheets/d/1u0bkUzaQC4Vcl3QCc4i0IsLn4TeJ7_ddkAXkTZGuIVk/edit?usp=sharing)"
      ],
      "metadata": {
        "id": "c1TklEzM514s"
      }
    }
  ]
}
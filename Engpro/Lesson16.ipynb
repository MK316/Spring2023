{
  "nbformat": 4,
  "nbformat_minor": 0,
  "metadata": {
    "colab": {
      "private_outputs": true,
      "provenance": [],
      "authorship_tag": "ABX9TyOTC1mwiIiiH7dh/nmCENX6",
      "include_colab_link": true
    },
    "kernelspec": {
      "name": "python3",
      "display_name": "Python 3"
    },
    "language_info": {
      "name": "python"
    }
  },
  "cells": [
    {
      "cell_type": "markdown",
      "metadata": {
        "id": "view-in-github",
        "colab_type": "text"
      },
      "source": [
        "<a href=\"https://colab.research.google.com/github/MK316/Spring2023/blob/main/Engpro/Lesson16.ipynb\" target=\"_parent\"><img src=\"https://colab.research.google.com/assets/colab-badge.svg\" alt=\"Open In Colab\"/></a>"
      ]
    },
    {
      "cell_type": "markdown",
      "source": [
        "# 🐾 Engpro: Lession 16 English plural, Possessive, and 3rd person singular 'e(s)'"
      ],
      "metadata": {
        "id": "l17UBYMj_MT-"
      }
    },
    {
      "cell_type": "code",
      "source": [
        "#@markdown Setup\n",
        "\n",
        "!pip install gtts\n",
        "from gtts import gTTS\n",
        "import pandas as pd\n",
        "from IPython.display import Audio"
      ],
      "metadata": {
        "id": "r4FKOV95_ebs",
        "cellView": "form"
      },
      "execution_count": null,
      "outputs": []
    },
    {
      "cell_type": "code",
      "execution_count": null,
      "metadata": {
        "cellView": "form",
        "id": "CdiH7JuD_L0v"
      },
      "outputs": [],
      "source": [
        "#@markdown Define etts(), 'sample.mp3'\n",
        "def etts(mytext):\n",
        "    tts = gTTS(mytext)\n",
        "    tts.save('sample.mp3')\n",
        "    return Audio('sample.mp3', autoplay=True)"
      ]
    },
    {
      "cell_type": "markdown",
      "source": [
        "## [1] Plural forms"
      ],
      "metadata": {
        "id": "p6cCuA0xpBYc"
      }
    },
    {
      "cell_type": "markdown",
      "source": [
        "Singular forms"
      ],
      "metadata": {
        "id": "yvtceXZrvZt5"
      }
    },
    {
      "cell_type": "code",
      "source": [
        "types = \"1\" #@param = [1,2,3]\n",
        "\n",
        "sn = int(types) -1\n",
        "\n",
        "wlist = [\"cap, map, bet, hat, duck, peak, chef, path, truth, graph\", \n",
        "         'cab, mob, bed, seed, dog, bag, cave, gem, sun, feel, fur, cue, tow, robe, lid, rug, hive, drum, bun, seal, car',\n",
        "         'class, fuzz, dish, rouge, church, judge, pass, buzz, brush, beige, catch, edge, grass, whizz, rush, garage, match, bridge, glass, jazz']\n",
        "\n",
        "mytext = wlist[sn]\n",
        "\n",
        "etts(mytext)\n",
        "Audio('sample.mp3',autoplay=True)"
      ],
      "metadata": {
        "cellView": "form",
        "id": "pzEK8_D9tWLg"
      },
      "execution_count": null,
      "outputs": []
    },
    {
      "cell_type": "markdown",
      "source": [
        "Plural forms"
      ],
      "metadata": {
        "id": "OJ8lEcc7tXSt"
      }
    },
    {
      "cell_type": "code",
      "source": [
        "types = \"1\" #@param = [1,2,3]\n",
        "\n",
        "sn = int(types) -1\n",
        "\n",
        "wlist = [\"craft, leaf, path, brush, match, pitch, bath, cloth, truth, booth, graph, coach, watch, faith, lunch, inch, beach, flash, duck, lock\",\n",
        "         'cab, bed, dog, dive, gem, sun, feel, fur, cue, tow, robe, lid, rug, hive, drum, bun, seal, car, you, stow',\n",
        "         'class, fuzz, dish, rouge, church, judge, pass, buzz, brush, beige, catch, edge, grass, whizz, rush, garage, match, bridge, glass, jazz']\n",
        "\n",
        "wlist_plural = []\n",
        "for group in wlist:\n",
        "    words = group.split(', ')\n",
        "    for i, word in enumerate(words):\n",
        "        if word.endswith(('s', 'z', 'ch', 'sh', 'x')):\n",
        "            words[i] = word + 'es'\n",
        "        else:\n",
        "            words[i] = word + 's'\n",
        "    wlist_plural.append(', '.join(words))\n",
        "\n",
        "print(wlist_plural)\n",
        "\n",
        "mytext = wlist_plural[sn]\n",
        "\n",
        "etts(mytext)\n",
        "Audio('sample.mp3',autoplay=True)"
      ],
      "metadata": {
        "cellView": "form",
        "id": "cm_l26JRuaDI"
      },
      "execution_count": null,
      "outputs": []
    },
    {
      "cell_type": "markdown",
      "source": [
        "## Possessive"
      ],
      "metadata": {
        "id": "t3iQckPNvfvs"
      }
    },
    {
      "cell_type": "code",
      "source": [
        "\n",
        "names = \"1. James\" #@param = ['1. James', '2. John', '3. Robert', '4. Michael', '5. William', '6. David', '7. Richard', '8. Joseph', '9. Thomas', '10. Charles', '11. Patricia', '12. Jennifer', '13. Linda', '14. Elizabeth', '15. Susan', '16. Jessica', '17. Sarah', '18. Karen', '19. Nancy', '20. Miran']\n",
        "sm = names.split(\". \")\n",
        "sn = int(sm[0])-1\n",
        "\n",
        "name_list = ['1. James', '2. John', '3. Robert', '4. Michael', '5. William', '6. David', '7. Richard', '8. Joseph', '9. Thomas', '10. Charles', '11. Patricia', '12. Jennifer', '13. Linda', '14. Elizabeth', '15. Susan', '16. Jessica', '17. Sarah', '18. Karen', '19. Nancy', '20. Miran']\n",
        "etts(mytext)\n",
        "Audio('sample.mp3')"
      ],
      "metadata": {
        "id": "kWNAV7BGvi-n"
      },
      "execution_count": null,
      "outputs": []
    },
    {
      "cell_type": "code",
      "source": [
        "import random\n",
        "names = \"1. James\" #@param = ['1. James', '2. John', '3. Robert', '4. Michael', '5. William', '6. David', '7. Richard', '8. Joseph', '9. Thomas', '10. Charles', '11. Patricia', '12. Jennifer', '13. Linda', '14. Elizabeth', '15. Susan', '16. Jessica', '17. Sarah', '18. Karen', '19. Nancy', '20. Miran']\n",
        "sm = names.split(\". \")\n",
        "sn = int(sm[0])-1\n",
        "name = sm[1]\n",
        "\n",
        "nouns = [\"house\",\"book\",\"idea\",\"presentation\",\"water bottle\",\"order\"]\n",
        "chosen_noun = random.choice(nouns)\n",
        "\n",
        "mytext = name + \"'s \" + chosen_noun\n",
        "\n",
        "etts(mytext)\n",
        "Audio('sample.mp3')"
      ],
      "metadata": {
        "cellView": "form",
        "id": "oDORlqgNx6_W"
      },
      "execution_count": null,
      "outputs": []
    },
    {
      "cell_type": "code",
      "source": [
        "practice = \"2. What's new today?\" #@param [\"1. Hello, James!\",\"2. What's new today?\",\"3. That's all right.\", \"4. She measures about 5 feet 2 inches.\",\"5. He has blue eyes, and weighs 100 pounds now.\",\"6. She enters law school after the final this year.\",\"7. He got good grades all the time.\",\"8. She golfs, plays tennis, and swims nowadays.\",\"9. The store sells watches, rings, bracelets, diamonds, and rubies now.\",\"10. My sister's dresses, blouses, and shoes are all enw.\"]\n",
        "\n",
        "mytext = practice\n",
        "\n",
        "etts(mytext)\n",
        "Audio('sample.mp3',autoplay=True)"
      ],
      "metadata": {
        "cellView": "form",
        "id": "QDqdlQ0b0OYE"
      },
      "execution_count": null,
      "outputs": []
    }
  ]
}
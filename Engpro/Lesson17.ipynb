{
  "nbformat": 4,
  "nbformat_minor": 0,
  "metadata": {
    "colab": {
      "private_outputs": true,
      "provenance": [],
      "authorship_tag": "ABX9TyMevvXeKbdaWWyjnjxltD2d",
      "include_colab_link": true
    },
    "kernelspec": {
      "name": "python3",
      "display_name": "Python 3"
    },
    "language_info": {
      "name": "python"
    }
  },
  "cells": [
    {
      "cell_type": "markdown",
      "metadata": {
        "id": "view-in-github",
        "colab_type": "text"
      },
      "source": [
        "<a href=\"https://colab.research.google.com/github/MK316/Spring2023/blob/main/Engpro/Lesson17.ipynb\" target=\"_parent\"><img src=\"https://colab.research.google.com/assets/colab-badge.svg\" alt=\"Open In Colab\"/></a>"
      ]
    },
    {
      "cell_type": "code",
      "execution_count": null,
      "metadata": {
        "cellView": "form",
        "id": "kwD_-_yYqTMd"
      },
      "outputs": [],
      "source": [
        "#@markdown Setup\n",
        "\n",
        "!pip install gtts\n",
        "from gtts import gTTS\n",
        "import pandas as pd\n",
        "from IPython.display import Audio\n",
        "     \n"
      ]
    },
    {
      "cell_type": "code",
      "source": [
        "#@markdown Define etts(), 'sample.mp3'\n",
        "def etts(mytext):\n",
        "    tts = gTTS(mytext)\n",
        "    tts.save('sample.mp3')\n",
        "    return Audio('sample.mp3', autoplay=True)\n",
        "\n",
        "def ktts(mytext):\n",
        "  tts = gTTS(mytext)\n",
        "  tts.save('sample.mp3')\n",
        "  return Audio('sample.mp3', autoplay = True)"
      ],
      "metadata": {
        "cellView": "form",
        "id": "FFXXvF8eqUZL"
      },
      "execution_count": null,
      "outputs": []
    },
    {
      "cell_type": "markdown",
      "source": [
        "# Past tense '-ed'"
      ],
      "metadata": {
        "id": "TYIN8kLOtJ34"
      }
    },
    {
      "cell_type": "markdown",
      "source": [
        "String 1: Pronounced as /t/:\n",
        "\"jumped, talked, laughed, walked, watched, liked, stopped, helped, passed, looked\"\n",
        "\n",
        "String 2: Pronounced as /d/:\n",
        "\"played, called, loved, arrived, moved, lived, showed, carried, listened, enjoyed\"\n",
        "\n",
        "String 3: Pronounced as /ɪd/:\n",
        "\"waited, needed, wanted, decided, included, provided, visited, ended, studied, started\""
      ],
      "metadata": {
        "id": "YyYxm4H9toNE"
      }
    },
    {
      "cell_type": "code",
      "source": [
        "types = \"1\" #@param = [1,2,3]\n",
        "\n",
        "sn = int(types) -1\n",
        "\n",
        "wlist = [\"jumped, talked, laughed, walked, watched, liked, stopped, helped, passed, looked\", \n",
        "         \"played, called, loved, arrived, moved, lived, showed, carried, listened, enjoyed\",\n",
        "         \"waited, needed, wanted, decided, included, provided, visited, ended, studied, started\"]\n",
        "mytext = wlist[sn]\n",
        "\n",
        "etts(mytext)\n",
        "Audio('sample.mp3',autoplay=True)"
      ],
      "metadata": {
        "cellView": "form",
        "id": "NzwTaOaktQRJ"
      },
      "execution_count": null,
      "outputs": []
    },
    {
      "cell_type": "markdown",
      "source": [
        "# Aspiration in /p, t, k/"
      ],
      "metadata": {
        "id": "aBkit3ZCtx2E"
      }
    },
    {
      "cell_type": "markdown",
      "source": [
        "1. /p/ \"Apple, Pepper, Puppet, People, Opal, Apricot, Pillow, Hippo, Paperclip, Laptop\"\n",
        "\n",
        "2. /t/ \"Table, Tomato, Butter, Letter, Bottle, Guitar, Button, Butterflies, Little, Watermelon\"\n",
        "\n",
        "3. /k/ \"Cake, Jacket, Book, Cookie, Music, Black, Tackle, Rocket, Pocket, Monkey\""
      ],
      "metadata": {
        "id": "w3YYGUKbq2Ry"
      }
    },
    {
      "cell_type": "code",
      "source": [
        "types = \"1\" #@param = [1,2,3]\n",
        "\n",
        "sn = int(types) -1\n",
        "\n",
        "wlist = [\"Apple, Pepper, Puppet, People, Opal, Apricot, Pillow, Hippo, Paperclip, Laptop\", \n",
        "         \"Table, Tomato, Butter, Letter, Bottle, Guitar, Button, Butterflies, Little, Watermelon\"\n",
        "         \"Cake, Jacket, Book, Cookie, Music, Black, Tackle, Rocket, Pocket, Monkey\"]\n",
        "mytext = wlist[sn]\n",
        "\n",
        "etts(mytext)\n",
        "Audio('sample.mp3',autoplay=True)"
      ],
      "metadata": {
        "cellView": "form",
        "id": "yn3EvMupqURE"
      },
      "execution_count": null,
      "outputs": []
    },
    {
      "cell_type": "markdown",
      "source": [
        "1. /p/ \"Special, Spider, Spoon, Hospital, Inspire, Sports, Desperate, Respect, Disperse, Inspector\"\n",
        "\n",
        "2. /t/ \"Stable, Poster, Disturb, Restaurant, Listen, Instinct, Register, Mistake, Distinct, Costume\"\n",
        "\n",
        "3. /k/ \"Skirt, Scratch, Sky, Skull, Scramble, Ski, Scroll, Skunk, Scrape, Skip\""
      ],
      "metadata": {
        "id": "WKw_NhfirjqT"
      }
    },
    {
      "cell_type": "code",
      "source": [
        "types = \"1\" #@param = [1,2,3]\n",
        "\n",
        "sn = int(types) -1\n",
        "\n",
        "wlist = [\"Special, Spider, Spoon, Hospital, Inspire, Sports, Desperate, Respect, Disperse, Inspector\", \n",
        "         \"Stable, Poster, Disturb, Restaurant, Listen, Instinct, Register, Mistake, Distinct, Costume\",\n",
        "         \"Skirt, Scratch, Sky, Skull, Scramble, Ski, Scroll, Skunk, Scrape, Skip\"]\n",
        "mytext = wlist[sn]\n",
        "\n",
        "etts(mytext)\n",
        "Audio('sample.mp3',autoplay=True)"
      ],
      "metadata": {
        "cellView": "form",
        "id": "lIlZIV-wrjqT"
      },
      "execution_count": null,
      "outputs": []
    },
    {
      "cell_type": "markdown",
      "source": [
        "# Tapping rule"
      ],
      "metadata": {
        "id": "penEZfJ7sW5s"
      }
    },
    {
      "cell_type": "markdown",
      "source": [
        "\"Butter, Bottle, Little, Utensil, Motivate, Entertainment, Butterflies, Tropical, Chocolate, Citrus, Nutrient, Veteran, Violet, Opportunity, Monitor, Patriot, Cactus, Committed\""
      ],
      "metadata": {
        "id": "6rpCaNRytAOK"
      }
    },
    {
      "cell_type": "code",
      "source": [
        "words = \"Butter, Bottle, Little, Utensil, Motivate, Entertainment, Butterflies, Tropical, Chocolate, Citrus, Nutrient, Veteran, Violet, Opportunity, Monitor, Patriot, Cactus, Committed\"\n",
        "\n",
        "etts(words)\n",
        "Audio('sample.mp3', autoplay=True)"
      ],
      "metadata": {
        "id": "Y5WOEZrgsYkK"
      },
      "execution_count": null,
      "outputs": []
    }
  ]
}
{
  "nbformat": 4,
  "nbformat_minor": 0,
  "metadata": {
    "colab": {
      "provenance": [],
      "authorship_tag": "ABX9TyO1POZ2uSLghgiEWvGbYafb",
      "include_colab_link": true
    },
    "kernelspec": {
      "name": "python3",
      "display_name": "Python 3"
    },
    "language_info": {
      "name": "python"
    }
  },
  "cells": [
    {
      "cell_type": "markdown",
      "metadata": {
        "id": "view-in-github",
        "colab_type": "text"
      },
      "source": [
        "<a href=\"https://colab.research.google.com/github/MK316/Spring2023/blob/main/Engpro/QRcode.ipynb\" target=\"_parent\"><img src=\"https://colab.research.google.com/assets/colab-badge.svg\" alt=\"Open In Colab\"/></a>"
      ]
    },
    {
      "cell_type": "markdown",
      "source": [
        "# 🐝  Generate QR code (svg file) and display"
      ],
      "metadata": {
        "id": "kGIfXlWzis9S"
      }
    },
    {
      "cell_type": "code",
      "source": [
        "#@markdown Install {pyqrcode} and enter link address\n",
        "!pip install pyqrcode\n",
        "\n",
        "import pyqrcode\n",
        "from pyqrcode import QRCode\n"
      ],
      "metadata": {
        "colab": {
          "base_uri": "https://localhost:8080/"
        },
        "cellView": "form",
        "id": "QrxuiLBDhUF0",
        "outputId": "cc463c27-1ca2-4eba-9b84-b4f287a80382"
      },
      "execution_count": null,
      "outputs": [
        {
          "output_type": "stream",
          "name": "stdout",
          "text": [
            "Looking in indexes: https://pypi.org/simple, https://us-python.pkg.dev/colab-wheels/public/simple/\n",
            "Requirement already satisfied: pyqrcode in /usr/local/lib/python3.8/dist-packages (1.2.1)\n"
          ]
        }
      ]
    },
    {
      "cell_type": "markdown",
      "source": [
        "[영발이 1](https://forms.gle/uUQCqvZbBSQh8ud37)\n",
        "[영발이 2](https://forms.gle/Nm5X2y9Y58Y3LT4L9)"
      ],
      "metadata": {
        "id": "3ClHMt4Uijm-"
      }
    },
    {
      "cell_type": "code",
      "source": [
        "#@markdown Enter the link, save it as a file, and display\n",
        "s = input(\"Paste the link: \")\n",
        "\n",
        "# Generate QR code\n",
        "url = pyqrcode.create(s)\n",
        "\n",
        "# Create and save the png file naming \"myqr.png\"\n",
        "url.svg(\"myqrcode.svg\", scale=10)\n",
        "\n",
        "from IPython.display import SVG, display\n",
        "def show_svg(file):\n",
        "    display(SVG(file))\n",
        "\n",
        "show_svg(\"myqrcode.svg\")"
      ],
      "metadata": {
        "colab": {
          "base_uri": "https://localhost:8080/",
          "height": 409
        },
        "cellView": "form",
        "id": "bTNWINdRjTlK",
        "outputId": "2f37e7d8-6c93-41a4-ba57-2cd506b01bce"
      },
      "execution_count": null,
      "outputs": [
        {
          "name": "stdout",
          "output_type": "stream",
          "text": [
            "Paste the link: mk316.github.io\n"
          ]
        },
        {
          "output_type": "display_data",
          "data": {
            "text/plain": [
              "<IPython.core.display.SVG object>"
            ],
            "image/svg+xml": "<svg xmlns=\"http://www.w3.org/2000/svg\" height=\"370\" width=\"370\" class=\"pyqrcode\"><path transform=\"scale(10)\" stroke=\"#000\" class=\"pyqrline\" d=\"M4 4.5h7m1 0h3m2 0h1m1 0h2m3 0h1m1 0h7m-29 1h1m5 0h1m3 0h1m2 0h3m1 0h4m1 0h1m5 0h1m-29 1h1m1 0h3m1 0h1m2 0h3m2 0h1m1 0h1m3 0h1m1 0h1m1 0h3m1 0h1m-29 1h1m1 0h3m1 0h1m1 0h8m2 0h3m1 0h1m1 0h3m1 0h1m-29 1h1m1 0h3m1 0h1m4 0h1m3 0h5m2 0h1m1 0h3m1 0h1m-29 1h1m5 0h1m2 0h2m1 0h2m1 0h1m2 0h2m2 0h1m5 0h1m-29 1h7m1 0h1m1 0h1m1 0h1m1 0h1m1 0h1m1 0h1m1 0h1m1 0h7m-20 1h2m1 0h5m2 0h1m-18 1h1m1 0h3m1 0h1m1 0h1m1 0h2m2 0h1m2 0h3m3 0h1m2 0h1m-28 1h3m3 0h1m1 0h1m2 0h1m1 0h2m1 0h1m1 0h3m2 0h5m-29 1h1m2 0h2m1 0h1m2 0h1m5 0h7m3 0h4m-27 1h1m4 0h4m1 0h1m1 0h2m4 0h3m1 0h1m-25 1h2m1 0h1m1 0h2m8 0h2m2 0h4m4 0h1m-27 1h1m1 0h3m2 0h3m1 0h4m1 0h2m1 0h4m1 0h4m-26 1h1m1 0h6m1 0h1m1 0h1m1 0h3m1 0h1m1 0h1m2 0h1m1 0h2m-29 1h1m6 0h1m1 0h1m2 0h1m5 0h3m4 0h1m1 0h2m-29 1h1m3 0h4m1 0h3m1 0h3m6 0h4m1 0h1m-25 1h3m3 0h4m1 0h4m1 0h1m3 0h1m2 0h3m-29 1h1m1 0h1m3 0h1m1 0h5m4 0h2m2 0h5m1 0h2m-28 1h5m2 0h2m1 0h9m2 0h2m1 0h1m2 0h1m-29 1h1m1 0h1m1 0h1m1 0h3m2 0h1m2 0h1m5 0h5m1 0h2m-20 1h1m1 0h3m2 0h2m3 0h1m3 0h2m1 0h2m-29 1h7m3 0h1m2 0h1m3 0h4m1 0h1m1 0h2m2 0h1m-29 1h1m5 0h1m1 0h1m1 0h2m1 0h1m2 0h3m1 0h1m3 0h2m1 0h2m-29 1h1m1 0h3m1 0h1m1 0h1m1 0h1m1 0h2m1 0h1m4 0h6m2 0h1m-29 1h1m1 0h3m1 0h1m2 0h1m3 0h3m1 0h2m5 0h1m1 0h2m-28 1h1m1 0h3m1 0h1m1 0h4m1 0h2m1 0h1m1 0h1m5 0h1m3 0h1m-29 1h1m5 0h1m6 0h7m2 0h1m3 0h2m-28 1h7m2 0h1m2 0h1m1 0h1m4 0h1m4 0h1m1 0h3\"/></svg>"
          },
          "metadata": {}
        }
      ]
    }
  ]
}
{
  "nbformat": 4,
  "nbformat_minor": 0,
  "metadata": {
    "colab": {
      "private_outputs": true,
      "provenance": [],
      "authorship_tag": "ABX9TyOPjqB8Orlf8aGNK85JbtN5",
      "include_colab_link": true
    },
    "kernelspec": {
      "name": "python3",
      "display_name": "Python 3"
    },
    "language_info": {
      "name": "python"
    }
  },
  "cells": [
    {
      "cell_type": "markdown",
      "metadata": {
        "id": "view-in-github",
        "colab_type": "text"
      },
      "source": [
        "<a href=\"https://colab.research.google.com/github/MK316/Spring2023/blob/main/DL/Gradio.ipynb\" target=\"_parent\"><img src=\"https://colab.research.google.com/assets/colab-badge.svg\" alt=\"Open In Colab\"/></a>"
      ]
    },
    {
      "cell_type": "markdown",
      "source": [
        "# 😊**Gradio**\n",
        "\n",
        "**Gradio** is a way to demonstrate your machine learning model with a web interface so that anyone can use it."
      ],
      "metadata": {
        "id": "_Yp3ef77qNKn"
      }
    },
    {
      "cell_type": "code",
      "source": [
        "%%capture\n",
        "!pip install gradio"
      ],
      "metadata": {
        "id": "ab5G4Dkaq4JI"
      },
      "execution_count": null,
      "outputs": []
    },
    {
      "cell_type": "code",
      "source": [
        "import gradio as gr\n",
        "\n",
        "def greet(name):\n",
        "    return \"Hello \" + name + \"!\"\n",
        "\n",
        "demo = gr.Interface(fn=greet, inputs=\"text\", outputs=\"text\")\n",
        "\n",
        "demo.launch()  "
      ],
      "metadata": {
        "id": "Y8nSphC_rAAH"
      },
      "execution_count": null,
      "outputs": []
    },
    {
      "cell_type": "markdown",
      "source": [
        "## [1] **D-day counting with Gradio implementation**"
      ],
      "metadata": {
        "id": "tbw4OISdq12Q"
      }
    },
    {
      "cell_type": "code",
      "source": [
        "%%capture\n",
        "!pip install gradio"
      ],
      "metadata": {
        "id": "lI5AYTd9x2gd"
      },
      "execution_count": null,
      "outputs": []
    },
    {
      "cell_type": "code",
      "source": [
        "import gradio as gr\n",
        "from datetime import datetime\n",
        "\n",
        "def remaining_days(future_date: str):\n",
        "    # Try to convert string to datetime object\n",
        "    try:\n",
        "        future_date = datetime.strptime(future_date, '%Y-%m-%d')\n",
        "    except ValueError:\n",
        "        return \"Invalid date format. Please use 'YYYY-MM-DD'\"\n",
        "\n",
        "    # Get current date\n",
        "    current_date = datetime.now()\n",
        "\n",
        "    # Calculate remaining days\n",
        "    remaining = future_date - current_date\n",
        "    return remaining.days\n",
        "\n",
        "iface = gr.Interface(fn=remaining_days, \n",
        "                     inputs=gr.inputs.Textbox(label=\"Input a future date (YYYY-MM-DD)\"), \n",
        "                     outputs=\"number\")\n",
        "iface.launch(share=True)"
      ],
      "metadata": {
        "id": "JBjIX0VBv5rW"
      },
      "execution_count": null,
      "outputs": []
    },
    {
      "cell_type": "markdown",
      "source": [
        "## [2] **TTS implementation**"
      ],
      "metadata": {
        "id": "sNZq7JY4x819"
      }
    },
    {
      "cell_type": "code",
      "source": [
        "%%capture\n",
        "!!pip install gTTS"
      ],
      "metadata": {
        "id": "oLh_y9zn1sql"
      },
      "execution_count": null,
      "outputs": []
    },
    {
      "cell_type": "code",
      "source": [
        "import gradio as gr\n",
        "from gtts import gTTS\n",
        "from pydub import AudioSegment\n",
        "import os\n",
        "\n",
        "def text_to_speech(text):\n",
        "    tts = gTTS(text=text, lang='en')\n",
        "    mp3_filename = \"voice.mp3\"\n",
        "    wav_filename = \"voice.wav\"\n",
        "    tts.save(mp3_filename)\n",
        "\n",
        "    # Convert from MP3 to WAV\n",
        "    audio = AudioSegment.from_mp3(mp3_filename)\n",
        "    audio.export(wav_filename, format=\"wav\")\n",
        "\n",
        "    return wav_filename\n",
        "\n",
        "iface = gr.Interface(fn=text_to_speech, \n",
        "                     inputs=gr.inputs.Textbox(), \n",
        "                     outputs=gr.outputs.Audio(type=\"filepath\"))\n",
        "iface.launch(share=True)\n"
      ],
      "metadata": {
        "id": "TIC_y4Qf1wqW"
      },
      "execution_count": null,
      "outputs": []
    },
    {
      "cell_type": "markdown",
      "source": [
        "## [3] **Grade checker**"
      ],
      "metadata": {
        "id": "GqVSXr4V2fPr"
      }
    },
    {
      "cell_type": "code",
      "source": [
        "!pip install pandas faker\n"
      ],
      "metadata": {
        "id": "fy4JPx302gwn"
      },
      "execution_count": null,
      "outputs": []
    },
    {
      "cell_type": "code",
      "source": [
        "import pandas as pd\n",
        "import random\n",
        "\n",
        "# The 10 most popular baby names\n",
        "popular_baby_names = [\"Liam\", \"Emma\", \"Noah\", \"Olivia\", \"Ava\", \"Isabella\", \"Sophia\", \"Mia\", \"Charlotte\", \"Amelia\"]\n",
        "\n",
        "# Create lists for the data\n",
        "names = popular_baby_names\n",
        "english_grades = [random.randint(0, 100) for _ in range(10)]\n",
        "math_grades = [random.randint(0, 100) for _ in range(10)]\n",
        "\n",
        "# Create a DataFrame\n",
        "df = pd.DataFrame({\n",
        "    'Name': names,\n",
        "    'English': english_grades,\n",
        "    'Math': math_grades,\n",
        "})\n",
        "\n",
        "print(df)\n",
        "\n"
      ],
      "metadata": {
        "id": "7LEJNYTh4mTB"
      },
      "execution_count": null,
      "outputs": []
    },
    {
      "cell_type": "code",
      "source": [
        "# !pip install gradio\n",
        "\n",
        "import gradio as gr\n",
        "\n",
        "def check_grades(name):\n",
        "    name = name.strip().lower()  # remove extra white spaces and convert to lower case\n",
        "    df['Name'] = df['Name'].str.strip().str.lower()  # do the same for names in DataFrame\n",
        "    if name in df['Name'].values:\n",
        "        english_grade = df.loc[df['Name'] == name, 'English'].values[0]\n",
        "        math_grade = df.loc[df['Name'] == name, 'Math'].values[0]\n",
        "        return f\"English Grade: {english_grade}, Math Grade: {math_grade}\"\n",
        "    else:\n",
        "        return \"Name not found in the DataFrame.\"\n",
        "\n",
        "\n",
        "iface = gr.Interface(fn=check_grades, \n",
        "                     inputs=gr.inputs.Textbox(lines=1, placeholder='Enter a name...'), \n",
        "                     outputs=\"text\")\n",
        "iface.launch()\n"
      ],
      "metadata": {
        "id": "A5i4Ql904_uy"
      },
      "execution_count": null,
      "outputs": []
    }
  ]
}
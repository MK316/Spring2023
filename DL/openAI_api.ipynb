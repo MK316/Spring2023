{
  "nbformat": 4,
  "nbformat_minor": 0,
  "metadata": {
    "colab": {
      "provenance": [],
      "include_colab_link": true
    },
    "kernelspec": {
      "name": "python3",
      "display_name": "Python 3"
    },
    "language_info": {
      "name": "python"
    }
  },
  "cells": [
    {
      "cell_type": "markdown",
      "metadata": {
        "id": "view-in-github",
        "colab_type": "text"
      },
      "source": [
        "<a href=\"https://colab.research.google.com/github/MK316/Spring2023/blob/main/DL/openAI_api.ipynb\" target=\"_parent\"><img src=\"https://colab.research.google.com/assets/colab-badge.svg\" alt=\"Open In Colab\"/></a>"
      ]
    },
    {
      "cell_type": "code",
      "execution_count": null,
      "metadata": {
        "id": "Pz1UqGEV9h1O"
      },
      "outputs": [],
      "source": [
        "!pip install openai"
      ]
    },
    {
      "cell_type": "code",
      "source": [
        "import openai\n",
        "openai.api_key = input('openai API key here')"
      ],
      "metadata": {
        "id": "YoA224XW91uC"
      },
      "execution_count": null,
      "outputs": []
    },
    {
      "cell_type": "markdown",
      "source": [
        "## GPT"
      ],
      "metadata": {
        "id": "HRiUOwlAOeYi"
      }
    },
    {
      "cell_type": "markdown",
      "source": [
        "### Create Chat Completion"
      ],
      "metadata": {
        "id": "zyKMw_WfMsgH"
      }
    },
    {
      "cell_type": "code",
      "source": [
        "#@markdown ChatGPT (gpt-3.5-turbo), ask question\n",
        "question = input(\"How can I help you?\")\n",
        "chat = openai.ChatCompletion.create(\n",
        "  model = \"gpt-3.5-turbo\",                             # 모델명 (필수)\n",
        "  messages = [{\"role\": \"user\", \"content\": question}],  \n",
        "                                                       # 메세지 리스트 (필수 but \"name\") {\"role\": system/user/assistant, \"content\": 메시지 내용, \"name\": 이름}\n",
        "  temperature = 1,                                     # output randomness [0~2] 0.2 small 0.8 big (either this or top_n, not both)\n",
        "  # top_p = 1,                                         # probability considered [0~1]\n",
        "  n = 1,                                               # N of chat completion choices\n",
        "  stream = False,                                      # streaming\n",
        "  # stop = ['.'],                                      # token 생성을 멈추게 하는 조건 sequences(4개까지)\n",
        "  max_tokens = 200,                                    # 최대 token 수\n",
        "  presence_penalty = 0,                                # 새로운 토픽을 말할 확률을 높여주는 [-2~2]\n",
        "  frequency_penalty = 0,                               # 똑같은 문장을 말할 확률을 낮춰주는 [-2~2]\n",
        "  logit_bias = {},                                     # 특정 토큰들의 출현 확률을 수정\n",
        "  user = '',                                           # openAI 모니터용 ID\n",
        ")\n",
        "# print(chat)\n",
        "print(\"GPT:\", chat[\"choices\"][0][\"message\"][\"content\"])"
      ],
      "metadata": {
        "id": "vtkhh_sk7nYD",
        "cellView": "form",
        "colab": {
          "base_uri": "https://localhost:8080/"
        },
        "outputId": "97fdcaf0-5802-45e5-b6e7-8db5c1266bfa"
      },
      "execution_count": 11,
      "outputs": [
        {
          "output_type": "stream",
          "name": "stdout",
          "text": [
            "How can I help you?words rhyming with 'law'\n",
            "GPT: claw, raw, draw, flaw, crawl, thaw, gnaw, straw, maw, shaw, jigsaw, foresaw, saw, withdraw, overawe\n"
          ]
        }
      ]
    },
    {
      "cell_type": "markdown",
      "source": [
        "## Whisper"
      ],
      "metadata": {
        "id": "2H7rlCNEOaWR"
      }
    },
    {
      "cell_type": "code",
      "source": [
        "import os\n",
        "url = \"https://raw.githubusercontent.com/hsnam95/class2023Spring/main/test.wav\"\n",
        "os.system(\"curl \" + url + \" > test.wav\")"
      ],
      "metadata": {
        "id": "2q-Wsv31M8ot",
        "colab": {
          "base_uri": "https://localhost:8080/"
        },
        "outputId": "cffe0c50-456a-4a11-fb22-6aa768b8050a"
      },
      "execution_count": 12,
      "outputs": [
        {
          "output_type": "execute_result",
          "data": {
            "text/plain": [
              "0"
            ]
          },
          "metadata": {},
          "execution_count": 12
        }
      ]
    },
    {
      "cell_type": "markdown",
      "source": [
        "### Generate Transcript"
      ],
      "metadata": {
        "id": "XI2k0kwcWEII"
      }
    },
    {
      "cell_type": "code",
      "source": [
        "audio_file = open(\"test.wav\", \"rb\")\n",
        "transcript = openai.Audio.transcribe(\"whisper-1\", audio_file)\n",
        "print(transcript)"
      ],
      "metadata": {
        "id": "K-nkFpHl91il",
        "colab": {
          "base_uri": "https://localhost:8080/"
        },
        "outputId": "232bb6af-9695-47da-a2c3-ac11be331dac"
      },
      "execution_count": 13,
      "outputs": [
        {
          "output_type": "stream",
          "name": "stdout",
          "text": [
            "{\n",
            "  \"text\": \"\\uc548\\ub155\\ud558\\uc138\\uc694 \\uc704\\uc2a4\\ud37c \\uc74c\\uc131\\uc778\\uc2dd \\ubaa8\\ub378 \\ud14c\\uc2a4\\ud2b8 \\uc911\\uc785\\ub2c8\\ub2e4. \\uc5bc\\ub9c8\\ub098 \\uc798 \\ub418\\ub294\\uc9c0 \\uc54c\\uc544\\ubd05\\uc2dc\\ub2e4.\"\n",
            "}\n"
          ]
        }
      ]
    },
    {
      "cell_type": "code",
      "source": [
        "print(transcript['text'])"
      ],
      "metadata": {
        "id": "89zz8dCIUUH_",
        "colab": {
          "base_uri": "https://localhost:8080/"
        },
        "outputId": "43fef156-0417-4fe4-ab93-1cb2dfd9e58b"
      },
      "execution_count": 14,
      "outputs": [
        {
          "output_type": "stream",
          "name": "stdout",
          "text": [
            "안녕하세요 위스퍼 음성인식 모델 테스트 중입니다. 얼마나 잘 되는지 알아봅시다.\n"
          ]
        }
      ]
    },
    {
      "cell_type": "markdown",
      "source": [
        "### Create Translation"
      ],
      "metadata": {
        "id": "lSSHteUkPxPZ"
      }
    },
    {
      "cell_type": "code",
      "source": [
        "audio_file = open(\"test.wav\", \"rb\")\n",
        "translation = openai.Audio.translate(\"whisper-1\", audio_file)\n",
        "print(translation)"
      ],
      "metadata": {
        "id": "AjoroAZULJX7",
        "colab": {
          "base_uri": "https://localhost:8080/"
        },
        "outputId": "310ea42b-618e-4409-fbb5-82e03e65a302"
      },
      "execution_count": 15,
      "outputs": [
        {
          "output_type": "stream",
          "name": "stdout",
          "text": [
            "{\n",
            "  \"text\": \"Hello, I'm testing the Whisper voice recognition model. Let's see how well it works.\"\n",
            "}\n"
          ]
        }
      ]
    },
    {
      "cell_type": "code",
      "source": [
        "print(translation['text'])"
      ],
      "metadata": {
        "id": "Po9AaqcIUWYh",
        "colab": {
          "base_uri": "https://localhost:8080/"
        },
        "outputId": "b152b30c-89b0-4862-ae41-4fe94e7805b4"
      },
      "execution_count": 16,
      "outputs": [
        {
          "output_type": "stream",
          "name": "stdout",
          "text": [
            "Hello, I'm testing the Whisper voice recognition model. Let's see how well it works.\n"
          ]
        }
      ]
    },
    {
      "cell_type": "markdown",
      "source": [
        "## DALL·E 2"
      ],
      "metadata": {
        "id": "9ZMGGpkqSNin"
      }
    },
    {
      "cell_type": "markdown",
      "source": [
        "### Create Image"
      ],
      "metadata": {
        "id": "bPrq_BmySoLZ"
      }
    },
    {
      "cell_type": "code",
      "source": [
        "image = openai.Image.create(\n",
        "  prompt=\"cat and dog\",\n",
        "  n=1,\n",
        "  size=\"512x512\"\n",
        ")\n",
        "print(image)"
      ],
      "metadata": {
        "id": "2Ge80K2kTPrw",
        "colab": {
          "base_uri": "https://localhost:8080/"
        },
        "outputId": "84cbe7f7-da51-49a8-df99-bfb5a2cbe0e8"
      },
      "execution_count": 17,
      "outputs": [
        {
          "output_type": "stream",
          "name": "stdout",
          "text": [
            "{\n",
            "  \"created\": 1685722672,\n",
            "  \"data\": [\n",
            "    {\n",
            "      \"url\": \"https://oaidalleapiprodscus.blob.core.windows.net/private/org-9aidAKyYX6cPae7BvFRfUPKx/user-6hBUWa0rzG6tHXRHDGHmoHwi/img-dgPjcyaprbEKVVJzEDTa7SE1.png?st=2023-06-02T15%3A17%3A52Z&se=2023-06-02T17%3A17%3A52Z&sp=r&sv=2021-08-06&sr=b&rscd=inline&rsct=image/png&skoid=6aaadede-4fb3-4698-a8f6-684d7786b067&sktid=a48cca56-e6da-484e-a814-9c849652bcb3&skt=2023-06-01T20%3A59%3A34Z&ske=2023-06-02T20%3A59%3A34Z&sks=b&skv=2021-08-06&sig=aNcdF9gn9qFpWSX/bp8n%2BPQKBHq0OGZo7MjpiMXdLtg%3D\"\n",
            "    }\n",
            "  ]\n",
            "}\n"
          ]
        }
      ]
    },
    {
      "cell_type": "markdown",
      "source": [
        "### Create Image Edit"
      ],
      "metadata": {
        "id": "fKjInh6TTVos"
      }
    },
    {
      "cell_type": "code",
      "source": [
        "import os\n",
        "url = \"https://raw.githubusercontent.com/hsnam95/class2023Spring/main/original.png\"\n",
        "os.system(\"curl \" + url + \" > original.png\")\n",
        "url = \"https://raw.githubusercontent.com/hsnam95/class2023Spring/main/mask.png\"\n",
        "os.system(\"curl \" + url + \" > mask.png\")"
      ],
      "metadata": {
        "id": "Rp3XLSJkd-qL",
        "colab": {
          "base_uri": "https://localhost:8080/"
        },
        "outputId": "fd04209a-942a-4fd0-f4f1-dfd65c3e1c9e"
      },
      "execution_count": 18,
      "outputs": [
        {
          "output_type": "execute_result",
          "data": {
            "text/plain": [
              "0"
            ]
          },
          "metadata": {},
          "execution_count": 18
        }
      ]
    },
    {
      "cell_type": "code",
      "source": [
        "image = openai.Image.create_edit(\n",
        "  image=open(\"original.png\", \"rb\"),\n",
        "  mask=open(\"mask.png\", \"rb\"),\n",
        "  prompt=\"a greedy pig whose tongue is snake-like without the masked area\",\n",
        "  n=1,\n",
        "  size=\"512x512\"\n",
        ")\n",
        "print(image)"
      ],
      "metadata": {
        "id": "yO9_qWQ3S1Oo",
        "colab": {
          "base_uri": "https://localhost:8080/"
        },
        "outputId": "abc1aae9-f24b-41ac-e1c1-e9e3f3855629"
      },
      "execution_count": 19,
      "outputs": [
        {
          "output_type": "stream",
          "name": "stdout",
          "text": [
            "{\n",
            "  \"created\": 1685722697,\n",
            "  \"data\": [\n",
            "    {\n",
            "      \"url\": \"https://oaidalleapiprodscus.blob.core.windows.net/private/org-9aidAKyYX6cPae7BvFRfUPKx/user-6hBUWa0rzG6tHXRHDGHmoHwi/img-26eS5XBk4AWXFAFIsDWktqyK.png?st=2023-06-02T15%3A18%3A17Z&se=2023-06-02T17%3A18%3A17Z&sp=r&sv=2021-08-06&sr=b&rscd=inline&rsct=image/png&skoid=6aaadede-4fb3-4698-a8f6-684d7786b067&sktid=a48cca56-e6da-484e-a814-9c849652bcb3&skt=2023-06-01T21%3A00%3A09Z&ske=2023-06-02T21%3A00%3A09Z&sks=b&skv=2021-08-06&sig=ovzDJnbDwGbGr6TX5BQ9AtCr0snMn/dwC%2BU1f4z8zkE%3D\"\n",
            "    }\n",
            "  ]\n",
            "}\n"
          ]
        }
      ]
    },
    {
      "cell_type": "markdown",
      "source": [
        "### Create Image Variation"
      ],
      "metadata": {
        "id": "OwHmP2zEegbG"
      }
    },
    {
      "cell_type": "code",
      "source": [
        "import os\n",
        "url = \"https://raw.githubusercontent.com/hsnam95/class2023Spring/main/cat_dot.png\"\n",
        "os.system(\"curl \" + url + \" > cat_dot.png\")"
      ],
      "metadata": {
        "id": "xsCTgu4YemM4",
        "colab": {
          "base_uri": "https://localhost:8080/"
        },
        "outputId": "596e9478-5ec0-48bd-b727-3fb2846406a0"
      },
      "execution_count": 20,
      "outputs": [
        {
          "output_type": "execute_result",
          "data": {
            "text/plain": [
              "0"
            ]
          },
          "metadata": {},
          "execution_count": 20
        }
      ]
    },
    {
      "cell_type": "code",
      "source": [
        "image = openai.Image.create_variation(\n",
        "  image=open(\"cat_dot.png\", \"rb\"),\n",
        "  n=1,\n",
        "  size=\"512x512\"\n",
        ")\n",
        "print(image)"
      ],
      "metadata": {
        "id": "DY4cafkUfIzf",
        "colab": {
          "base_uri": "https://localhost:8080/"
        },
        "outputId": "7e75846b-e0d0-43a9-fd02-e9eba886f203"
      },
      "execution_count": 21,
      "outputs": [
        {
          "output_type": "stream",
          "name": "stdout",
          "text": [
            "{\n",
            "  \"created\": 1685722723,\n",
            "  \"data\": [\n",
            "    {\n",
            "      \"url\": \"https://oaidalleapiprodscus.blob.core.windows.net/private/org-9aidAKyYX6cPae7BvFRfUPKx/user-6hBUWa0rzG6tHXRHDGHmoHwi/img-kkzqaNdD33qkORvgNAXPznQQ.png?st=2023-06-02T15%3A18%3A43Z&se=2023-06-02T17%3A18%3A43Z&sp=r&sv=2021-08-06&sr=b&rscd=inline&rsct=image/png&skoid=6aaadede-4fb3-4698-a8f6-684d7786b067&sktid=a48cca56-e6da-484e-a814-9c849652bcb3&skt=2023-06-01T21%3A01%3A56Z&ske=2023-06-02T21%3A01%3A56Z&sks=b&skv=2021-08-06&sig=M3f6m0VYsUABRlssBKxWoS2Qp7JR/zKAN3O50quJ8BE%3D\"\n",
            "    }\n",
            "  ]\n",
            "}\n"
          ]
        }
      ]
    }
  ]
}
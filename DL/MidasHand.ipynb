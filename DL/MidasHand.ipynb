{
  "nbformat": 4,
  "nbformat_minor": 0,
  "metadata": {
    "colab": {
      "private_outputs": true,
      "provenance": [],
      "authorship_tag": "ABX9TyOwz43iM0/BvjD+GAb/PZFF",
      "include_colab_link": true
    },
    "kernelspec": {
      "name": "python3",
      "display_name": "Python 3"
    },
    "language_info": {
      "name": "python"
    }
  },
  "cells": [
    {
      "cell_type": "markdown",
      "metadata": {
        "id": "view-in-github",
        "colab_type": "text"
      },
      "source": [
        "<a href=\"https://colab.research.google.com/github/MK316/Spring2023/blob/main/DL/MidasHand.ipynb\" target=\"_parent\"><img src=\"https://colab.research.google.com/assets/colab-badge.svg\" alt=\"Open In Colab\"/></a>"
      ]
    },
    {
      "cell_type": "code",
      "execution_count": null,
      "metadata": {
        "id": "mpWMlCyU3WBI"
      },
      "outputs": [],
      "source": [
        "!pip install gtts\n",
        "from gtts import gTTS\n",
        "from IPython.display import Audio"
      ]
    },
    {
      "cell_type": "code",
      "source": [
        "#@markdown Define tts(), 'sample.mp3'\n",
        "def tts(mytext):\n",
        "    tts = gTTS(mytext)\n",
        "    tts.save('sample.mp3')\n",
        "    return Audio('sample.mp3', autoplay=True)"
      ],
      "metadata": {
        "cellView": "form",
        "id": "z6zMVUKr3e3W"
      },
      "execution_count": null,
      "outputs": []
    },
    {
      "cell_type": "code",
      "source": [
        "txt = \"The story of king Midas and his hand. This video is powered by Chat GPT, Midjourney, and Keynote.\"\n",
        "tts(txt)\n",
        "Audio('sample.mp3')"
      ],
      "metadata": {
        "id": "18vsNtu93kI_"
      },
      "execution_count": null,
      "outputs": []
    },
    {
      "cell_type": "code",
      "source": [
        "txt = \"Once upon a time, there was a king named Midas who loved treasure more than anything else in the world.\"\n",
        "tts(txt)\n",
        "Audio('sample.mp3')"
      ],
      "metadata": {
        "id": "a8vsUZRl34_g"
      },
      "execution_count": null,
      "outputs": []
    },
    {
      "cell_type": "code",
      "source": [
        "txt = \"He always wanted to have more and more gold and riches.\"\n",
        "tts(txt)\n",
        "Audio('sample.mp3')"
      ],
      "metadata": {
        "id": "hghQOxyj4ODv"
      },
      "execution_count": null,
      "outputs": []
    },
    {
      "cell_type": "code",
      "source": [
        "txt = \"One day, while exploring his kingdom, King Midas met an old man who had a special power. This old man was related to a god called Dionysus and could grant wishes to people.\"\n",
        "tts(txt)\n",
        "Audio('sample.mp3')"
      ],
      "metadata": {
        "id": "Le6-gsCS4RqC"
      },
      "execution_count": null,
      "outputs": []
    },
    {
      "cell_type": "code",
      "source": [
        "txt = \"Excited by this magical opportunity, King Midas invited the old man to his palace. He treated him to delicious food and drinks, hoping to get a special wish from him.\"\n",
        "tts(txt)\n",
        "Audio('sample.mp3')"
      ],
      "metadata": {
        "id": "abKr_I314SKq"
      },
      "execution_count": null,
      "outputs": []
    },
    {
      "cell_type": "code",
      "source": [
        "txt = \"Finally, the old man offered to grant King Midas one wish. The king wished to have the power to turn anything he touched into gold.\"\n",
        "tts(txt)\n",
        "Audio('sample.mp3')"
      ],
      "metadata": {
        "id": "cwQSNXWT4ShK"
      },
      "execution_count": null,
      "outputs": []
    },
    {
      "cell_type": "code",
      "source": [
        "txt = \"To his surprise, the old man granted his wish! King Midas was thrilled and started turning everything he touched into shiny gold. At first, he was very happy with his new power.\"\n",
        "tts(txt)\n",
        "Audio('sample.mp3')"
      ],
      "metadata": {
        "id": "9u7DKQHP4S6I"
      },
      "execution_count": null,
      "outputs": []
    },
    {
      "cell_type": "code",
      "source": [
        "txt = \"But soon, King Midas realized that his wish had some problems.\"\n",
        "tts(txt)\n",
        "Audio('sample.mp3')"
      ],
      "metadata": {
        "id": "uvc2TT014ThV"
      },
      "execution_count": null,
      "outputs": []
    },
    {
      "cell_type": "code",
      "source": [
        "txt = \"When he tried to eat his favorite food, it turned into hard gold and he couldn't enjoy it anymore. He became sad and lonely.\"\n",
        "tts(txt)\n",
        "Audio('sample.mp3')"
      ],
      "metadata": {
        "id": "dz4harz44T7n"
      },
      "execution_count": null,
      "outputs": []
    },
    {
      "cell_type": "code",
      "source": [
        "txt = \"One day, his daughter came to him, hoping to make him feel better.\"\n",
        "tts(txt)\n",
        "Audio('sample.mp3')"
      ],
      "metadata": {
        "id": "0qq0joQR4UgT"
      },
      "execution_count": null,
      "outputs": []
    },
    {
      "cell_type": "code",
      "source": [
        "txt = \"King Midas hugged her, but as soon as he touched her, she turned into a golden statue.\"\n",
        "tts(txt)\n",
        "Audio('sample.mp3')"
      ],
      "metadata": {
        "id": "QhP3DWmm4VVw"
      },
      "execution_count": null,
      "outputs": []
    },
    {
      "cell_type": "code",
      "source": [
        "txt = \"He was heartbroken, realizing the mistake he had made.\"\n",
        "tts(txt)\n",
        "Audio('sample.mp3')"
      ],
      "metadata": {
        "id": "XY5qL1YK4V6W"
      },
      "execution_count": null,
      "outputs": []
    },
    {
      "cell_type": "code",
      "source": [
        "txt = \"Here's a question for you. How does the story of King Midas connect to the risks and ethics of handling AI technology, without understanding its capabilities and consequences?\"\n",
        "tts(txt)\n",
        "Audio('sample.mp3')"
      ],
      "metadata": {
        "id": "WuJ0dgtQ58_1"
      },
      "execution_count": null,
      "outputs": []
    },
    {
      "cell_type": "markdown",
      "source": [
        "The whole story"
      ],
      "metadata": {
        "id": "iMUBdnwV_fBH"
      }
    },
    {
      "cell_type": "code",
      "source": [
        "mytxt = \"\"\"\n",
        "Once upon a time, there was a king named Midas who loved treasure more than anything else in the world. He always wanted to have more and more gold and riches.\n",
        "One day, while exploring his kingdom, King Midas met an old man who had a special power. This old man was related to a god called Dionysus and could grant wishes to people.\n",
        "Excited by this magical opportunity, King Midas invited the old man to his palace. He treated him to delicious food and drinks, hoping to get a special wish from him.\n",
        "Finally, the old man offered to grant King Midas one wish. The king wished to have the power to turn anything he touched into gold.\n",
        "To his surprise, the old man granted his wish! King Midas was thrilled and started turning everything he touched into shiny gold. At first, he was very happy with his new power.\n",
        "But soon, King Midas realized that his wish had some problems. When he tried to eat his favorite food, it turned into hard gold and he couldn't enjoy it anymore. He became sad and lonely.\n",
        "One day, his daughter came to him, hoping to make him feel better. King Midas hugged her, but as soon as he touched her, she turned into a golden statue. He was heartbroken, realizing the mistake he had made.\n",
        "\"\"\""
      ],
      "metadata": {
        "id": "030mleOl_gaf"
      },
      "execution_count": null,
      "outputs": []
    },
    {
      "cell_type": "code",
      "source": [
        "tts(mytxt)\n",
        "Audio('sample.mp3')"
      ],
      "metadata": {
        "id": "aN3e9QuP_p6l"
      },
      "execution_count": null,
      "outputs": []
    }
  ]
}
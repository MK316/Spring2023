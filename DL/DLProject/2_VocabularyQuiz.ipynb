{
  "nbformat": 4,
  "nbformat_minor": 0,
  "metadata": {
    "colab": {
      "provenance": [],
      "authorship_tag": "ABX9TyMbXtPC48FZis3ySzVBV8Wd",
      "include_colab_link": true
    },
    "kernelspec": {
      "name": "python3",
      "display_name": "Python 3"
    },
    "language_info": {
      "name": "python"
    }
  },
  "cells": [
    {
      "cell_type": "markdown",
      "metadata": {
        "id": "view-in-github",
        "colab_type": "text"
      },
      "source": [
        "<a href=\"https://colab.research.google.com/github/MK316/Spring2023/blob/main/DL/DLProject/2_VocabularyQuiz.ipynb\" target=\"_parent\"><img src=\"https://colab.research.google.com/assets/colab-badge.svg\" alt=\"Open In Colab\"/></a>"
      ]
    },
    {
      "cell_type": "markdown",
      "source": [
        "# Vocaublary quiz"
      ],
      "metadata": {
        "id": "nEI1RtSHUkJg"
      }
    },
    {
      "cell_type": "code",
      "execution_count": 5,
      "metadata": {
        "colab": {
          "base_uri": "https://localhost:8080/"
        },
        "id": "7Xz43PG7Ui3c",
        "outputId": "609e01cb-f116-47ae-e056-522b9e95b863"
      },
      "outputs": [
        {
          "output_type": "stream",
          "name": "stdout",
          "text": [
            "How many questions would you like to play? 1\n",
            "What is the word for this definition? 'a round fruit with red or green skin and white flesh'\n",
            "Answer: apple\n",
            "Correct!\n",
            "\n",
            "Quiz complete. You scored 1/1 points.\n"
          ]
        }
      ],
      "source": [
        "import random\n",
        "\n",
        "vocab_dict = {\n",
        "    \"apple\": \"a round fruit with red or green skin and white flesh\",\n",
        "    \"book\": \"a written or printed work consisting of pages glued or sewn together along one side and bound in covers\",\n",
        "    \"computer\": \"an electronic device for storing and processing data\",\n",
        "    \"dog\": \"a domesticated carnivorous mammal with a pointed snout, furry coat, and long tail\",\n",
        "    \"umbrella\": \"a device consisting of a circular canopy of cloth on a folding metal frame supported by a central rod, used as protection against rain\",\n",
        "    \"television\": \"an electronic system of transmitting images and sound that are reproduced on screens, chiefly used to broadcast programs for entertainment, information, and education\",\n",
        "    \"coffee\": \"a drink made from the roasted and ground bean-like seeds of a tropical shrub\",\n",
        "    \"chair\": \"a separate seat for one person, typically with a back and four legs\",\n",
        "    \"pen\": \"an instrument for writing or drawing with ink\",\n",
        "    \"phone\": \"a device that can make and receive calls over a telephone line or wireless connection\"\n",
        "}\n",
        "\n",
        "def quiz(num_questions):\n",
        "    score = 0\n",
        "    questions = random.sample(list(vocab_dict.items()), num_questions)\n",
        "    for word, definition in questions:\n",
        "        print(\"What is the word for this definition? '{}'\".format(definition))\n",
        "        answer = input(\"Answer: \")\n",
        "        if answer.lower() == word.lower():\n",
        "            print(\"Correct!\")\n",
        "            score += 1\n",
        "        else:\n",
        "            print(\"Incorrect. The correct answer is '{}'.\".format(word))\n",
        "        print()\n",
        "    print(\"Quiz complete. You scored {}/{} points.\".format(score, num_questions))\n",
        "\n",
        "if __name__ == '__main__':\n",
        "    num_questions = int(input(\"How many questions would you like to play? \"))\n",
        "    quiz(num_questions)\n"
      ]
    },
    {
      "cell_type": "markdown",
      "source": [
        "Giving hints: the first character, the total number of characters"
      ],
      "metadata": {
        "id": "yEh6fxAQWAF1"
      }
    },
    {
      "cell_type": "code",
      "source": [
        "import random\n",
        "\n",
        "vocab_dict = {\n",
        "    \"apple\": \"a round fruit with red or green skin and white flesh\",\n",
        "    \"book\": \"a written or printed work consisting of pages glued or sewn together along one side and bound in covers\",\n",
        "    \"computer\": \"an electronic device for storing and processing data\",\n",
        "    \"dog\": \"a domesticated carnivorous mammal with a pointed snout, furry coat, and long tail\",\n",
        "    \"umbrella\": \"a device consisting of a circular canopy of cloth on a folding metal frame supported by a central rod, used as protection against rain\",\n",
        "    \"television\": \"an electronic system of transmitting images and sound that are reproduced on screens, chiefly used to broadcast programs for entertainment, information, and education\",\n",
        "    \"coffee\": \"a drink made from the roasted and ground bean-like seeds of a tropical shrub\",\n",
        "    \"chair\": \"a separate seat for one person, typically with a back and four legs\",\n",
        "    \"pen\": \"an instrument for writing or drawing with ink\",\n",
        "    \"phone\": \"a device that can make and receive calls over a telephone line or wireless connection\"\n",
        "}\n",
        "\n",
        "def quiz(num_questions):\n",
        "    score = 0\n",
        "    questions = random.sample(list(vocab_dict.items()), num_questions)\n",
        "    for word, definition in questions:\n",
        "        print(\"What is the word for this definition? '{}'\".format(definition))\n",
        "        answer = input(\"Answer: \")\n",
        "        if answer.lower() == word.lower():\n",
        "            print(\"Correct!\")\n",
        "            score += 1\n",
        "        else:\n",
        "            print(\"Incorrect. The correct answer starts with '{}'.\\n\".format(word[0]))\n",
        "            answer = input(\"Answer: \")\n",
        "            if answer.lower() == word.lower():\n",
        "                print(\"Correct!\")\n",
        "                score += 1\n",
        "            else:\n",
        "                print(\"Incorrect. Here's one more hint: the word consists of {} characters.\\n\".format(len(word)))\n",
        "                answer = input(\"Answer: \")\n",
        "                if answer.lower() == word.lower():\n",
        "                    print(\"Correct!\")\n",
        "                    score += 1\n",
        "                else:\n",
        "                    print(\"Incorrect. The correct answer is '{}'.\".format(word))\n",
        "        print()\n",
        "    print(\"Quiz complete. You scored {}/{} points.\".format(score, num_questions))\n",
        "\n",
        "if __name__ == '__main__':\n",
        "    num_questions = int(input(\"How many questions would you like to play? \"))\n",
        "    quiz(num_questions)\n"
      ],
      "metadata": {
        "colab": {
          "base_uri": "https://localhost:8080/"
        },
        "id": "0xCz98QsV_j8",
        "outputId": "5a638c9a-6d39-483d-a904-ffa2a54f121d"
      },
      "execution_count": 6,
      "outputs": [
        {
          "output_type": "stream",
          "name": "stdout",
          "text": [
            "How many questions would you like to play? 1\n",
            "What is the word for this definition? 'a device that can make and receive calls over a telephone line or wireless connection'\n",
            "Answer: compt\n",
            "Incorrect. The correct answer starts with 'p'.\n",
            "\n",
            "Answer: phon\n",
            "Incorrect. Here's one more hint: the word consists of 5 characters.\n",
            "\n",
            "Answer: phone\n",
            "Correct!\n",
            "\n",
            "Quiz complete. You scored 1/1 points.\n"
          ]
        }
      ]
    },
    {
      "cell_type": "code",
      "source": [
        "import random\n",
        "\n",
        "vocab_dict = {\n",
        "    \"apple\": \"a round fruit with red or green skin and white flesh\",\n",
        "    \"book\": \"a written or printed work consisting of pages glued or sewn together along one side and bound in covers\",\n",
        "    \"computer\": \"an electronic device for storing and processing data\",\n",
        "    \"dog\": \"a domesticated carnivorous mammal with a pointed snout, furry coat, and long tail\",\n",
        "    \"umbrella\": \"a device consisting of a circular canopy of cloth on a folding metal frame supported by a central rod, used as protection against rain\",\n",
        "    \"television\": \"an electronic system of transmitting images and sound that are reproduced on screens, chiefly used to broadcast programs for entertainment, information, and education\",\n",
        "    \"coffee\": \"a drink made from the roasted and ground bean-like seeds of a tropical shrub\",\n",
        "    \"chair\": \"a separate seat for one person, typically with a back and four legs\",\n",
        "    \"pen\": \"an instrument for writing or drawing with ink\",\n",
        "    \"phone\": \"a device that can make and receive calls over a telephone line or wireless connection\"\n",
        "}\n",
        "\n",
        "def quiz(num_questions):\n",
        "    score = 0\n",
        "    questions = random.sample(list(vocab_dict.items()), num_questions)\n",
        "    for word, definition in questions:\n",
        "        print(\"What is the word for this definition? '{}'\".format(definition))\n",
        "        answer = input(\"Answer: \")\n",
        "        if answer.lower() == word.lower():\n",
        "            print(\"Correct!\")\n",
        "            score += 1\n",
        "        else:\n",
        "            print(\"Incorrect. Here's a hint: the word starts with '{}'.\\n\".format(word[0]))\n",
        "            answer = input(\"Answer: \")\n",
        "            if answer.lower() == word.lower():\n",
        "                print(\"Correct!\")\n",
        "                score += 1\n",
        "            else:\n",
        "                print(\"Incorrect. Here's another hint: the word has {} letters.\\n\".format(len(word)))\n",
        "                answer = input(\"Answer: \")\n",
        "                if answer.lower() == word.lower():\n",
        "                    print(\"Correct!\")\n",
        "                    score += 1\n",
        "                else:\n",
        "                    print(\"Incorrect. The correct answer is '{}'.\".format(word))\n",
        "        print()\n",
        "    print(\"Quiz complete. You scored {}/{} points.\".format(score, num_questions))\n",
        "\n",
        "if __name__ == '__main__':\n",
        "    num_questions = int(input(\"How many questions would you like to play? \"))\n",
        "    quiz(num_questions)\n"
      ],
      "metadata": {
        "colab": {
          "base_uri": "https://localhost:8080/"
        },
        "id": "i82Ga4ZTXB_r",
        "outputId": "a73da796-f0e7-42c9-c594-447fb0b6eb5f"
      },
      "execution_count": 8,
      "outputs": [
        {
          "output_type": "stream",
          "name": "stdout",
          "text": [
            "How many questions would you like to play? 1\n",
            "What is the word for this definition? 'a drink made from the roasted and ground bean-like seeds of a tropical shrub'\n",
            "Answer: cof\n",
            "Incorrect. Here's a hint: the word starts with 'c'.\n",
            "\n",
            "Answer: coff\n",
            "Incorrect. Here's another hint: the word has 6 letters.\n",
            "\n",
            "Answer: coffee\n",
            "Correct!\n",
            "\n",
            "Quiz complete. You scored 1/1 points.\n"
          ]
        }
      ]
    }
  ]
}
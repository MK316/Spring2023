{
  "nbformat": 4,
  "nbformat_minor": 0,
  "metadata": {
    "colab": {
      "provenance": [],
      "authorship_tag": "ABX9TyOU2opkp1PH/47SDRXe06ho",
      "include_colab_link": true
    },
    "kernelspec": {
      "name": "python3",
      "display_name": "Python 3"
    },
    "language_info": {
      "name": "python"
    }
  },
  "cells": [
    {
      "cell_type": "markdown",
      "metadata": {
        "id": "view-in-github",
        "colab_type": "text"
      },
      "source": [
        "<a href=\"https://colab.research.google.com/github/MK316/Spring2023/blob/main/DL/DLProject/3_WordFrequency.ipynb\" target=\"_parent\"><img src=\"https://colab.research.google.com/assets/colab-badge.svg\" alt=\"Open In Colab\"/></a>"
      ]
    },
    {
      "cell_type": "markdown",
      "source": [
        "3. Text analysis: words and frequency table, Words in context"
      ],
      "metadata": {
        "id": "brWB3YdRetDK"
      }
    },
    {
      "cell_type": "code",
      "source": [
        "import nltk\n",
        "from nltk.corpus import stopwords\n",
        "from nltk.tokenize import word_tokenize\n",
        "from nltk.probability import FreqDist\n",
        "nltk.download('punkt')\n",
        "nltk.download('stopwords')\n",
        "\n",
        "# Let user paste the text\n",
        "text = input(\"Please paste the text to analyze: \")\n",
        "\n",
        "# Tokenize the text and remove stopwords\n",
        "tokens = word_tokenize(text)\n",
        "stop_words = set(stopwords.words('english'))\n",
        "tokens = [token for token in tokens if token.lower() not in stop_words]\n",
        "tokens = [token for token in tokens if len(token) > 1]\n",
        "types = set(tokens)\n",
        "\n",
        "# Display total number of words in tokens and types\n",
        "print(\"Total number of words (tokens):\", len(tokens))\n",
        "print(\"Total number of word types:\", len(types))"
      ],
      "metadata": {
        "colab": {
          "base_uri": "https://localhost:8080/"
        },
        "id": "JmZ9t4_HakUI",
        "outputId": "0c485662-49e4-42a0-d191-15cd57956a42"
      },
      "execution_count": 24,
      "outputs": [
        {
          "output_type": "stream",
          "name": "stderr",
          "text": [
            "[nltk_data] Downloading package punkt to /root/nltk_data...\n",
            "[nltk_data]   Package punkt is already up-to-date!\n",
            "[nltk_data] Downloading package stopwords to /root/nltk_data...\n",
            "[nltk_data]   Package stopwords is already up-to-date!\n"
          ]
        },
        {
          "output_type": "stream",
          "name": "stdout",
          "text": [
            "Please paste the text to analyze: Create a Github account if you haven't already done so. Check your account here Once you have created your account, create a new repository and name it according to your final project: \"DL23_Project\" Create a new Github page (README.md) to describe your final project. You can use the built-in Github pages feature for this purpose. Make sure to include a detailed description of your project, including the goals, objectives, and expected outcomes. How to edit md file format Create a separate page (myproject.ipynb on Colab) for your Python coding. This page should contain the actual Python code that you used to develop your project. Make sure to include detailed instructions and descriptions in your code page, so that others can understand how to use your code and replicate your results. Upload any relevant files or resources to your Github repository. This could include data sets, images, videos, or any other files that you used in your project. Make sure to properly link your Python coding page to your project page so that it is easy for others to find and access your code. Double-check to make sure that your Github repository and pages are set to public so that others can view your work. Once you have completed these steps, share the link to your Github repository with your instructor so that they can review your work. By following these steps, you should be able to successfully submit your final project using Github. Good luck!\n",
            "Total number of words (tokens): 138\n",
            "Total number of word types: 88\n"
          ]
        }
      ]
    },
    {
      "cell_type": "code",
      "source": [
        "# Display frequency table\n",
        "fdist = FreqDist(tokens)\n",
        "num_display = int(input(\"How many words do you want to display in the frequency table? \"))\n",
        "print(\"Frequency table of the most common {} words:\".format(num_display))\n",
        "fdist_tab = fdist.most_common(num_display)\n",
        "for word, frequency in fdist_tab:\n",
        "    print(\"{}: {}\".format(word, frequency))"
      ],
      "metadata": {
        "colab": {
          "base_uri": "https://localhost:8080/"
        },
        "id": "0lmMISlOa5D7",
        "outputId": "854a6f1e-bd6b-4b57-b2a7-bb908813f388"
      },
      "execution_count": 25,
      "outputs": [
        {
          "output_type": "stream",
          "name": "stdout",
          "text": [
            "How many words do you want to display in the frequency table? 20\n",
            "Frequency table of the most common 20 words:\n",
            "Github: 7\n",
            "project: 7\n",
            "page: 6\n",
            "repository: 4\n",
            "sure: 4\n",
            "code: 4\n",
            "Create: 3\n",
            "account: 3\n",
            "final: 3\n",
            "Make: 3\n",
            "include: 3\n",
            "Python: 3\n",
            "others: 3\n",
            "new: 2\n",
            "use: 2\n",
            "pages: 2\n",
            "detailed: 2\n",
            "coding: 2\n",
            "used: 2\n",
            "files: 2\n"
          ]
        }
      ]
    },
    {
      "cell_type": "code",
      "source": [
        "# Display words in contexts\n",
        "keyword = input(\"Enter a keyword to display its contexts: \")\n",
        "nltk_text = nltk.Text(tokens)\n",
        "nltk_text.concordance(keyword)"
      ],
      "metadata": {
        "colab": {
          "base_uri": "https://localhost:8080/"
        },
        "id": "9pcvrSZ9a9nt",
        "outputId": "07de6a5d-b3a2-4beb-cb5c-20226159f29b"
      },
      "execution_count": 26,
      "outputs": [
        {
          "output_type": "stream",
          "name": "stdout",
          "text": [
            "Enter a keyword to display its contexts: coding\n",
            "Displaying 2 of 2 matches:\n",
            "e page myproject.ipynb Colab Python coding page contain actual Python code use\n",
            "ject Make sure properly link Python coding page project page easy others find \n"
          ]
        }
      ]
    },
    {
      "cell_type": "code",
      "source": [
        "# Save the results to a file\n",
        "file_name = input(\"Enter the file name to save the results (without csv extension): \")\n",
        "nltk_text_conc = nltk_text.concordance_list(keyword)\n",
        "with open(file_name + \".csv\", mode='w') as file:\n",
        "    file.write(\"Word,Frequency\\n\")\n",
        "    for word, frequency in fdist.items():\n",
        "        file.write(\"{},{}\\n\".format(word, frequency))\n",
        "print(\"Results saved to {}.csv\".format(file_name))\n"
      ],
      "metadata": {
        "colab": {
          "base_uri": "https://localhost:8080/"
        },
        "id": "TLStr7h7a_B_",
        "outputId": "234de4ff-79aa-48c0-bdd5-d3921daea9e0"
      },
      "execution_count": 27,
      "outputs": [
        {
          "output_type": "stream",
          "name": "stdout",
          "text": [
            "Enter the file name to save the results (without csv extension): test8\n",
            "Results saved to test8.csv\n"
          ]
        }
      ]
    },
    {
      "cell_type": "markdown",
      "source": [
        "Read csv file (to check)"
      ],
      "metadata": {
        "id": "kPueklh7bP4z"
      }
    },
    {
      "cell_type": "code",
      "source": [
        "import pandas as pd\n",
        "df = pd.read_csv('test8.csv', encoding='utf-8', error_bad_lines=False)\n",
        "\n",
        "df"
      ],
      "metadata": {
        "id": "oGrWGV89bSFv"
      },
      "execution_count": null,
      "outputs": []
    }
  ]
}
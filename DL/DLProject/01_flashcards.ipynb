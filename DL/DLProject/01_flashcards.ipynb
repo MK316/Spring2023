{
  "nbformat": 4,
  "nbformat_minor": 0,
  "metadata": {
    "colab": {
      "provenance": [],
      "authorship_tag": "ABX9TyOAuJWG7E7UpvsQAVIphyFR",
      "include_colab_link": true
    },
    "kernelspec": {
      "name": "python3",
      "display_name": "Python 3"
    },
    "language_info": {
      "name": "python"
    }
  },
  "cells": [
    {
      "cell_type": "markdown",
      "metadata": {
        "id": "view-in-github",
        "colab_type": "text"
      },
      "source": [
        "<a href=\"https://colab.research.google.com/github/MK316/Spring2023/blob/main/DL/DLProject/01_flashcards.ipynb\" target=\"_parent\"><img src=\"https://colab.research.google.com/assets/colab-badge.svg\" alt=\"Open In Colab\"/></a>"
      ]
    },
    {
      "cell_type": "markdown",
      "source": [
        "#1. Flashcards\n",
        "\n",
        "+ Get a text ready (use chatGPT)\n",
        "+ save the text on your github and get the link"
      ],
      "metadata": {
        "id": "ObOwH9ZnO-Vn"
      }
    },
    {
      "cell_type": "markdown",
      "source": [
        "Step 1. Create a dictionary {'word':'answer'}"
      ],
      "metadata": {
        "id": "CHGAXq7jNPkj"
      }
    },
    {
      "cell_type": "code",
      "execution_count": 1,
      "metadata": {
        "colab": {
          "base_uri": "https://localhost:8080/"
        },
        "id": "S9FJrZTwKgvU",
        "outputId": "83db1412-ddc8-48d4-8a7b-4cb3fb1c4e9d"
      },
      "outputs": [
        {
          "output_type": "stream",
          "name": "stdout",
          "text": [
            "[('apple', '사과'), ('banana', '바나나'), ('grape', '포도')]\n"
          ]
        }
      ],
      "source": [
        "import csv\n",
        "\n",
        "def read_flashcards(filename):\n",
        "    flashcards = []\n",
        "    with open(filename, mode='r', encoding='utf-8') as csvfile:\n",
        "        csvreader = csv.reader(csvfile)\n",
        "        for row in csvreader:\n",
        "            flashcards.append((row[0], row[1]))\n",
        "    return flashcards\n",
        "\n",
        "def write_flashcards(flashcards, filename):\n",
        "    with open(filename, mode='w', encoding='utf-8', newline='') as csvfile:\n",
        "        csvwriter = csv.writer(csvfile)\n",
        "        for card in flashcards:\n",
        "            csvwriter.writerow(card)\n",
        "\n",
        "# Add more word pairs here\n",
        "def main():\n",
        "    flashcards = [\n",
        "        ('apple', '사과'),\n",
        "        ('banana', '바나나'),\n",
        "        ('grape', '포도')\n",
        "    ]\n",
        "\n",
        "    # Write flashcards to file\n",
        "    write_flashcards(flashcards, 'flashcards.csv')\n",
        "\n",
        "    # Read flashcards from file\n",
        "    loaded_flashcards = read_flashcards('flashcards.csv')\n",
        "    print(loaded_flashcards)\n",
        "\n",
        "if __name__ == '__main__':\n",
        "    main()\n"
      ]
    },
    {
      "cell_type": "markdown",
      "source": [
        "Step 2. Flashcard game [1]"
      ],
      "metadata": {
        "id": "b63i4zVOOrvV"
      }
    },
    {
      "cell_type": "code",
      "source": [
        "import csv\n",
        "import random\n",
        "\n",
        "def read_flashcards(filename):\n",
        "    flashcards = []\n",
        "    with open(filename, mode='r', encoding='utf-8') as csvfile:\n",
        "        csvreader = csv.reader(csvfile)\n",
        "        for row in csvreader:\n",
        "            flashcards.append((row[0], row[1]))\n",
        "    return flashcards\n",
        "\n",
        "def game(flashcards):\n",
        "    total_questions = len(flashcards)\n",
        "    correct_answers = 0\n",
        "\n",
        "    for word, translation in flashcards:\n",
        "        print(f\"\\nTranslate the following word: {word}\")\n",
        "        user_input = input(\"> \")\n",
        "\n",
        "        if user_input.lower() == translation.lower():\n",
        "            print(\"Correct!\")\n",
        "            correct_answers += 1\n",
        "        else:\n",
        "            print(f\"Wrong! The correct translation is: {translation}\")\n",
        "\n",
        "    print(f\"\\nYour score: {correct_answers}/{total_questions}\")\n",
        "\n",
        "def main():\n",
        "    flashcards = read_flashcards('flashcards.csv')\n",
        "    random.shuffle(flashcards)\n",
        "    print(\"Welcome to the Flashcard Game! Let's start:\")\n",
        "    game(flashcards)\n",
        "\n",
        "if __name__ == '__main__':\n",
        "    main()\n"
      ],
      "metadata": {
        "colab": {
          "base_uri": "https://localhost:8080/"
        },
        "id": "-a8cM0O5LVzn",
        "outputId": "8a16f8ad-e4a9-43a3-fc7d-f7de1f4287b6"
      },
      "execution_count": 2,
      "outputs": [
        {
          "output_type": "stream",
          "name": "stdout",
          "text": [
            "Welcome to the Flashcard Game! Let's start:\n",
            "\n",
            "Translate the following word: banana\n",
            "> 바나나\n",
            "Correct!\n",
            "\n",
            "Translate the following word: apple\n",
            "> 사과\n",
            "Correct!\n",
            "\n",
            "Translate the following word: grape\n",
            "> 포도\n",
            "Correct!\n",
            "\n",
            "Your score: 3/3\n"
          ]
        }
      ]
    },
    {
      "cell_type": "markdown",
      "source": [
        "Step 3. Flashcard game: display variation"
      ],
      "metadata": {
        "id": "vGM49WSDOvRG"
      }
    },
    {
      "cell_type": "code",
      "source": [
        "import csv\n",
        "import random\n",
        "\n",
        "def read_flashcards(filename):\n",
        "    flashcards = []\n",
        "    with open(filename, mode='r', encoding='utf-8') as csvfile:\n",
        "        csvreader = csv.reader(csvfile)\n",
        "        for row in csvreader:\n",
        "            flashcards.append((row[0], row[1].split(', ')))\n",
        "    return flashcards\n",
        "\n",
        "def print_yellow_box(word, width=20):\n",
        "    print(\"█\" * (width + 2))\n",
        "    padding = (width - len(word)) // 2\n",
        "    print(\"█\" + \" \" * padding + word + \" \" * (width - len(word) - padding) + \"█\")\n",
        "    print(\"█\" * (width + 2))\n",
        "\n",
        "def game(flashcards):\n",
        "    total_questions = len(flashcards)\n",
        "    correct_answers = 0\n",
        "\n",
        "    for word, translations in flashcards:\n",
        "        print(\"\\nTranslate the following word:\")\n",
        "        print_yellow_box(word)\n",
        "\n",
        "        user_input = input(\"> \")\n",
        "\n",
        "        if user_input.lower() in [t.lower() for t in translations]:\n",
        "            print(\"Correct!\")\n",
        "            correct_answers += 1\n",
        "        else:\n",
        "            print(f\"Wrong! The correct translations are: {', '.join(translations)}\")\n",
        "\n",
        "    print(f\"\\nYour score: {correct_answers}/{total_questions}\")\n",
        "\n",
        "def main():\n",
        "    flashcards = read_flashcards('flashcards.csv')\n",
        "    random.shuffle(flashcards)\n",
        "    print(\"Welcome to the Flashcard Game! Let's start:\")\n",
        "    game(flashcards)\n",
        "\n",
        "if __name__ == '__main__':\n",
        "    main()\n"
      ],
      "metadata": {
        "colab": {
          "base_uri": "https://localhost:8080/"
        },
        "id": "Rkki7BCXN2iB",
        "outputId": "a0ab2888-dbfb-4f7f-8ed5-7d295ae46a5b"
      },
      "execution_count": 9,
      "outputs": [
        {
          "output_type": "stream",
          "name": "stdout",
          "text": [
            "Welcome to the Flashcard Game! Let's start:\n",
            "\n",
            "Translate the following word:\n",
            "██████████████████████\n",
            "█       apple        █\n",
            "██████████████████████\n",
            "> 사과\n",
            "Correct!\n",
            "\n",
            "Translate the following word:\n",
            "██████████████████████\n",
            "█       banana       █\n",
            "██████████████████████\n",
            "> 바나나\n",
            "Correct!\n",
            "\n",
            "Translate the following word:\n",
            "██████████████████████\n",
            "█       grape        █\n",
            "██████████████████████\n",
            "> 포도\n",
            "Correct!\n",
            "\n",
            "Your score: 3/3\n"
          ]
        }
      ]
    },
    {
      "cell_type": "markdown",
      "source": [
        "## Read csv file on colab using {pandas}"
      ],
      "metadata": {
        "id": "9lzLqUcGO0r9"
      }
    },
    {
      "cell_type": "code",
      "source": [
        "import pandas as pd\n",
        "\n",
        "df = pd.read_csv(\"flashcards.csv\")\n",
        "df"
      ],
      "metadata": {
        "colab": {
          "base_uri": "https://localhost:8080/",
          "height": 147
        },
        "id": "MWhQgYajM3wA",
        "outputId": "98218c0b-39b4-4f02-b2f6-c9c602fefeb8"
      },
      "execution_count": 6,
      "outputs": [
        {
          "output_type": "execute_result",
          "data": {
            "text/plain": [
              "    apple   사과\n",
              "0  banana  바나나\n",
              "1   grape   포도"
            ],
            "text/html": [
              "\n",
              "  <div id=\"df-fd1291b1-4e13-4f1f-9be7-c18424079e08\">\n",
              "    <div class=\"colab-df-container\">\n",
              "      <div>\n",
              "<style scoped>\n",
              "    .dataframe tbody tr th:only-of-type {\n",
              "        vertical-align: middle;\n",
              "    }\n",
              "\n",
              "    .dataframe tbody tr th {\n",
              "        vertical-align: top;\n",
              "    }\n",
              "\n",
              "    .dataframe thead th {\n",
              "        text-align: right;\n",
              "    }\n",
              "</style>\n",
              "<table border=\"1\" class=\"dataframe\">\n",
              "  <thead>\n",
              "    <tr style=\"text-align: right;\">\n",
              "      <th></th>\n",
              "      <th>apple</th>\n",
              "      <th>사과</th>\n",
              "    </tr>\n",
              "  </thead>\n",
              "  <tbody>\n",
              "    <tr>\n",
              "      <th>0</th>\n",
              "      <td>banana</td>\n",
              "      <td>바나나</td>\n",
              "    </tr>\n",
              "    <tr>\n",
              "      <th>1</th>\n",
              "      <td>grape</td>\n",
              "      <td>포도</td>\n",
              "    </tr>\n",
              "  </tbody>\n",
              "</table>\n",
              "</div>\n",
              "      <button class=\"colab-df-convert\" onclick=\"convertToInteractive('df-fd1291b1-4e13-4f1f-9be7-c18424079e08')\"\n",
              "              title=\"Convert this dataframe to an interactive table.\"\n",
              "              style=\"display:none;\">\n",
              "        \n",
              "  <svg xmlns=\"http://www.w3.org/2000/svg\" height=\"24px\"viewBox=\"0 0 24 24\"\n",
              "       width=\"24px\">\n",
              "    <path d=\"M0 0h24v24H0V0z\" fill=\"none\"/>\n",
              "    <path d=\"M18.56 5.44l.94 2.06.94-2.06 2.06-.94-2.06-.94-.94-2.06-.94 2.06-2.06.94zm-11 1L8.5 8.5l.94-2.06 2.06-.94-2.06-.94L8.5 2.5l-.94 2.06-2.06.94zm10 10l.94 2.06.94-2.06 2.06-.94-2.06-.94-.94-2.06-.94 2.06-2.06.94z\"/><path d=\"M17.41 7.96l-1.37-1.37c-.4-.4-.92-.59-1.43-.59-.52 0-1.04.2-1.43.59L10.3 9.45l-7.72 7.72c-.78.78-.78 2.05 0 2.83L4 21.41c.39.39.9.59 1.41.59.51 0 1.02-.2 1.41-.59l7.78-7.78 2.81-2.81c.8-.78.8-2.07 0-2.86zM5.41 20L4 18.59l7.72-7.72 1.47 1.35L5.41 20z\"/>\n",
              "  </svg>\n",
              "      </button>\n",
              "      \n",
              "  <style>\n",
              "    .colab-df-container {\n",
              "      display:flex;\n",
              "      flex-wrap:wrap;\n",
              "      gap: 12px;\n",
              "    }\n",
              "\n",
              "    .colab-df-convert {\n",
              "      background-color: #E8F0FE;\n",
              "      border: none;\n",
              "      border-radius: 50%;\n",
              "      cursor: pointer;\n",
              "      display: none;\n",
              "      fill: #1967D2;\n",
              "      height: 32px;\n",
              "      padding: 0 0 0 0;\n",
              "      width: 32px;\n",
              "    }\n",
              "\n",
              "    .colab-df-convert:hover {\n",
              "      background-color: #E2EBFA;\n",
              "      box-shadow: 0px 1px 2px rgba(60, 64, 67, 0.3), 0px 1px 3px 1px rgba(60, 64, 67, 0.15);\n",
              "      fill: #174EA6;\n",
              "    }\n",
              "\n",
              "    [theme=dark] .colab-df-convert {\n",
              "      background-color: #3B4455;\n",
              "      fill: #D2E3FC;\n",
              "    }\n",
              "\n",
              "    [theme=dark] .colab-df-convert:hover {\n",
              "      background-color: #434B5C;\n",
              "      box-shadow: 0px 1px 3px 1px rgba(0, 0, 0, 0.15);\n",
              "      filter: drop-shadow(0px 1px 2px rgba(0, 0, 0, 0.3));\n",
              "      fill: #FFFFFF;\n",
              "    }\n",
              "  </style>\n",
              "\n",
              "      <script>\n",
              "        const buttonEl =\n",
              "          document.querySelector('#df-fd1291b1-4e13-4f1f-9be7-c18424079e08 button.colab-df-convert');\n",
              "        buttonEl.style.display =\n",
              "          google.colab.kernel.accessAllowed ? 'block' : 'none';\n",
              "\n",
              "        async function convertToInteractive(key) {\n",
              "          const element = document.querySelector('#df-fd1291b1-4e13-4f1f-9be7-c18424079e08');\n",
              "          const dataTable =\n",
              "            await google.colab.kernel.invokeFunction('convertToInteractive',\n",
              "                                                     [key], {});\n",
              "          if (!dataTable) return;\n",
              "\n",
              "          const docLinkHtml = 'Like what you see? Visit the ' +\n",
              "            '<a target=\"_blank\" href=https://colab.research.google.com/notebooks/data_table.ipynb>data table notebook</a>'\n",
              "            + ' to learn more about interactive tables.';\n",
              "          element.innerHTML = '';\n",
              "          dataTable['output_type'] = 'display_data';\n",
              "          await google.colab.output.renderOutput(dataTable, element);\n",
              "          const docLink = document.createElement('div');\n",
              "          docLink.innerHTML = docLinkHtml;\n",
              "          element.appendChild(docLink);\n",
              "        }\n",
              "      </script>\n",
              "    </div>\n",
              "  </div>\n",
              "  "
            ]
          },
          "metadata": {},
          "execution_count": 6
        }
      ]
    }
  ]
}
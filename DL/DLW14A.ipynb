{
  "nbformat": 4,
  "nbformat_minor": 0,
  "metadata": {
    "colab": {
      "private_outputs": true,
      "provenance": [],
      "authorship_tag": "ABX9TyPM4/T7CuKdcd91dXo+oYZv",
      "include_colab_link": true
    },
    "kernelspec": {
      "name": "python3",
      "display_name": "Python 3"
    },
    "language_info": {
      "name": "python"
    }
  },
  "cells": [
    {
      "cell_type": "markdown",
      "metadata": {
        "id": "view-in-github",
        "colab_type": "text"
      },
      "source": [
        "<a href=\"https://colab.research.google.com/github/MK316/Spring2023/blob/main/DL/DLW14A.ipynb\" target=\"_parent\"><img src=\"https://colab.research.google.com/assets/colab-badge.svg\" alt=\"Open In Colab\"/></a>"
      ]
    },
    {
      "cell_type": "markdown",
      "source": [
        "# DLW14: 👸The story of king Midas and his hand 🙌\n"
      ],
      "metadata": {
        "id": "9ny_Otp2AhJX"
      }
    },
    {
      "cell_type": "markdown",
      "source": [
        "# [1] Story to share: video [2m 17s]"
      ],
      "metadata": {
        "id": "xAUMp9pDAmWr"
      }
    },
    {
      "cell_type": "code",
      "execution_count": null,
      "metadata": {
        "id": "mpWMlCyU3WBI"
      },
      "outputs": [],
      "source": [
        "!pip install gtts\n",
        "from gtts import gTTS\n",
        "from IPython.display import Audio, YouTubeVideo"
      ]
    },
    {
      "cell_type": "code",
      "source": [
        "# Display youtube video\n",
        "YouTubeVideo(\"_lBbs0kpYRs\", width=800, height=600)"
      ],
      "metadata": {
        "id": "PxSyGpYtAoKS"
      },
      "execution_count": null,
      "outputs": []
    },
    {
      "cell_type": "markdown",
      "source": [
        "# [2] How to create"
      ],
      "metadata": {
        "id": "LS1eqggvBIiZ"
      }
    },
    {
      "cell_type": "code",
      "source": [
        "#@markdown Define tts(), 'sample.mp3'\n",
        "def tts(mytext):\n",
        "    tts = gTTS(mytext)\n",
        "    tts.save('sample.mp3')\n",
        "    return Audio('sample.mp3', autoplay=True)\n",
        "def ktts(mytext):\n",
        "  tts = gTTS(mytext, lang=\"ko\")\n",
        "  tts.save('Ksample.mp3')\n",
        "  return Audio('Ksample.mp3', autoplay=True)"
      ],
      "metadata": {
        "cellView": "form",
        "id": "z6zMVUKr3e3W"
      },
      "execution_count": null,
      "outputs": []
    },
    {
      "cell_type": "code",
      "source": [
        "txt = \"He was heartbroken, realizing the mistake he had made.\"\n",
        "tts(txt)\n",
        "Audio('sample.mp3')"
      ],
      "metadata": {
        "id": "XY5qL1YK4V6W"
      },
      "execution_count": null,
      "outputs": []
    },
    {
      "cell_type": "code",
      "source": [
        "Sentence_number = \"0\" #@param = [0, 1, 2,3,4,5,6,7,8,9,10,11]\n",
        "para = int(Sentence_number)\n",
        "\n",
        "plist = [\"The story of king Midas and his hand. This video is powered by Chat GPT, Midjourney, and Keynote.\",\n",
        "         \"Once upon a time, there was a king named Midas who loved treasure more than anything else in the world.\",\n",
        "         \"He always wanted to have more and more gold and riches.\",\n",
        "         \"One day, while exploring his kingdom, King Midas met an old man who had a special power. This old man was related to a god called Dionysus and could grant wishes to people.\",\n",
        "         \"Excited by this magical opportunity, King Midas invited the old man to his palace. He treated him to delicious food and drinks, hoping to get a special wish from him.\",\n",
        "         \"Finally, the old man offered to grant King Midas one wish. The king wished to have the power to turn anything he touched into gold.\",\n",
        "         \"To his surprise, the old man granted his wish! King Midas was thrilled and started turning everything he touched into shiny gold. At first, he was very happy with his new power.\",\n",
        "         \"But soon, King Midas realized that his wish had some problems.\",\n",
        "         \"When he tried to eat his favorite food, it turned into hard gold and he couldn't enjoy it anymore. He became sad and lonely.\",\n",
        "         \"One day, his daughter came to him, hoping to make him feel better.\",\n",
        "         \"King Midas hugged her, but as soon as he touched her, she turned into a golden statue.\",\n",
        "         \"He was heartbroken, realizing the mistake he had made.\",\n",
        "         \"Here's a question for you. How does the story of King Midas connect to the risks and ethics of handling AI technology, without understanding its capabilities and consequences?\"\n",
        "         ]\n",
        "\n",
        "mytext = plist[para]\n",
        "tts(mytext)\n",
        "\n",
        "#### Rename files\n",
        "import os\n",
        "\n",
        "old = \"sample.mp3\"\n",
        "new = \"sample\"+str(para)+\".mp3\"\n",
        "\n",
        "# rename the file\n",
        "os.rename(old, new)\n",
        "Audio(new)"
      ],
      "metadata": {
        "id": "18vsNtu93kI_",
        "cellView": "form"
      },
      "execution_count": null,
      "outputs": []
    },
    {
      "cell_type": "markdown",
      "source": [
        "## Speech synthesis of the whole story"
      ],
      "metadata": {
        "id": "iMUBdnwV_fBH"
      }
    },
    {
      "cell_type": "code",
      "source": [
        "mytxt = \"\"\"\n",
        "Once upon a time, there was a king named Midas who loved treasure more than anything else in the world. He always wanted to have more and more gold and riches.\n",
        "One day, while exploring his kingdom, King Midas met an old man who had a special power. This old man was related to a god called Dionysus and could grant wishes to people.\n",
        "Excited by this magical opportunity, King Midas invited the old man to his palace. He treated him to delicious food and drinks, hoping to get a special wish from him.\n",
        "Finally, the old man offered to grant King Midas one wish. The king wished to have the power to turn anything he touched into gold.\n",
        "To his surprise, the old man granted his wish! King Midas was thrilled and started turning everything he touched into shiny gold. At first, he was very happy with his new power.\n",
        "But soon, King Midas realized that his wish had some problems. When he tried to eat his favorite food, it turned into hard gold and he couldn't enjoy it anymore. He became sad and lonely.\n",
        "One day, his daughter came to him, hoping to make him feel better. King Midas hugged her, but as soon as he touched her, she turned into a golden statue. He was heartbroken, realizing the mistake he had made.\n",
        "\"\"\"\n",
        "\n",
        "tts(mytxt)\n",
        "Audio('sample.mp3')"
      ],
      "metadata": {
        "id": "030mleOl_gaf"
      },
      "execution_count": null,
      "outputs": []
    },
    {
      "cell_type": "markdown",
      "source": [
        "# [3] ⛔ [Demo only] SST (Speech-to-Text) using Whisper (OpenAI)"
      ],
      "metadata": {
        "id": "tyFS7FoDBP0Z"
      }
    },
    {
      "cell_type": "code",
      "source": [
        "%%capture\n",
        "!pip install openai"
      ],
      "metadata": {
        "id": "YVRrasw0BUtP"
      },
      "execution_count": null,
      "outputs": []
    },
    {
      "cell_type": "markdown",
      "source": [
        "### ⛔ API key is required (It wouldn't run on your page)"
      ],
      "metadata": {
        "id": "IkP4oFQNOrBH"
      }
    },
    {
      "cell_type": "code",
      "source": [
        "import openai\n",
        "openai.api_key = input('openai API key here')"
      ],
      "metadata": {
        "id": "5qzthuMJMVhu"
      },
      "execution_count": null,
      "outputs": []
    },
    {
      "cell_type": "markdown",
      "source": [
        "+ Synthesize a sample audio in Korean"
      ],
      "metadata": {
        "id": "v0QMg3NtOel4"
      }
    },
    {
      "cell_type": "code",
      "source": [
        "ktts(\"옛날에 보물을 세상에서 무엇보다 좋아하는 마이다스라는 왕이 살고 있었습니다.\")\n",
        "Audio(\"Ksample.mp3\")"
      ],
      "metadata": {
        "id": "VK4Ao4dENwHO"
      },
      "execution_count": null,
      "outputs": []
    },
    {
      "cell_type": "markdown",
      "source": [
        "## Auto transcript"
      ],
      "metadata": {
        "id": "mLh95FAgOhKz"
      }
    },
    {
      "cell_type": "code",
      "source": [
        "audio_file = open(\"Ksample.mp3\", \"rb\")\n",
        "transcript = openai.Audio.transcribe(\"whisper-1\", audio_file)\n",
        "myscript = transcript['text']\n",
        "print(myscript)"
      ],
      "metadata": {
        "id": "O-VFPOk_MbaO"
      },
      "execution_count": null,
      "outputs": []
    },
    {
      "cell_type": "markdown",
      "source": [
        "## Auto-translation"
      ],
      "metadata": {
        "id": "T7aYZTz2ObsO"
      }
    },
    {
      "cell_type": "code",
      "source": [
        "audio_file = open(\"sample.mp3\", \"rb\")\n",
        "translation = openai.Audio.translate(\"whisper-1\", audio_file)\n",
        "print(\"Original speech:\", myscript)\n",
        "print(\"Translation: \", translation['text'])\n",
        "     "
      ],
      "metadata": {
        "id": "ZoD0eUneMdNx"
      },
      "execution_count": null,
      "outputs": []
    },
    {
      "cell_type": "markdown",
      "source": [
        "# [4] Final survey and group evaluation"
      ],
      "metadata": {
        "id": "kaYsoZVbP6pZ"
      }
    },
    {
      "cell_type": "markdown",
      "source": [
        "+ [mylink](https://docs.google.com/forms/d/1-coAOB2fmANpoH28fqpxjlC_rTP0JvSRSgQkLn3R0F8/edit): this is only for me\n",
        "+ [yourlink](https://forms.gle/6YjuTURSGNoEGfVi8): this is for you."
      ],
      "metadata": {
        "id": "hPUK7BZqQP3O"
      }
    }
  ]
}
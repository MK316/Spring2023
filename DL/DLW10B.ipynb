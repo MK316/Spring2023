{
  "nbformat": 4,
  "nbformat_minor": 0,
  "metadata": {
    "colab": {
      "provenance": [],
      "authorship_tag": "ABX9TyNZhPEfKmtafphv/tw1AiaK",
      "include_colab_link": true
    },
    "kernelspec": {
      "name": "python3",
      "display_name": "Python 3"
    },
    "language_info": {
      "name": "python"
    }
  },
  "cells": [
    {
      "cell_type": "markdown",
      "metadata": {
        "id": "view-in-github",
        "colab_type": "text"
      },
      "source": [
        "<a href=\"https://colab.research.google.com/github/MK316/Spring2023/blob/main/DL/DLW10B.ipynb\" target=\"_parent\"><img src=\"https://colab.research.google.com/assets/colab-badge.svg\" alt=\"Open In Colab\"/></a>"
      ]
    },
    {
      "cell_type": "markdown",
      "source": [
        "# Digital Literacy W10B (5/10)\n",
        "\n",
        "Todo: \n",
        "\n",
        "0. Attendance check\n",
        "1. How to collaborate using github? There are 3 videos to play (Links are below)\n",
        "2. How to display image files on colab? (e.g., like PPT slide show)\n",
        "3. Self-log"
      ],
      "metadata": {
        "id": "9oVB_JzC_pEF"
      }
    },
    {
      "cell_type": "markdown",
      "source": [
        "# 0. Attendance check (QR code)"
      ],
      "metadata": {
        "id": "LlBldNtAUOaL"
      }
    },
    {
      "cell_type": "code",
      "source": [
        "#@markdown Install {pyqrcode} and create QR for attendance checking\n",
        "!pip install pyqrcode\n",
        "\n",
        "import pyqrcode\n",
        "from pyqrcode import QRCode\n",
        "\n",
        "#@markdown Enter the link, save it as a file, and display\n",
        "s = \"https://forms.gle/4DVDa1s6q6NWyS7U7\"\n",
        "\n",
        "# Generate QR code\n",
        "url = pyqrcode.create(s)\n",
        "\n",
        "# Create and save the png file naming \"myqr.png\"\n",
        "url.svg(\"myqrcode.svg\", scale=10)\n",
        "\n",
        "from IPython.display import SVG, display\n",
        "def show_svg(file):\n",
        "    display(SVG(file))\n",
        "\n",
        "show_svg(\"myqrcode.svg\")"
      ],
      "metadata": {
        "colab": {
          "base_uri": "https://localhost:8080/",
          "height": 689
        },
        "cellView": "form",
        "id": "J9B-8-g2URi1",
        "outputId": "95e1cec0-3fc6-4c70-858c-82e6b9969f3f"
      },
      "execution_count": null,
      "outputs": [
        {
          "output_type": "stream",
          "name": "stdout",
          "text": [
            "Looking in indexes: https://pypi.org/simple, https://us-python.pkg.dev/colab-wheels/public/simple/\n",
            "Collecting pyqrcode\n",
            "  Downloading PyQRCode-1.2.1.zip (41 kB)\n",
            "\u001b[2K     \u001b[90m━━━━━━━━━━━━━━━━━━━━━━━━━━━━━━━━━━━━━━━━\u001b[0m \u001b[32m41.9/41.9 kB\u001b[0m \u001b[31m2.0 MB/s\u001b[0m eta \u001b[36m0:00:00\u001b[0m\n",
            "\u001b[?25h  Preparing metadata (setup.py) ... \u001b[?25l\u001b[?25hdone\n",
            "Building wheels for collected packages: pyqrcode\n",
            "  Building wheel for pyqrcode (setup.py) ... \u001b[?25l\u001b[?25hdone\n",
            "  Created wheel for pyqrcode: filename=PyQRCode-1.2.1-py3-none-any.whl size=36241 sha256=b6fdc134fdad7485f779e82d3736e1f4ba177f7fc961f7e0e365b6736f907e77\n",
            "  Stored in directory: /root/.cache/pip/wheels/34/2d/20/082874e49a32cdcc87ebaf99dd0099fb7774ef30f010dfb6f2\n",
            "Successfully built pyqrcode\n",
            "Installing collected packages: pyqrcode\n",
            "Successfully installed pyqrcode-1.2.1\n"
          ]
        },
        {
          "output_type": "display_data",
          "data": {
            "text/plain": [
              "<IPython.core.display.SVG object>"
            ],
            "image/svg+xml": "<svg xmlns=\"http://www.w3.org/2000/svg\" height=\"450\" width=\"450\" class=\"pyqrcode\"><path transform=\"scale(10)\" stroke=\"#000\" class=\"pyqrline\" d=\"M4 4.5h7m1 0h3m2 0h2m1 0h1m1 0h2m2 0h5m3 0h7m-37 1h1m5 0h1m1 0h1m2 0h1m5 0h1m1 0h2m1 0h1m2 0h4m1 0h1m5 0h1m-37 1h1m1 0h3m1 0h1m1 0h1m1 0h2m2 0h1m7 0h3m3 0h1m1 0h1m1 0h3m1 0h1m-37 1h1m1 0h3m1 0h1m2 0h2m1 0h3m6 0h3m2 0h1m3 0h1m1 0h3m1 0h1m-37 1h1m1 0h3m1 0h1m2 0h2m1 0h1m1 0h2m1 0h3m4 0h1m1 0h1m3 0h1m1 0h3m1 0h1m-37 1h1m5 0h1m1 0h3m2 0h1m1 0h2m5 0h1m4 0h2m1 0h1m5 0h1m-37 1h7m1 0h1m1 0h1m1 0h1m1 0h1m1 0h1m1 0h1m1 0h1m1 0h1m1 0h1m1 0h1m1 0h1m1 0h7m-29 1h2m1 0h1m1 0h1m2 0h3m2 0h1m4 0h1m1 0h1m-27 1h3m1 0h1m1 0h2m1 0h1m1 0h1m2 0h1m2 0h2m2 0h2m4 0h3m2 0h3m-32 1h1m3 0h2m1 0h5m8 0h6m-29 1h1m3 0h2m1 0h2m1 0h2m1 0h1m1 0h2m1 0h1m2 0h4m3 0h2m3 0h2m-37 1h1m1 0h3m2 0h1m2 0h1m1 0h2m2 0h4m2 0h1m3 0h1m1 0h1m1 0h1m2 0h1m2 0h1m-36 1h2m3 0h1m10 0h1m2 0h1m1 0h5m2 0h4m1 0h3m-37 1h1m1 0h1m2 0h1m4 0h1m2 0h1m2 0h2m2 0h2m1 0h1m3 0h3m3 0h2m-34 1h3m1 0h3m2 0h7m2 0h1m6 0h2m1 0h5m1 0h2m-34 1h2m8 0h1m1 0h1m1 0h8m3 0h2m-30 1h1m1 0h5m2 0h3m1 0h2m1 0h6m2 0h1m1 0h2m1 0h2m1 0h1m1 0h1m1 0h1m-35 1h3m4 0h3m4 0h1m1 0h2m3 0h2m6 0h1m2 0h1m-33 1h3m1 0h1m2 0h1m2 0h1m1 0h1m1 0h1m1 0h6m1 0h6m1 0h1m2 0h2m-37 1h1m3 0h2m1 0h1m1 0h2m2 0h2m1 0h1m1 0h1m2 0h1m2 0h1m1 0h3m2 0h2m2 0h1m-36 1h1m1 0h2m2 0h3m1 0h1m2 0h1m1 0h2m1 0h2m3 0h5m1 0h4m1 0h1m1 0h1m-36 1h1m1 0h1m4 0h1m2 0h1m1 0h5m4 0h1m1 0h3m2 0h1m1 0h1m1 0h1m1 0h2m-36 1h2m1 0h3m1 0h1m2 0h3m1 0h2m1 0h1m2 0h7m1 0h1m5 0h2m-37 1h1m1 0h2m1 0h1m1 0h2m2 0h2m1 0h6m1 0h1m2 0h2m5 0h1m1 0h1m1 0h1m-35 1h1m1 0h2m1 0h1m3 0h1m4 0h1m3 0h1m3 0h2m1 0h1m1 0h2m4 0h3m-37 1h2m3 0h1m1 0h1m1 0h1m1 0h5m2 0h1m2 0h2m4 0h1m2 0h3m3 0h1m-37 1h1m1 0h1m3 0h4m1 0h2m4 0h2m4 0h6m1 0h1m1 0h1m1 0h3m-37 1h1m1 0h4m2 0h3m2 0h2m1 0h4m3 0h1m3 0h1m1 0h1m1 0h3m-34 1h1m2 0h4m3 0h1m2 0h1m2 0h2m2 0h1m1 0h2m1 0h9m1 0h2m-29 1h2m2 0h2m5 0h1m1 0h4m3 0h1m3 0h1m2 0h1m-36 1h7m2 0h10m3 0h1m3 0h1m1 0h1m1 0h1m1 0h2m1 0h2m-37 1h1m5 0h1m3 0h1m1 0h2m3 0h2m1 0h1m1 0h3m2 0h2m3 0h1m2 0h1m-36 1h1m1 0h3m1 0h1m1 0h1m6 0h2m2 0h1m1 0h1m4 0h7m1 0h2m-36 1h1m1 0h3m1 0h1m1 0h2m7 0h4m1 0h1m1 0h3m3 0h4m-34 1h1m1 0h3m1 0h1m1 0h1m2 0h1m1 0h1m1 0h1m1 0h1m1 0h3m5 0h1m1 0h1m1 0h1m2 0h1m1 0h1m-37 1h1m5 0h1m2 0h3m2 0h1m5 0h1m1 0h1m1 0h1m1 0h4m1 0h1m1 0h1m2 0h1m-37 1h7m5 0h4m2 0h3m5 0h1m3 0h1m2 0h4\"/></svg>"
          },
          "metadata": {}
        }
      ]
    },
    {
      "cell_type": "markdown",
      "source": [
        "# 1. Play these Videos in the order (select the number 1~3)\n",
        "[💦 Midterm question link](https://github.com/MK316/workspace/blob/main/dl230503.ipynb)"
      ],
      "metadata": {
        "id": "OUFi8Tyf_37Q"
      }
    },
    {
      "cell_type": "code",
      "execution_count": null,
      "metadata": {
        "cellView": "form",
        "id": "8Aiwp12U_oTk"
      },
      "outputs": [],
      "source": [
        "from IPython.display import YouTubeVideo\n",
        "\n",
        "Videos = \"1. Todo guide\" #@param = [\"1. Todo guide\", \"2. Midterm questions\", \"3. How to collaborate on github\"]\n",
        "\n",
        "nums = Videos.split(\".\")\n",
        "num = nums[0]\n",
        "num = int(num)-1\n",
        "\n",
        "video_id = [\"C2EABSQM_zM\",\"l0xsGLAyWaU\",\"k5D37W6h56o\"]\n",
        "myvideo = video_id[num]\n",
        "YouTubeVideo(myvideo, width = 800, height = 600)"
      ]
    },
    {
      "cell_type": "markdown",
      "source": [
        "# 2. How to display image files (just like PPT slides)\n",
        "\n",
        "- 설명: PPT를 만든 후 메뉴에서 그림 파일로 내보내기가 가능합니다. 그러면 각 슬라이드 한 페이지가 이미지 파일로 저장됩니다. 각 이미지를 github에 올려놓습니다. (만드는 법도 동영상으로 아래 링크에 연결했으니 동영상을 보고 따라해 보시기 바랍니다)\n",
        "- PPT는 간단하게 첫 페이지는 조이름과 날짜, 두번째 페이지는 조원 이름, 세 번째 페이지는 조별로 어떤 프로젝트를 할지 아이디어 키워드 5개 정도 적어서 만든 후 이미지로 변환하는 작업을 하시기 바랍니다.\n",
        "\n"
      ],
      "metadata": {
        "id": "nW6blOJLOsSK"
      }
    },
    {
      "cell_type": "code",
      "source": [
        "from IPython.display import YouTubeVideo\n",
        "\n",
        "myvideo = \"ygjDYuq0MAc\"\n",
        "YouTubeVideo(myvideo, width = 800, height = 600)"
      ],
      "metadata": {
        "colab": {
          "base_uri": "https://localhost:8080/",
          "height": 620
        },
        "id": "-R80O2cXRhig",
        "outputId": "d07c65a4-76b8-4fb0-e350-40e21f4fb6ff"
      },
      "execution_count": null,
      "outputs": [
        {
          "output_type": "execute_result",
          "data": {
            "text/plain": [
              "<IPython.lib.display.YouTubeVideo at 0x7fcfd8026e30>"
            ],
            "text/html": [
              "\n",
              "        <iframe\n",
              "            width=\"800\"\n",
              "            height=\"600\"\n",
              "            src=\"https://www.youtube.com/embed/ygjDYuq0MAc\"\n",
              "            frameborder=\"0\"\n",
              "            allowfullscreen\n",
              "            \n",
              "        ></iframe>\n",
              "        "
            ],
            "image/jpeg": "[encoded data removed]"
          },
          "metadata": {},
          "execution_count": 6
        }
      ]
    },
    {
      "cell_type": "markdown",
      "source": [
        "💦 Instruction: 아래 'show code'를 눌러서 코드를 보세요. 그 중 이미지 파일 링크 있는 부분을 이해해 보시고, 본인의 이미지 파일 링크로 바꾼 후 코드를 실행해 보시기 바랍니다.\n",
        "\n",
        "**📌📌주의사항:** 복사한 링크를 붙일 때 주소창에서 복사한 링크 가운데 /blob/이라고 된 부분을 반드시시 /raw/로 바꾸셔야 합니다."
      ],
      "metadata": {
        "id": "JSBNn8_pRtbH"
      }
    },
    {
      "cell_type": "code",
      "source": [
        "#markdown Slides (e.g., 3 Image files)\n",
        "\n",
        "from IPython.display import Image\n",
        "\n",
        "myslides = \"1\" #@param = [1,2,3]\n",
        "\n",
        "sn = int(myslides)-1\n",
        "\n",
        "# \"https://github.com/MK316/workshops/blob/main/data/5SofC.006.jpeg\"\n",
        "# 위의 이미지 링크에서 blob => raw로 바꾸어서 아래에 붙였음.\n",
        "\n",
        "urls = [\"https://github.com/MK316/workshops/raw/main/data/5SofC.006.jpeg\",\n",
        "        \"https://github.com/MK316/Spring2023/raw/main/data/IPA_vowels.png\",\n",
        "        \"https://github.com/MK316/Spring2023/raw/main/DL/data/DLEE.001.jpeg\"]\n",
        "\n",
        "image = Image(urls[sn], width = 600, height = 500)\n",
        "display(image)\n"
      ],
      "metadata": {
        "cellView": "form",
        "id": "906vNpKXO6Z8"
      },
      "execution_count": null,
      "outputs": []
    },
    {
      "cell_type": "markdown",
      "source": [
        "# 3.🌱 Before you go, [Self log link](https://forms.gle/1Si6eRwRKi8WNNrd9)"
      ],
      "metadata": {
        "id": "NR0paoe7T-1R"
      }
    }
  ]
}
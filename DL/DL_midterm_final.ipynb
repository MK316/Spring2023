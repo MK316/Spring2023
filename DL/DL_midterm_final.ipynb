{
  "nbformat": 4,
  "nbformat_minor": 0,
  "metadata": {
    "colab": {
      "provenance": [],
      "authorship_tag": "ABX9TyOYayYrPLafJ0MkQFkhGUdH",
      "include_colab_link": true
    },
    "kernelspec": {
      "name": "python3",
      "display_name": "Python 3"
    },
    "language_info": {
      "name": "python"
    }
  },
  "cells": [
    {
      "cell_type": "markdown",
      "metadata": {
        "id": "view-in-github",
        "colab_type": "text"
      },
      "source": [
        "<a href=\"https://colab.research.google.com/github/MK316/Spring2023/blob/main/DL/DL_midterm_final.ipynb\" target=\"_parent\"><img src=\"https://colab.research.google.com/assets/colab-badge.svg\" alt=\"Open In Colab\"/></a>"
      ]
    },
    {
      "cell_type": "markdown",
      "source": [
        "# 💦**Digital Literacy (Spring 2023): Midterm result analysis**"
      ],
      "metadata": {
        "id": "fEVFCCE5obNS"
      }
    },
    {
      "cell_type": "markdown",
      "source": [
        "+ [Part 1: coding](https://github.com/MK316/workspace/blob/main/dl230503.ipynb)\n",
        "+ [Part II: Form](https://docs.google.com/forms/d/1cSEPfQp41pI7aRQeADE1nmwtE412MlQWhtStVtUwvrQ/edit#question=2075772843&field=1847637551)\n",
        "\n"
      ],
      "metadata": {
        "id": "8a6S3WgzogdS"
      }
    },
    {
      "cell_type": "markdown",
      "source": [
        "## Get ready: file to read"
      ],
      "metadata": {
        "id": "uVVnoDe03qKU"
      }
    },
    {
      "cell_type": "code",
      "source": [
        "#@markdown Google mount\n",
        "\n",
        "from google.colab import drive\n",
        "drive.mount('/content/drive')"
      ],
      "metadata": {
        "colab": {
          "base_uri": "https://localhost:8080/"
        },
        "cellView": "form",
        "id": "Abnqcp5Rof8n",
        "outputId": "2a32903f-4486-4d6f-9068-5046eae9e955"
      },
      "execution_count": 17,
      "outputs": [
        {
          "output_type": "stream",
          "name": "stdout",
          "text": [
            "Mounted at /content/drive\n"
          ]
        }
      ]
    },
    {
      "cell_type": "code",
      "execution_count": 20,
      "metadata": {
        "cellView": "form",
        "id": "v4pDyVnBLuUY"
      },
      "outputs": [],
      "source": [
        "#@markdown Reading the result file (DL_total_new.csv) > df\n",
        "import pandas as pd\n",
        "import matplotlib.pyplot as plt\n",
        "\n",
        "url = \"/content/drive/MyDrive/myclass/S2023/S23_DL_total_updated.csv\"\n",
        "\n",
        "df = pd.read_csv(url, encoding = \"utf-8\")\n",
        "#df.head()"
      ]
    },
    {
      "cell_type": "code",
      "source": [
        "drive.flush_and_unmount()"
      ],
      "metadata": {
        "id": "ssBQRPhisgxt"
      },
      "execution_count": 3,
      "outputs": []
    },
    {
      "cell_type": "markdown",
      "source": [
        "Todo - Data trim: remove names  \n",
        "Select columns other than 'Names'"
      ],
      "metadata": {
        "id": "Izq5XYJ9sxmD"
      }
    },
    {
      "cell_type": "markdown",
      "source": [
        "## Data trim"
      ],
      "metadata": {
        "id": "LA-_Mqab3uQk"
      }
    },
    {
      "cell_type": "code",
      "source": [
        "selected = [\"Coding\",\"Form\",\"Midterm\",\"Total\",\"Email\", \"Group\"]\n",
        "data = df[selected]"
      ],
      "metadata": {
        "id": "Tin3M6n9OjPt"
      },
      "execution_count": 21,
      "outputs": []
    },
    {
      "cell_type": "markdown",
      "source": [
        "Todo - hide Email address partially :-)  \n",
        "e.g., last 4 characters of each account"
      ],
      "metadata": {
        "id": "VoMbMopwtCJc"
      }
    },
    {
      "cell_type": "code",
      "source": [
        "NID = df[\"Email\"]\n",
        "temp = list(NID)\n",
        "\n",
        "nlist = []\n",
        "\n",
        "for i in NID:\n",
        "  nid = i[-14:-10]\n",
        "  nlist.append(nid)\n",
        "\n",
        "print(nlist)"
      ],
      "metadata": {
        "colab": {
          "base_uri": "https://localhost:8080/"
        },
        "id": "ZFBgzixvqIcX",
        "outputId": "37b05837-3837-4d57-f906-da88498eb816"
      },
      "execution_count": 22,
      "outputs": [
        {
          "output_type": "stream",
          "name": "stdout",
          "text": [
            "['1213', '7214', '1112', 'ui03', '1881', 'ng29', 'n715', 'hkim', 'nce2', '1234', '3903', '0115', '8bsh', '5387', '.dee', 'n324', 'ii03', '3717', 'ndon', 'r324', '3329', '.lgh', '2472', 'yeon', 'ujmt', '0924', 'onim', 'm316', '0258', '0321', 'g031']\n"
          ]
        }
      ]
    },
    {
      "cell_type": "markdown",
      "source": [
        "Todo - replace the original Email column with the new list"
      ],
      "metadata": {
        "id": "_XnMaA-wtS0X"
      }
    },
    {
      "cell_type": "code",
      "source": [
        "data[\"Email\"] = nlist\n",
        "data.tail()"
      ],
      "metadata": {
        "id": "Kx02JrX2qzwY",
        "outputId": "cb4db3ac-b780-42cc-e6c9-3fa7ee34327e",
        "colab": {
          "base_uri": "https://localhost:8080/",
          "height": 330
        }
      },
      "execution_count": 23,
      "outputs": [
        {
          "output_type": "stream",
          "name": "stderr",
          "text": [
            "<ipython-input-23-5e4a1656ed4c>:1: SettingWithCopyWarning: \n",
            "A value is trying to be set on a copy of a slice from a DataFrame.\n",
            "Try using .loc[row_indexer,col_indexer] = value instead\n",
            "\n",
            "See the caveats in the documentation: https://pandas.pydata.org/pandas-docs/stable/user_guide/indexing.html#returning-a-view-versus-a-copy\n",
            "  data[\"Email\"] = nlist\n"
          ]
        },
        {
          "output_type": "execute_result",
          "data": {
            "text/plain": [
              "    Coding  Form  Midterm  Total Email Group\n",
              "26    20.5  24.0    22.25   44.5  onim    G2\n",
              "27    28.0  24.0    26.00   52.0  m316    G4\n",
              "28    17.0  19.0    18.00   36.0  0258    G3\n",
              "29    12.5  24.0    18.25   36.5  0321    G6\n",
              "30    18.5  23.5    21.00   42.0  g031    G6"
            ],
            "text/html": [
              "\n",
              "  <div id=\"df-a09d0f03-757d-46ac-b1db-1d6854709110\">\n",
              "    <div class=\"colab-df-container\">\n",
              "      <div>\n",
              "<style scoped>\n",
              "    .dataframe tbody tr th:only-of-type {\n",
              "        vertical-align: middle;\n",
              "    }\n",
              "\n",
              "    .dataframe tbody tr th {\n",
              "        vertical-align: top;\n",
              "    }\n",
              "\n",
              "    .dataframe thead th {\n",
              "        text-align: right;\n",
              "    }\n",
              "</style>\n",
              "<table border=\"1\" class=\"dataframe\">\n",
              "  <thead>\n",
              "    <tr style=\"text-align: right;\">\n",
              "      <th></th>\n",
              "      <th>Coding</th>\n",
              "      <th>Form</th>\n",
              "      <th>Midterm</th>\n",
              "      <th>Total</th>\n",
              "      <th>Email</th>\n",
              "      <th>Group</th>\n",
              "    </tr>\n",
              "  </thead>\n",
              "  <tbody>\n",
              "    <tr>\n",
              "      <th>26</th>\n",
              "      <td>20.5</td>\n",
              "      <td>24.0</td>\n",
              "      <td>22.25</td>\n",
              "      <td>44.5</td>\n",
              "      <td>onim</td>\n",
              "      <td>G2</td>\n",
              "    </tr>\n",
              "    <tr>\n",
              "      <th>27</th>\n",
              "      <td>28.0</td>\n",
              "      <td>24.0</td>\n",
              "      <td>26.00</td>\n",
              "      <td>52.0</td>\n",
              "      <td>m316</td>\n",
              "      <td>G4</td>\n",
              "    </tr>\n",
              "    <tr>\n",
              "      <th>28</th>\n",
              "      <td>17.0</td>\n",
              "      <td>19.0</td>\n",
              "      <td>18.00</td>\n",
              "      <td>36.0</td>\n",
              "      <td>0258</td>\n",
              "      <td>G3</td>\n",
              "    </tr>\n",
              "    <tr>\n",
              "      <th>29</th>\n",
              "      <td>12.5</td>\n",
              "      <td>24.0</td>\n",
              "      <td>18.25</td>\n",
              "      <td>36.5</td>\n",
              "      <td>0321</td>\n",
              "      <td>G6</td>\n",
              "    </tr>\n",
              "    <tr>\n",
              "      <th>30</th>\n",
              "      <td>18.5</td>\n",
              "      <td>23.5</td>\n",
              "      <td>21.00</td>\n",
              "      <td>42.0</td>\n",
              "      <td>g031</td>\n",
              "      <td>G6</td>\n",
              "    </tr>\n",
              "  </tbody>\n",
              "</table>\n",
              "</div>\n",
              "      <button class=\"colab-df-convert\" onclick=\"convertToInteractive('df-a09d0f03-757d-46ac-b1db-1d6854709110')\"\n",
              "              title=\"Convert this dataframe to an interactive table.\"\n",
              "              style=\"display:none;\">\n",
              "        \n",
              "  <svg xmlns=\"http://www.w3.org/2000/svg\" height=\"24px\"viewBox=\"0 0 24 24\"\n",
              "       width=\"24px\">\n",
              "    <path d=\"M0 0h24v24H0V0z\" fill=\"none\"/>\n",
              "    <path d=\"M18.56 5.44l.94 2.06.94-2.06 2.06-.94-2.06-.94-.94-2.06-.94 2.06-2.06.94zm-11 1L8.5 8.5l.94-2.06 2.06-.94-2.06-.94L8.5 2.5l-.94 2.06-2.06.94zm10 10l.94 2.06.94-2.06 2.06-.94-2.06-.94-.94-2.06-.94 2.06-2.06.94z\"/><path d=\"M17.41 7.96l-1.37-1.37c-.4-.4-.92-.59-1.43-.59-.52 0-1.04.2-1.43.59L10.3 9.45l-7.72 7.72c-.78.78-.78 2.05 0 2.83L4 21.41c.39.39.9.59 1.41.59.51 0 1.02-.2 1.41-.59l7.78-7.78 2.81-2.81c.8-.78.8-2.07 0-2.86zM5.41 20L4 18.59l7.72-7.72 1.47 1.35L5.41 20z\"/>\n",
              "  </svg>\n",
              "      </button>\n",
              "      \n",
              "  <style>\n",
              "    .colab-df-container {\n",
              "      display:flex;\n",
              "      flex-wrap:wrap;\n",
              "      gap: 12px;\n",
              "    }\n",
              "\n",
              "    .colab-df-convert {\n",
              "      background-color: #E8F0FE;\n",
              "      border: none;\n",
              "      border-radius: 50%;\n",
              "      cursor: pointer;\n",
              "      display: none;\n",
              "      fill: #1967D2;\n",
              "      height: 32px;\n",
              "      padding: 0 0 0 0;\n",
              "      width: 32px;\n",
              "    }\n",
              "\n",
              "    .colab-df-convert:hover {\n",
              "      background-color: #E2EBFA;\n",
              "      box-shadow: 0px 1px 2px rgba(60, 64, 67, 0.3), 0px 1px 3px 1px rgba(60, 64, 67, 0.15);\n",
              "      fill: #174EA6;\n",
              "    }\n",
              "\n",
              "    [theme=dark] .colab-df-convert {\n",
              "      background-color: #3B4455;\n",
              "      fill: #D2E3FC;\n",
              "    }\n",
              "\n",
              "    [theme=dark] .colab-df-convert:hover {\n",
              "      background-color: #434B5C;\n",
              "      box-shadow: 0px 1px 3px 1px rgba(0, 0, 0, 0.15);\n",
              "      filter: drop-shadow(0px 1px 2px rgba(0, 0, 0, 0.3));\n",
              "      fill: #FFFFFF;\n",
              "    }\n",
              "  </style>\n",
              "\n",
              "      <script>\n",
              "        const buttonEl =\n",
              "          document.querySelector('#df-a09d0f03-757d-46ac-b1db-1d6854709110 button.colab-df-convert');\n",
              "        buttonEl.style.display =\n",
              "          google.colab.kernel.accessAllowed ? 'block' : 'none';\n",
              "\n",
              "        async function convertToInteractive(key) {\n",
              "          const element = document.querySelector('#df-a09d0f03-757d-46ac-b1db-1d6854709110');\n",
              "          const dataTable =\n",
              "            await google.colab.kernel.invokeFunction('convertToInteractive',\n",
              "                                                     [key], {});\n",
              "          if (!dataTable) return;\n",
              "\n",
              "          const docLinkHtml = 'Like what you see? Visit the ' +\n",
              "            '<a target=\"_blank\" href=https://colab.research.google.com/notebooks/data_table.ipynb>data table notebook</a>'\n",
              "            + ' to learn more about interactive tables.';\n",
              "          element.innerHTML = '';\n",
              "          dataTable['output_type'] = 'display_data';\n",
              "          await google.colab.output.renderOutput(dataTable, element);\n",
              "          const docLink = document.createElement('div');\n",
              "          docLink.innerHTML = docLinkHtml;\n",
              "          element.appendChild(docLink);\n",
              "        }\n",
              "      </script>\n",
              "    </div>\n",
              "  </div>\n",
              "  "
            ]
          },
          "metadata": {},
          "execution_count": 23
        }
      ]
    },
    {
      "cell_type": "markdown",
      "source": [
        "## **Data visualization: Graphs**"
      ],
      "metadata": {
        "id": "zv7AU5bV31LN"
      }
    },
    {
      "cell_type": "markdown",
      "source": [
        "Todo - Boxplot"
      ],
      "metadata": {
        "id": "TFV4OZ6ptaDM"
      }
    },
    {
      "cell_type": "code",
      "source": [
        "columns = \"Midterm\" #@param = [\"Coding\", \"Form\",\"Total\",\"Midterm\"]\n",
        "\n",
        "d1 = data[columns]\n",
        "plt.boxplot(d1)\n",
        "\n",
        "\n",
        "\n",
        "# Create boxplot\n",
        "plt.boxplot(d1)\n",
        "\n",
        "# Show the plot\n",
        "print(\"Data: \", columns)\n",
        "plt.show()"
      ],
      "metadata": {
        "cellView": "form",
        "id": "cfgK05zGrqqN",
        "outputId": "7880edec-3755-4433-bf67-c7d6fbd6b8bc",
        "colab": {
          "base_uri": "https://localhost:8080/",
          "height": 447
        }
      },
      "execution_count": 12,
      "outputs": [
        {
          "output_type": "stream",
          "name": "stdout",
          "text": [
            "Data:  Midterm\n"
          ]
        },
        {
          "output_type": "display_data",
          "data": {
            "text/plain": [
              "<Figure size 640x480 with 1 Axes>"
            ],
            "image/png": "[encoded data removed]"
          },
          "metadata": {}
        }
      ]
    },
    {
      "cell_type": "markdown",
      "source": [
        "Top 5 scores"
      ],
      "metadata": {
        "id": "BVZRpumDtsTW"
      }
    },
    {
      "cell_type": "code",
      "source": [
        "columns = \"Total\" #@param = [\"Coding\", \"Form\",\"Total\",\"Midterm\"]\n",
        "#@markdown Descending order (the first five)\n",
        "n = 31\n",
        "d1 = data.sort_values(by=[columns], ascending = False)\n",
        "d1.reset_index(drop=True, inplace=True)\n",
        "ID = range(1,n+1); d1['Email'] = ID; d1[columns].head()"
      ],
      "metadata": {
        "cellView": "form",
        "id": "Dg488F45txDM",
        "outputId": "84a2ae8e-73ec-407c-838a-ebd3b9c48c46",
        "colab": {
          "base_uri": "https://localhost:8080/"
        }
      },
      "execution_count": 15,
      "outputs": [
        {
          "output_type": "execute_result",
          "data": {
            "text/plain": [
              "0    52.0\n",
              "1    50.5\n",
              "2    47.5\n",
              "3    46.0\n",
              "4    44.5\n",
              "Name: Total, dtype: float64"
            ]
          },
          "metadata": {},
          "execution_count": 15
        }
      ]
    },
    {
      "cell_type": "markdown",
      "source": [
        "Histogram"
      ],
      "metadata": {
        "id": "VH-5wbbex6Hk"
      }
    },
    {
      "cell_type": "code",
      "source": [
        "columns = \"Coding\" #@param = [\"Coding\", \"Form\",\"Total\",\"Midterm\"]\n",
        "\n",
        "# Create histogram\n",
        "data[columns].hist()\n",
        "\n",
        "print(\"Data: \", columns)\n",
        "plt.show()\n"
      ],
      "metadata": {
        "cellView": "form",
        "id": "MbUoGXFJxPAp",
        "outputId": "8fb9b6eb-dc3a-4536-ca79-ac8603accd51",
        "colab": {
          "base_uri": "https://localhost:8080/",
          "height": 447
        }
      },
      "execution_count": 16,
      "outputs": [
        {
          "output_type": "stream",
          "name": "stdout",
          "text": [
            "Data:  Coding\n"
          ]
        },
        {
          "output_type": "display_data",
          "data": {
            "text/plain": [
              "<Figure size 640x480 with 1 Axes>"
            ],
            "image/png": "[encoded data removed]"
          },
          "metadata": {}
        }
      ]
    },
    {
      "cell_type": "markdown",
      "source": [
        "# Individual score distribution"
      ],
      "metadata": {
        "id": "5a_8eIGPx8vT"
      }
    },
    {
      "cell_type": "code",
      "source": [
        "columns = \"Midterm\" #@param = [\"Coding\", \"Form\",\"Total\",\"Midterm\"]\n",
        "\n",
        "n = 31\n",
        "d1 = data.sort_values(by=[columns], ascending = False)\n",
        "d1.reset_index(drop=True, inplace=True)\n",
        "ID = range(1,n+1); d1['Rank'] = ID; d1[columns].head()\n",
        "\n",
        "\n",
        "# Create histogram\n",
        "d1.plot(x=\"Rank\", y=columns, style='.')\n",
        "\n",
        "# Show the plot\n",
        "print(\"Data: \", columns)\n",
        "plt.show()\n",
        "\n",
        "\n",
        "\n",
        "# plt.ylim(0, 31)"
      ],
      "metadata": {
        "cellView": "form",
        "id": "OqQZ7TUhx9J9"
      },
      "execution_count": null,
      "outputs": []
    },
    {
      "cell_type": "markdown",
      "source": [],
      "metadata": {
        "id": "R4O2m3WM1yxd"
      }
    },
    {
      "cell_type": "code",
      "source": [
        "d1.head()"
      ],
      "metadata": {
        "id": "RvDrhWUX2KJg"
      },
      "execution_count": null,
      "outputs": []
    },
    {
      "cell_type": "code",
      "source": [
        "import seaborn as sns\n",
        "\n",
        "columns = \"Coding\" #@param = [\"Coding\", \"Form\",\"Total\",\"Midterm\"]\n",
        "\n",
        "# Define the order of the groups\n",
        "group_order = ['G1', 'G2', 'G3', 'G4', 'G5', 'G6']\n",
        "# Create a boxplot using seaborn\n",
        "sns.boxplot(x='Group', y=columns, data=data, order = group_order)"
      ],
      "metadata": {
        "cellView": "form",
        "id": "nbpDKtU21zB8"
      },
      "execution_count": null,
      "outputs": []
    }
  ]
}
{
  "nbformat": 4,
  "nbformat_minor": 0,
  "metadata": {
    "colab": {
      "provenance": [],
      "authorship_tag": "ABX9TyPRAK4rUuTy2w26NbWAiKV2",
      "include_colab_link": true
    },
    "kernelspec": {
      "name": "python3",
      "display_name": "Python 3"
    },
    "language_info": {
      "name": "python"
    }
  },
  "cells": [
    {
      "cell_type": "markdown",
      "metadata": {
        "id": "view-in-github",
        "colab_type": "text"
      },
      "source": [
        "<a href=\"https://colab.research.google.com/github/MK316/Spring2023/blob/main/DL/DL_midterm_final.ipynb\" target=\"_parent\"><img src=\"https://colab.research.google.com/assets/colab-badge.svg\" alt=\"Open In Colab\"/></a>"
      ]
    },
    {
      "cell_type": "markdown",
      "source": [
        "# 💦**Digital Literacy (Spring 2023): Midterm result analysis**"
      ],
      "metadata": {
        "id": "fEVFCCE5obNS"
      }
    },
    {
      "cell_type": "markdown",
      "source": [
        "+ [Part 1: coding](https://github.com/MK316/workspace/blob/main/dl230503.ipynb)\n",
        "+ [Part II: Form](https://docs.google.com/forms/d/1cSEPfQp41pI7aRQeADE1nmwtE412MlQWhtStVtUwvrQ/edit#question=2075772843&field=1847637551)\n",
        "\n"
      ],
      "metadata": {
        "id": "8a6S3WgzogdS"
      }
    },
    {
      "cell_type": "markdown",
      "source": [
        "## Get ready: file to read"
      ],
      "metadata": {
        "id": "uVVnoDe03qKU"
      }
    },
    {
      "cell_type": "code",
      "source": [
        "#@markdown Google mount\n",
        "\n",
        "from google.colab import drive\n",
        "drive.mount('/content/drive')"
      ],
      "metadata": {
        "colab": {
          "base_uri": "https://localhost:8080/"
        },
        "cellView": "form",
        "id": "Abnqcp5Rof8n",
        "outputId": "b8822a9a-155b-4563-fc0e-dcdf8412c3c0"
      },
      "execution_count": 27,
      "outputs": [
        {
          "output_type": "stream",
          "name": "stdout",
          "text": [
            "Mounted at /content/drive\n"
          ]
        }
      ]
    },
    {
      "cell_type": "code",
      "execution_count": 29,
      "metadata": {
        "cellView": "form",
        "id": "v4pDyVnBLuUY"
      },
      "outputs": [],
      "source": [
        "#@markdown Reading the result file (DL_total_new.csv) > df\n",
        "import pandas as pd\n",
        "import matplotlib.pyplot as plt\n",
        "\n",
        "url = \"/content/drive/MyDrive/myclass/S2023/S23_DL_total_new.csv\"\n",
        "\n",
        "df = pd.read_csv(url, encoding = \"utf-8\")\n",
        "#df.head()"
      ]
    },
    {
      "cell_type": "code",
      "source": [
        "drive.flush_and_unmount()"
      ],
      "metadata": {
        "id": "ssBQRPhisgxt"
      },
      "execution_count": 30,
      "outputs": []
    },
    {
      "cell_type": "markdown",
      "source": [
        "Todo - Data trim: remove names  \n",
        "Select columns other than 'Names'"
      ],
      "metadata": {
        "id": "Izq5XYJ9sxmD"
      }
    },
    {
      "cell_type": "markdown",
      "source": [
        "## Data trim"
      ],
      "metadata": {
        "id": "LA-_Mqab3uQk"
      }
    },
    {
      "cell_type": "code",
      "source": [
        "selected = [\"Coding\",\"Form\",\"Midterm\",\"Total\",\"Email\", \"Group\"]\n",
        "data = df[selected]\n",
        "data.head()"
      ],
      "metadata": {
        "colab": {
          "base_uri": "https://localhost:8080/",
          "height": 206
        },
        "id": "Tin3M6n9OjPt",
        "outputId": "a19dbffd-df41-4e24-d20d-617811d82bb7"
      },
      "execution_count": 82,
      "outputs": [
        {
          "output_type": "execute_result",
          "data": {
            "text/plain": [
              "   Coding  Form  Midterm  Total                  Email Group\n",
              "0    15.3  18.0    16.65   33.3    grb011213@gmail.com    G6\n",
              "1    16.0  23.0    19.50   39.0     dbdb7214@gmail.com    G5\n",
              "2    19.0  27.0    23.00   46.0   wise241112@gmail.com    G3\n",
              "3     1.5  16.0     8.75   17.5  kimkunhui03@gmail.com    G1\n",
              "4    17.0  22.0    19.50   39.0   evakmj1881@gmail.com    G1"
            ],
            "text/html": [
              "\n",
              "  <div id=\"df-26317b95-dc18-499a-83c5-53b11534bc09\">\n",
              "    <div class=\"colab-df-container\">\n",
              "      <div>\n",
              "<style scoped>\n",
              "    .dataframe tbody tr th:only-of-type {\n",
              "        vertical-align: middle;\n",
              "    }\n",
              "\n",
              "    .dataframe tbody tr th {\n",
              "        vertical-align: top;\n",
              "    }\n",
              "\n",
              "    .dataframe thead th {\n",
              "        text-align: right;\n",
              "    }\n",
              "</style>\n",
              "<table border=\"1\" class=\"dataframe\">\n",
              "  <thead>\n",
              "    <tr style=\"text-align: right;\">\n",
              "      <th></th>\n",
              "      <th>Coding</th>\n",
              "      <th>Form</th>\n",
              "      <th>Midterm</th>\n",
              "      <th>Total</th>\n",
              "      <th>Email</th>\n",
              "      <th>Group</th>\n",
              "    </tr>\n",
              "  </thead>\n",
              "  <tbody>\n",
              "    <tr>\n",
              "      <th>0</th>\n",
              "      <td>15.3</td>\n",
              "      <td>18.0</td>\n",
              "      <td>16.65</td>\n",
              "      <td>33.3</td>\n",
              "      <td>grb011213@gmail.com</td>\n",
              "      <td>G6</td>\n",
              "    </tr>\n",
              "    <tr>\n",
              "      <th>1</th>\n",
              "      <td>16.0</td>\n",
              "      <td>23.0</td>\n",
              "      <td>19.50</td>\n",
              "      <td>39.0</td>\n",
              "      <td>dbdb7214@gmail.com</td>\n",
              "      <td>G5</td>\n",
              "    </tr>\n",
              "    <tr>\n",
              "      <th>2</th>\n",
              "      <td>19.0</td>\n",
              "      <td>27.0</td>\n",
              "      <td>23.00</td>\n",
              "      <td>46.0</td>\n",
              "      <td>wise241112@gmail.com</td>\n",
              "      <td>G3</td>\n",
              "    </tr>\n",
              "    <tr>\n",
              "      <th>3</th>\n",
              "      <td>1.5</td>\n",
              "      <td>16.0</td>\n",
              "      <td>8.75</td>\n",
              "      <td>17.5</td>\n",
              "      <td>kimkunhui03@gmail.com</td>\n",
              "      <td>G1</td>\n",
              "    </tr>\n",
              "    <tr>\n",
              "      <th>4</th>\n",
              "      <td>17.0</td>\n",
              "      <td>22.0</td>\n",
              "      <td>19.50</td>\n",
              "      <td>39.0</td>\n",
              "      <td>evakmj1881@gmail.com</td>\n",
              "      <td>G1</td>\n",
              "    </tr>\n",
              "  </tbody>\n",
              "</table>\n",
              "</div>\n",
              "      <button class=\"colab-df-convert\" onclick=\"convertToInteractive('df-26317b95-dc18-499a-83c5-53b11534bc09')\"\n",
              "              title=\"Convert this dataframe to an interactive table.\"\n",
              "              style=\"display:none;\">\n",
              "        \n",
              "  <svg xmlns=\"http://www.w3.org/2000/svg\" height=\"24px\"viewBox=\"0 0 24 24\"\n",
              "       width=\"24px\">\n",
              "    <path d=\"M0 0h24v24H0V0z\" fill=\"none\"/>\n",
              "    <path d=\"M18.56 5.44l.94 2.06.94-2.06 2.06-.94-2.06-.94-.94-2.06-.94 2.06-2.06.94zm-11 1L8.5 8.5l.94-2.06 2.06-.94-2.06-.94L8.5 2.5l-.94 2.06-2.06.94zm10 10l.94 2.06.94-2.06 2.06-.94-2.06-.94-.94-2.06-.94 2.06-2.06.94z\"/><path d=\"M17.41 7.96l-1.37-1.37c-.4-.4-.92-.59-1.43-.59-.52 0-1.04.2-1.43.59L10.3 9.45l-7.72 7.72c-.78.78-.78 2.05 0 2.83L4 21.41c.39.39.9.59 1.41.59.51 0 1.02-.2 1.41-.59l7.78-7.78 2.81-2.81c.8-.78.8-2.07 0-2.86zM5.41 20L4 18.59l7.72-7.72 1.47 1.35L5.41 20z\"/>\n",
              "  </svg>\n",
              "      </button>\n",
              "      \n",
              "  <style>\n",
              "    .colab-df-container {\n",
              "      display:flex;\n",
              "      flex-wrap:wrap;\n",
              "      gap: 12px;\n",
              "    }\n",
              "\n",
              "    .colab-df-convert {\n",
              "      background-color: #E8F0FE;\n",
              "      border: none;\n",
              "      border-radius: 50%;\n",
              "      cursor: pointer;\n",
              "      display: none;\n",
              "      fill: #1967D2;\n",
              "      height: 32px;\n",
              "      padding: 0 0 0 0;\n",
              "      width: 32px;\n",
              "    }\n",
              "\n",
              "    .colab-df-convert:hover {\n",
              "      background-color: #E2EBFA;\n",
              "      box-shadow: 0px 1px 2px rgba(60, 64, 67, 0.3), 0px 1px 3px 1px rgba(60, 64, 67, 0.15);\n",
              "      fill: #174EA6;\n",
              "    }\n",
              "\n",
              "    [theme=dark] .colab-df-convert {\n",
              "      background-color: #3B4455;\n",
              "      fill: #D2E3FC;\n",
              "    }\n",
              "\n",
              "    [theme=dark] .colab-df-convert:hover {\n",
              "      background-color: #434B5C;\n",
              "      box-shadow: 0px 1px 3px 1px rgba(0, 0, 0, 0.15);\n",
              "      filter: drop-shadow(0px 1px 2px rgba(0, 0, 0, 0.3));\n",
              "      fill: #FFFFFF;\n",
              "    }\n",
              "  </style>\n",
              "\n",
              "      <script>\n",
              "        const buttonEl =\n",
              "          document.querySelector('#df-26317b95-dc18-499a-83c5-53b11534bc09 button.colab-df-convert');\n",
              "        buttonEl.style.display =\n",
              "          google.colab.kernel.accessAllowed ? 'block' : 'none';\n",
              "\n",
              "        async function convertToInteractive(key) {\n",
              "          const element = document.querySelector('#df-26317b95-dc18-499a-83c5-53b11534bc09');\n",
              "          const dataTable =\n",
              "            await google.colab.kernel.invokeFunction('convertToInteractive',\n",
              "                                                     [key], {});\n",
              "          if (!dataTable) return;\n",
              "\n",
              "          const docLinkHtml = 'Like what you see? Visit the ' +\n",
              "            '<a target=\"_blank\" href=https://colab.research.google.com/notebooks/data_table.ipynb>data table notebook</a>'\n",
              "            + ' to learn more about interactive tables.';\n",
              "          element.innerHTML = '';\n",
              "          dataTable['output_type'] = 'display_data';\n",
              "          await google.colab.output.renderOutput(dataTable, element);\n",
              "          const docLink = document.createElement('div');\n",
              "          docLink.innerHTML = docLinkHtml;\n",
              "          element.appendChild(docLink);\n",
              "        }\n",
              "      </script>\n",
              "    </div>\n",
              "  </div>\n",
              "  "
            ]
          },
          "metadata": {},
          "execution_count": 82
        }
      ]
    },
    {
      "cell_type": "markdown",
      "source": [
        "Todo - hide Email address partially :-)  \n",
        "e.g., last 4 characters of each account"
      ],
      "metadata": {
        "id": "VoMbMopwtCJc"
      }
    },
    {
      "cell_type": "code",
      "source": [
        "NID = df[\"Email\"]\n",
        "temp = list(NID)\n",
        "\n",
        "nlist = []\n",
        "\n",
        "for i in NID:\n",
        "  nid = i[-14:-10]\n",
        "  nlist.append(nid)\n",
        "\n",
        "print(nlist)"
      ],
      "metadata": {
        "colab": {
          "base_uri": "https://localhost:8080/"
        },
        "id": "ZFBgzixvqIcX",
        "outputId": "42dc5d7b-69ac-4ed5-eb57-f1e70efb14ba"
      },
      "execution_count": 83,
      "outputs": [
        {
          "output_type": "stream",
          "name": "stdout",
          "text": [
            "['1213', '7214', '1112', 'ui03', '1881', 'ng29', 'n715', 'hkim', 'nce2', '1234', '3903', '0115', '8bsh', '5387', '.dee', 'n324', 'ii03', '3717', 'ndon', 'r324', '3329', '.lgh', '2472', 'yeon', 'ujmt', '0924', 'onim', 'm316', '0258', '0321', 'g031']\n"
          ]
        }
      ]
    },
    {
      "cell_type": "markdown",
      "source": [
        "Todo - replace the original Email column with the new list"
      ],
      "metadata": {
        "id": "_XnMaA-wtS0X"
      }
    },
    {
      "cell_type": "code",
      "source": [
        "data[\"Email\"] = nlist\n",
        "data.head()"
      ],
      "metadata": {
        "colab": {
          "base_uri": "https://localhost:8080/",
          "height": 318
        },
        "id": "Kx02JrX2qzwY",
        "outputId": "183bb6c2-964c-4767-f39d-257e17f5a005"
      },
      "execution_count": 84,
      "outputs": [
        {
          "output_type": "stream",
          "name": "stderr",
          "text": [
            "<ipython-input-84-0ab6803d9bba>:1: SettingWithCopyWarning: \n",
            "A value is trying to be set on a copy of a slice from a DataFrame.\n",
            "Try using .loc[row_indexer,col_indexer] = value instead\n",
            "\n",
            "See the caveats in the documentation: https://pandas.pydata.org/pandas-docs/stable/user_guide/indexing.html#returning-a-view-versus-a-copy\n",
            "  data[\"Email\"] = nlist\n"
          ]
        },
        {
          "output_type": "execute_result",
          "data": {
            "text/plain": [
              "   Coding  Form  Midterm  Total Email Group\n",
              "0    15.3  18.0    16.65   33.3  1213    G6\n",
              "1    16.0  23.0    19.50   39.0  7214    G5\n",
              "2    19.0  27.0    23.00   46.0  1112    G3\n",
              "3     1.5  16.0     8.75   17.5  ui03    G1\n",
              "4    17.0  22.0    19.50   39.0  1881    G1"
            ],
            "text/html": [
              "\n",
              "  <div id=\"df-86302cec-fc66-4ad1-a23b-6add4160bbde\">\n",
              "    <div class=\"colab-df-container\">\n",
              "      <div>\n",
              "<style scoped>\n",
              "    .dataframe tbody tr th:only-of-type {\n",
              "        vertical-align: middle;\n",
              "    }\n",
              "\n",
              "    .dataframe tbody tr th {\n",
              "        vertical-align: top;\n",
              "    }\n",
              "\n",
              "    .dataframe thead th {\n",
              "        text-align: right;\n",
              "    }\n",
              "</style>\n",
              "<table border=\"1\" class=\"dataframe\">\n",
              "  <thead>\n",
              "    <tr style=\"text-align: right;\">\n",
              "      <th></th>\n",
              "      <th>Coding</th>\n",
              "      <th>Form</th>\n",
              "      <th>Midterm</th>\n",
              "      <th>Total</th>\n",
              "      <th>Email</th>\n",
              "      <th>Group</th>\n",
              "    </tr>\n",
              "  </thead>\n",
              "  <tbody>\n",
              "    <tr>\n",
              "      <th>0</th>\n",
              "      <td>15.3</td>\n",
              "      <td>18.0</td>\n",
              "      <td>16.65</td>\n",
              "      <td>33.3</td>\n",
              "      <td>1213</td>\n",
              "      <td>G6</td>\n",
              "    </tr>\n",
              "    <tr>\n",
              "      <th>1</th>\n",
              "      <td>16.0</td>\n",
              "      <td>23.0</td>\n",
              "      <td>19.50</td>\n",
              "      <td>39.0</td>\n",
              "      <td>7214</td>\n",
              "      <td>G5</td>\n",
              "    </tr>\n",
              "    <tr>\n",
              "      <th>2</th>\n",
              "      <td>19.0</td>\n",
              "      <td>27.0</td>\n",
              "      <td>23.00</td>\n",
              "      <td>46.0</td>\n",
              "      <td>1112</td>\n",
              "      <td>G3</td>\n",
              "    </tr>\n",
              "    <tr>\n",
              "      <th>3</th>\n",
              "      <td>1.5</td>\n",
              "      <td>16.0</td>\n",
              "      <td>8.75</td>\n",
              "      <td>17.5</td>\n",
              "      <td>ui03</td>\n",
              "      <td>G1</td>\n",
              "    </tr>\n",
              "    <tr>\n",
              "      <th>4</th>\n",
              "      <td>17.0</td>\n",
              "      <td>22.0</td>\n",
              "      <td>19.50</td>\n",
              "      <td>39.0</td>\n",
              "      <td>1881</td>\n",
              "      <td>G1</td>\n",
              "    </tr>\n",
              "  </tbody>\n",
              "</table>\n",
              "</div>\n",
              "      <button class=\"colab-df-convert\" onclick=\"convertToInteractive('df-86302cec-fc66-4ad1-a23b-6add4160bbde')\"\n",
              "              title=\"Convert this dataframe to an interactive table.\"\n",
              "              style=\"display:none;\">\n",
              "        \n",
              "  <svg xmlns=\"http://www.w3.org/2000/svg\" height=\"24px\"viewBox=\"0 0 24 24\"\n",
              "       width=\"24px\">\n",
              "    <path d=\"M0 0h24v24H0V0z\" fill=\"none\"/>\n",
              "    <path d=\"M18.56 5.44l.94 2.06.94-2.06 2.06-.94-2.06-.94-.94-2.06-.94 2.06-2.06.94zm-11 1L8.5 8.5l.94-2.06 2.06-.94-2.06-.94L8.5 2.5l-.94 2.06-2.06.94zm10 10l.94 2.06.94-2.06 2.06-.94-2.06-.94-.94-2.06-.94 2.06-2.06.94z\"/><path d=\"M17.41 7.96l-1.37-1.37c-.4-.4-.92-.59-1.43-.59-.52 0-1.04.2-1.43.59L10.3 9.45l-7.72 7.72c-.78.78-.78 2.05 0 2.83L4 21.41c.39.39.9.59 1.41.59.51 0 1.02-.2 1.41-.59l7.78-7.78 2.81-2.81c.8-.78.8-2.07 0-2.86zM5.41 20L4 18.59l7.72-7.72 1.47 1.35L5.41 20z\"/>\n",
              "  </svg>\n",
              "      </button>\n",
              "      \n",
              "  <style>\n",
              "    .colab-df-container {\n",
              "      display:flex;\n",
              "      flex-wrap:wrap;\n",
              "      gap: 12px;\n",
              "    }\n",
              "\n",
              "    .colab-df-convert {\n",
              "      background-color: #E8F0FE;\n",
              "      border: none;\n",
              "      border-radius: 50%;\n",
              "      cursor: pointer;\n",
              "      display: none;\n",
              "      fill: #1967D2;\n",
              "      height: 32px;\n",
              "      padding: 0 0 0 0;\n",
              "      width: 32px;\n",
              "    }\n",
              "\n",
              "    .colab-df-convert:hover {\n",
              "      background-color: #E2EBFA;\n",
              "      box-shadow: 0px 1px 2px rgba(60, 64, 67, 0.3), 0px 1px 3px 1px rgba(60, 64, 67, 0.15);\n",
              "      fill: #174EA6;\n",
              "    }\n",
              "\n",
              "    [theme=dark] .colab-df-convert {\n",
              "      background-color: #3B4455;\n",
              "      fill: #D2E3FC;\n",
              "    }\n",
              "\n",
              "    [theme=dark] .colab-df-convert:hover {\n",
              "      background-color: #434B5C;\n",
              "      box-shadow: 0px 1px 3px 1px rgba(0, 0, 0, 0.15);\n",
              "      filter: drop-shadow(0px 1px 2px rgba(0, 0, 0, 0.3));\n",
              "      fill: #FFFFFF;\n",
              "    }\n",
              "  </style>\n",
              "\n",
              "      <script>\n",
              "        const buttonEl =\n",
              "          document.querySelector('#df-86302cec-fc66-4ad1-a23b-6add4160bbde button.colab-df-convert');\n",
              "        buttonEl.style.display =\n",
              "          google.colab.kernel.accessAllowed ? 'block' : 'none';\n",
              "\n",
              "        async function convertToInteractive(key) {\n",
              "          const element = document.querySelector('#df-86302cec-fc66-4ad1-a23b-6add4160bbde');\n",
              "          const dataTable =\n",
              "            await google.colab.kernel.invokeFunction('convertToInteractive',\n",
              "                                                     [key], {});\n",
              "          if (!dataTable) return;\n",
              "\n",
              "          const docLinkHtml = 'Like what you see? Visit the ' +\n",
              "            '<a target=\"_blank\" href=https://colab.research.google.com/notebooks/data_table.ipynb>data table notebook</a>'\n",
              "            + ' to learn more about interactive tables.';\n",
              "          element.innerHTML = '';\n",
              "          dataTable['output_type'] = 'display_data';\n",
              "          await google.colab.output.renderOutput(dataTable, element);\n",
              "          const docLink = document.createElement('div');\n",
              "          docLink.innerHTML = docLinkHtml;\n",
              "          element.appendChild(docLink);\n",
              "        }\n",
              "      </script>\n",
              "    </div>\n",
              "  </div>\n",
              "  "
            ]
          },
          "metadata": {},
          "execution_count": 84
        }
      ]
    },
    {
      "cell_type": "markdown",
      "source": [
        "## **Data visualization: Graphs**"
      ],
      "metadata": {
        "id": "zv7AU5bV31LN"
      }
    },
    {
      "cell_type": "markdown",
      "source": [
        "Todo - Boxplot"
      ],
      "metadata": {
        "id": "TFV4OZ6ptaDM"
      }
    },
    {
      "cell_type": "code",
      "source": [
        "columns = \"Form\" #@param = [\"Coding\", \"Form\",\"Total\",\"Midterm\"]\n",
        "\n",
        "d1 = data[columns]\n",
        "plt.boxplot(d1)\n",
        "\n",
        "\n",
        "\n",
        "# Create boxplot\n",
        "plt.boxplot(d1)\n",
        "\n",
        "# Show the plot\n",
        "print(\"Data: \", columns)\n",
        "plt.show()"
      ],
      "metadata": {
        "colab": {
          "base_uri": "https://localhost:8080/",
          "height": 449
        },
        "cellView": "form",
        "id": "cfgK05zGrqqN",
        "outputId": "fbe27890-0537-4886-b5b1-7eb32ad59e50"
      },
      "execution_count": 85,
      "outputs": [
        {
          "output_type": "stream",
          "name": "stdout",
          "text": [
            "Data:  Form\n"
          ]
        },
        {
          "output_type": "display_data",
          "data": {
            "text/plain": [
              "<Figure size 640x480 with 1 Axes>"
            ],
            "image/png": "[encoded data removed]"
          },
          "metadata": {}
        }
      ]
    },
    {
      "cell_type": "markdown",
      "source": [
        "Top 5 scores"
      ],
      "metadata": {
        "id": "BVZRpumDtsTW"
      }
    },
    {
      "cell_type": "code",
      "source": [
        "columns = \"Coding\" #@param = [\"Coding\", \"Form\",\"Total\",\"Midterm\"]\n",
        "#@markdown Descending order (the first five)\n",
        "n = 31\n",
        "d1 = data.sort_values(by=[columns], ascending = False)\n",
        "d1.reset_index(drop=True, inplace=True)\n",
        "ID = range(1,n+1); d1['Email'] = ID; d1[columns].head()"
      ],
      "metadata": {
        "colab": {
          "base_uri": "https://localhost:8080/"
        },
        "cellView": "form",
        "id": "Dg488F45txDM",
        "outputId": "21622611-f74a-4819-8e85-39acd9bc4abd"
      },
      "execution_count": 86,
      "outputs": [
        {
          "output_type": "execute_result",
          "data": {
            "text/plain": [
              "0    28.5\n",
              "1    28.0\n",
              "2    24.0\n",
              "3    21.5\n",
              "4    21.0\n",
              "Name: Coding, dtype: float64"
            ]
          },
          "metadata": {},
          "execution_count": 86
        }
      ]
    },
    {
      "cell_type": "markdown",
      "source": [
        "Histogram"
      ],
      "metadata": {
        "id": "VH-5wbbex6Hk"
      }
    },
    {
      "cell_type": "code",
      "source": [
        "columns = \"Midterm\" #@param = [\"Coding\", \"Form\",\"Total\",\"Midterm\"]\n",
        "\n",
        "# Create histogram\n",
        "data[columns].hist()\n",
        "\n",
        "print(\"Data: \", columns)\n",
        "plt.show()\n"
      ],
      "metadata": {
        "colab": {
          "base_uri": "https://localhost:8080/",
          "height": 449
        },
        "cellView": "form",
        "id": "MbUoGXFJxPAp",
        "outputId": "6ae95166-07f8-4cc3-c1e4-fcd9f598e64b"
      },
      "execution_count": 63,
      "outputs": [
        {
          "output_type": "stream",
          "name": "stdout",
          "text": [
            "Data:  Midterm\n"
          ]
        },
        {
          "output_type": "display_data",
          "data": {
            "text/plain": [
              "<Figure size 640x480 with 1 Axes>"
            ],
            "image/png": "[encoded data removed]"
          },
          "metadata": {}
        }
      ]
    },
    {
      "cell_type": "markdown",
      "source": [],
      "metadata": {
        "id": "5a_8eIGPx8vT"
      }
    },
    {
      "cell_type": "code",
      "source": [
        "columns = \"Total\" #@param = [\"Coding\", \"Form\",\"Total\",\"Midterm\"]\n",
        "\n",
        "n = 31\n",
        "d1 = data.sort_values(by=[columns], ascending = False)\n",
        "d1.reset_index(drop=True, inplace=True)\n",
        "ID = range(1,n+1); d1['Rank'] = ID; d1[columns].head()\n",
        "\n",
        "\n",
        "# Create histogram\n",
        "d1.plot(x=\"Rank\", y=columns, style='.')\n",
        "\n",
        "# Show the plot\n",
        "print(\"Data: \", columns)\n",
        "plt.show()\n",
        "\n",
        "\n",
        "\n",
        "# plt.ylim(0, 31)"
      ],
      "metadata": {
        "colab": {
          "base_uri": "https://localhost:8080/",
          "height": 468
        },
        "cellView": "form",
        "id": "OqQZ7TUhx9J9",
        "outputId": "dd9ef80a-6ddb-43b0-e1e1-2daf55e40d1d"
      },
      "execution_count": 87,
      "outputs": [
        {
          "output_type": "stream",
          "name": "stdout",
          "text": [
            "Data:  Total\n"
          ]
        },
        {
          "output_type": "display_data",
          "data": {
            "text/plain": [
              "<Figure size 640x480 with 1 Axes>"
            ],
            "image/png": "[encoded data removed]"
          },
          "metadata": {}
        }
      ]
    },
    {
      "cell_type": "markdown",
      "source": [],
      "metadata": {
        "id": "R4O2m3WM1yxd"
      }
    },
    {
      "cell_type": "code",
      "source": [
        "d1.head()"
      ],
      "metadata": {
        "colab": {
          "base_uri": "https://localhost:8080/",
          "height": 206
        },
        "id": "RvDrhWUX2KJg",
        "outputId": "f5a29d26-ebf5-4dd6-aab0-112502db2abb"
      },
      "execution_count": 88,
      "outputs": [
        {
          "output_type": "execute_result",
          "data": {
            "text/plain": [
              "   Coding  Form  Midterm  Total Email Group  Rank\n",
              "0    28.0  24.0    26.00   52.0  m316    G4     1\n",
              "1    28.5  22.0    25.25   50.5  n324    G5     2\n",
              "2    24.0  23.5    23.75   47.5  hkim    G4     3\n",
              "3    19.0  27.0    23.00   46.0  1112    G3     4\n",
              "4    20.5  24.0    22.25   44.5  onim    G2     5"
            ],
            "text/html": [
              "\n",
              "  <div id=\"df-47db0d67-c21b-46f0-b0a9-41eec348c0a7\">\n",
              "    <div class=\"colab-df-container\">\n",
              "      <div>\n",
              "<style scoped>\n",
              "    .dataframe tbody tr th:only-of-type {\n",
              "        vertical-align: middle;\n",
              "    }\n",
              "\n",
              "    .dataframe tbody tr th {\n",
              "        vertical-align: top;\n",
              "    }\n",
              "\n",
              "    .dataframe thead th {\n",
              "        text-align: right;\n",
              "    }\n",
              "</style>\n",
              "<table border=\"1\" class=\"dataframe\">\n",
              "  <thead>\n",
              "    <tr style=\"text-align: right;\">\n",
              "      <th></th>\n",
              "      <th>Coding</th>\n",
              "      <th>Form</th>\n",
              "      <th>Midterm</th>\n",
              "      <th>Total</th>\n",
              "      <th>Email</th>\n",
              "      <th>Group</th>\n",
              "      <th>Rank</th>\n",
              "    </tr>\n",
              "  </thead>\n",
              "  <tbody>\n",
              "    <tr>\n",
              "      <th>0</th>\n",
              "      <td>28.0</td>\n",
              "      <td>24.0</td>\n",
              "      <td>26.00</td>\n",
              "      <td>52.0</td>\n",
              "      <td>m316</td>\n",
              "      <td>G4</td>\n",
              "      <td>1</td>\n",
              "    </tr>\n",
              "    <tr>\n",
              "      <th>1</th>\n",
              "      <td>28.5</td>\n",
              "      <td>22.0</td>\n",
              "      <td>25.25</td>\n",
              "      <td>50.5</td>\n",
              "      <td>n324</td>\n",
              "      <td>G5</td>\n",
              "      <td>2</td>\n",
              "    </tr>\n",
              "    <tr>\n",
              "      <th>2</th>\n",
              "      <td>24.0</td>\n",
              "      <td>23.5</td>\n",
              "      <td>23.75</td>\n",
              "      <td>47.5</td>\n",
              "      <td>hkim</td>\n",
              "      <td>G4</td>\n",
              "      <td>3</td>\n",
              "    </tr>\n",
              "    <tr>\n",
              "      <th>3</th>\n",
              "      <td>19.0</td>\n",
              "      <td>27.0</td>\n",
              "      <td>23.00</td>\n",
              "      <td>46.0</td>\n",
              "      <td>1112</td>\n",
              "      <td>G3</td>\n",
              "      <td>4</td>\n",
              "    </tr>\n",
              "    <tr>\n",
              "      <th>4</th>\n",
              "      <td>20.5</td>\n",
              "      <td>24.0</td>\n",
              "      <td>22.25</td>\n",
              "      <td>44.5</td>\n",
              "      <td>onim</td>\n",
              "      <td>G2</td>\n",
              "      <td>5</td>\n",
              "    </tr>\n",
              "  </tbody>\n",
              "</table>\n",
              "</div>\n",
              "      <button class=\"colab-df-convert\" onclick=\"convertToInteractive('df-47db0d67-c21b-46f0-b0a9-41eec348c0a7')\"\n",
              "              title=\"Convert this dataframe to an interactive table.\"\n",
              "              style=\"display:none;\">\n",
              "        \n",
              "  <svg xmlns=\"http://www.w3.org/2000/svg\" height=\"24px\"viewBox=\"0 0 24 24\"\n",
              "       width=\"24px\">\n",
              "    <path d=\"M0 0h24v24H0V0z\" fill=\"none\"/>\n",
              "    <path d=\"M18.56 5.44l.94 2.06.94-2.06 2.06-.94-2.06-.94-.94-2.06-.94 2.06-2.06.94zm-11 1L8.5 8.5l.94-2.06 2.06-.94-2.06-.94L8.5 2.5l-.94 2.06-2.06.94zm10 10l.94 2.06.94-2.06 2.06-.94-2.06-.94-.94-2.06-.94 2.06-2.06.94z\"/><path d=\"M17.41 7.96l-1.37-1.37c-.4-.4-.92-.59-1.43-.59-.52 0-1.04.2-1.43.59L10.3 9.45l-7.72 7.72c-.78.78-.78 2.05 0 2.83L4 21.41c.39.39.9.59 1.41.59.51 0 1.02-.2 1.41-.59l7.78-7.78 2.81-2.81c.8-.78.8-2.07 0-2.86zM5.41 20L4 18.59l7.72-7.72 1.47 1.35L5.41 20z\"/>\n",
              "  </svg>\n",
              "      </button>\n",
              "      \n",
              "  <style>\n",
              "    .colab-df-container {\n",
              "      display:flex;\n",
              "      flex-wrap:wrap;\n",
              "      gap: 12px;\n",
              "    }\n",
              "\n",
              "    .colab-df-convert {\n",
              "      background-color: #E8F0FE;\n",
              "      border: none;\n",
              "      border-radius: 50%;\n",
              "      cursor: pointer;\n",
              "      display: none;\n",
              "      fill: #1967D2;\n",
              "      height: 32px;\n",
              "      padding: 0 0 0 0;\n",
              "      width: 32px;\n",
              "    }\n",
              "\n",
              "    .colab-df-convert:hover {\n",
              "      background-color: #E2EBFA;\n",
              "      box-shadow: 0px 1px 2px rgba(60, 64, 67, 0.3), 0px 1px 3px 1px rgba(60, 64, 67, 0.15);\n",
              "      fill: #174EA6;\n",
              "    }\n",
              "\n",
              "    [theme=dark] .colab-df-convert {\n",
              "      background-color: #3B4455;\n",
              "      fill: #D2E3FC;\n",
              "    }\n",
              "\n",
              "    [theme=dark] .colab-df-convert:hover {\n",
              "      background-color: #434B5C;\n",
              "      box-shadow: 0px 1px 3px 1px rgba(0, 0, 0, 0.15);\n",
              "      filter: drop-shadow(0px 1px 2px rgba(0, 0, 0, 0.3));\n",
              "      fill: #FFFFFF;\n",
              "    }\n",
              "  </style>\n",
              "\n",
              "      <script>\n",
              "        const buttonEl =\n",
              "          document.querySelector('#df-47db0d67-c21b-46f0-b0a9-41eec348c0a7 button.colab-df-convert');\n",
              "        buttonEl.style.display =\n",
              "          google.colab.kernel.accessAllowed ? 'block' : 'none';\n",
              "\n",
              "        async function convertToInteractive(key) {\n",
              "          const element = document.querySelector('#df-47db0d67-c21b-46f0-b0a9-41eec348c0a7');\n",
              "          const dataTable =\n",
              "            await google.colab.kernel.invokeFunction('convertToInteractive',\n",
              "                                                     [key], {});\n",
              "          if (!dataTable) return;\n",
              "\n",
              "          const docLinkHtml = 'Like what you see? Visit the ' +\n",
              "            '<a target=\"_blank\" href=https://colab.research.google.com/notebooks/data_table.ipynb>data table notebook</a>'\n",
              "            + ' to learn more about interactive tables.';\n",
              "          element.innerHTML = '';\n",
              "          dataTable['output_type'] = 'display_data';\n",
              "          await google.colab.output.renderOutput(dataTable, element);\n",
              "          const docLink = document.createElement('div');\n",
              "          docLink.innerHTML = docLinkHtml;\n",
              "          element.appendChild(docLink);\n",
              "        }\n",
              "      </script>\n",
              "    </div>\n",
              "  </div>\n",
              "  "
            ]
          },
          "metadata": {},
          "execution_count": 88
        }
      ]
    },
    {
      "cell_type": "code",
      "source": [
        "import seaborn as sns\n",
        "\n",
        "columns = \"Total\" #@param = [\"Coding\", \"Form\",\"Total\",\"Midterm\"]\n",
        "\n",
        "# Define the order of the groups\n",
        "group_order = ['G1', 'G2', 'G3', 'G4', 'G5', 'G6']\n",
        "# Create a boxplot using seaborn\n",
        "sns.boxplot(x='Group', y=columns, data=data, order = group_order)"
      ],
      "metadata": {
        "colab": {
          "base_uri": "https://localhost:8080/",
          "height": 468
        },
        "cellView": "form",
        "id": "nbpDKtU21zB8",
        "outputId": "6cadea04-9282-46f7-cc3a-18da94b69de3"
      },
      "execution_count": 92,
      "outputs": [
        {
          "output_type": "execute_result",
          "data": {
            "text/plain": [
              "<Axes: xlabel='Group', ylabel='Total'>"
            ]
          },
          "metadata": {},
          "execution_count": 92
        },
        {
          "output_type": "display_data",
          "data": {
            "text/plain": [
              "<Figure size 640x480 with 1 Axes>"
            ],
            "image/png": "[encoded data removed]"
          },
          "metadata": {}
        }
      ]
    }
  ]
}
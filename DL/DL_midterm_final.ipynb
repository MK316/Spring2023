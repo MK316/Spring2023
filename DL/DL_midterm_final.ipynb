{
  "nbformat": 4,
  "nbformat_minor": 0,
  "metadata": {
    "colab": {
      "provenance": [],
      "authorship_tag": "ABX9TyNTm8y+4Y7y+McwB5b1v/Ka",
      "include_colab_link": true
    },
    "kernelspec": {
      "name": "python3",
      "display_name": "Python 3"
    },
    "language_info": {
      "name": "python"
    }
  },
  "cells": [
    {
      "cell_type": "markdown",
      "metadata": {
        "id": "view-in-github",
        "colab_type": "text"
      },
      "source": [
        "<a href=\"https://colab.research.google.com/github/MK316/Spring2023/blob/main/DL/DL_midterm_final.ipynb\" target=\"_parent\"><img src=\"https://colab.research.google.com/assets/colab-badge.svg\" alt=\"Open In Colab\"/></a>"
      ]
    },
    {
      "cell_type": "markdown",
      "source": [
        "# 💦**Digital Literacy (Spring 2023): Midterm result analysis**"
      ],
      "metadata": {
        "id": "fEVFCCE5obNS"
      }
    },
    {
      "cell_type": "markdown",
      "source": [
        "+ [Part 1: coding](https://github.com/MK316/workspace/blob/main/dl230503.ipynb)\n",
        "+ [Part II: Form](https://docs.google.com/forms/d/1cSEPfQp41pI7aRQeADE1nmwtE412MlQWhtStVtUwvrQ/edit#question=2075772843&field=1847637551)\n",
        "\n"
      ],
      "metadata": {
        "id": "8a6S3WgzogdS"
      }
    },
    {
      "cell_type": "markdown",
      "source": [
        "## Get ready: file to read"
      ],
      "metadata": {
        "id": "uVVnoDe03qKU"
      }
    },
    {
      "cell_type": "code",
      "source": [
        "#@markdown Google mount\n",
        "\n",
        "from google.colab import drive\n",
        "drive.mount('/content/drive')"
      ],
      "metadata": {
        "colab": {
          "base_uri": "https://localhost:8080/"
        },
        "cellView": "form",
        "id": "Abnqcp5Rof8n",
        "outputId": "f6acff36-a059-42ec-e995-f404e7bb41c6"
      },
      "execution_count": 1,
      "outputs": [
        {
          "output_type": "stream",
          "name": "stdout",
          "text": [
            "Mounted at /content/drive\n"
          ]
        }
      ]
    },
    {
      "cell_type": "code",
      "execution_count": 2,
      "metadata": {
        "cellView": "form",
        "id": "v4pDyVnBLuUY"
      },
      "outputs": [],
      "source": [
        "#@markdown Reading the result file (DL_total_new.csv) > df\n",
        "import pandas as pd\n",
        "import matplotlib.pyplot as plt\n",
        "\n",
        "url = \"/content/drive/MyDrive/myclass/S2023/S23_DL_total_new.csv\"\n",
        "\n",
        "df = pd.read_csv(url, encoding = \"utf-8\")\n",
        "#df.head()"
      ]
    },
    {
      "cell_type": "code",
      "source": [
        "drive.flush_and_unmount()"
      ],
      "metadata": {
        "id": "ssBQRPhisgxt"
      },
      "execution_count": 3,
      "outputs": []
    },
    {
      "cell_type": "markdown",
      "source": [
        "Todo - Data trim: remove names  \n",
        "Select columns other than 'Names'"
      ],
      "metadata": {
        "id": "Izq5XYJ9sxmD"
      }
    },
    {
      "cell_type": "markdown",
      "source": [
        "## Data trim"
      ],
      "metadata": {
        "id": "LA-_Mqab3uQk"
      }
    },
    {
      "cell_type": "code",
      "source": [
        "selected = [\"Coding\",\"Form\",\"Midterm\",\"Total\",\"Email\", \"Group\"]\n",
        "data = df[selected]"
      ],
      "metadata": {
        "id": "Tin3M6n9OjPt"
      },
      "execution_count": 7,
      "outputs": []
    },
    {
      "cell_type": "markdown",
      "source": [
        "Todo - hide Email address partially :-)  \n",
        "e.g., last 4 characters of each account"
      ],
      "metadata": {
        "id": "VoMbMopwtCJc"
      }
    },
    {
      "cell_type": "code",
      "source": [
        "NID = df[\"Email\"]\n",
        "temp = list(NID)\n",
        "\n",
        "nlist = []\n",
        "\n",
        "for i in NID:\n",
        "  nid = i[-14:-10]\n",
        "  nlist.append(nid)\n",
        "\n",
        "print(nlist)"
      ],
      "metadata": {
        "colab": {
          "base_uri": "https://localhost:8080/"
        },
        "id": "ZFBgzixvqIcX",
        "outputId": "521d8bc7-fb92-4317-810f-90e15443a48b"
      },
      "execution_count": 5,
      "outputs": [
        {
          "output_type": "stream",
          "name": "stdout",
          "text": [
            "['1213', '7214', '1112', 'ui03', '1881', 'ng29', 'n715', 'hkim', 'nce2', '1234', '3903', '0115', '8bsh', '5387', '.dee', 'n324', 'ii03', '3717', 'ndon', 'r324', '3329', '.lgh', '2472', 'yeon', 'ujmt', '0924', 'onim', 'm316', '0258', '0321', 'g031']\n"
          ]
        }
      ]
    },
    {
      "cell_type": "markdown",
      "source": [
        "Todo - replace the original Email column with the new list"
      ],
      "metadata": {
        "id": "_XnMaA-wtS0X"
      }
    },
    {
      "cell_type": "code",
      "source": [
        "data[\"Email\"] = nlist\n",
        "data.head()"
      ],
      "metadata": {
        "id": "Kx02JrX2qzwY"
      },
      "execution_count": null,
      "outputs": []
    },
    {
      "cell_type": "markdown",
      "source": [
        "## **Data visualization: Graphs**"
      ],
      "metadata": {
        "id": "zv7AU5bV31LN"
      }
    },
    {
      "cell_type": "markdown",
      "source": [
        "Todo - Boxplot"
      ],
      "metadata": {
        "id": "TFV4OZ6ptaDM"
      }
    },
    {
      "cell_type": "code",
      "source": [
        "columns = \"Midterm\" #@param = [\"Coding\", \"Form\",\"Total\",\"Midterm\"]\n",
        "\n",
        "d1 = data[columns]\n",
        "plt.boxplot(d1)\n",
        "\n",
        "\n",
        "\n",
        "# Create boxplot\n",
        "plt.boxplot(d1)\n",
        "\n",
        "# Show the plot\n",
        "print(\"Data: \", columns)\n",
        "plt.show()"
      ],
      "metadata": {
        "cellView": "form",
        "id": "cfgK05zGrqqN"
      },
      "execution_count": null,
      "outputs": []
    },
    {
      "cell_type": "markdown",
      "source": [
        "Top 5 scores"
      ],
      "metadata": {
        "id": "BVZRpumDtsTW"
      }
    },
    {
      "cell_type": "code",
      "source": [
        "columns = \"Midterm\" #@param = [\"Coding\", \"Form\",\"Total\",\"Midterm\"]\n",
        "#@markdown Descending order (the first five)\n",
        "n = 31\n",
        "d1 = data.sort_values(by=[columns], ascending = False)\n",
        "d1.reset_index(drop=True, inplace=True)\n",
        "ID = range(1,n+1); d1['Email'] = ID; d1[columns].head()"
      ],
      "metadata": {
        "cellView": "form",
        "id": "Dg488F45txDM"
      },
      "execution_count": null,
      "outputs": []
    },
    {
      "cell_type": "markdown",
      "source": [
        "Histogram"
      ],
      "metadata": {
        "id": "VH-5wbbex6Hk"
      }
    },
    {
      "cell_type": "code",
      "source": [
        "columns = \"Midterm\" #@param = [\"Coding\", \"Form\",\"Total\",\"Midterm\"]\n",
        "\n",
        "# Create histogram\n",
        "data[columns].hist()\n",
        "\n",
        "print(\"Data: \", columns)\n",
        "plt.show()\n"
      ],
      "metadata": {
        "cellView": "form",
        "id": "MbUoGXFJxPAp"
      },
      "execution_count": null,
      "outputs": []
    },
    {
      "cell_type": "markdown",
      "source": [
        "# Individual score distribution"
      ],
      "metadata": {
        "id": "5a_8eIGPx8vT"
      }
    },
    {
      "cell_type": "code",
      "source": [
        "columns = \"Midterm\" #@param = [\"Coding\", \"Form\",\"Total\",\"Midterm\"]\n",
        "\n",
        "n = 31\n",
        "d1 = data.sort_values(by=[columns], ascending = False)\n",
        "d1.reset_index(drop=True, inplace=True)\n",
        "ID = range(1,n+1); d1['Rank'] = ID; d1[columns].head()\n",
        "\n",
        "\n",
        "# Create histogram\n",
        "d1.plot(x=\"Rank\", y=columns, style='.')\n",
        "\n",
        "# Show the plot\n",
        "print(\"Data: \", columns)\n",
        "plt.show()\n",
        "\n",
        "\n",
        "\n",
        "# plt.ylim(0, 31)"
      ],
      "metadata": {
        "cellView": "form",
        "id": "OqQZ7TUhx9J9"
      },
      "execution_count": null,
      "outputs": []
    },
    {
      "cell_type": "markdown",
      "source": [],
      "metadata": {
        "id": "R4O2m3WM1yxd"
      }
    },
    {
      "cell_type": "code",
      "source": [
        "d1.head()"
      ],
      "metadata": {
        "id": "RvDrhWUX2KJg"
      },
      "execution_count": null,
      "outputs": []
    },
    {
      "cell_type": "code",
      "source": [
        "import seaborn as sns\n",
        "\n",
        "columns = \"Coding\" #@param = [\"Coding\", \"Form\",\"Total\",\"Midterm\"]\n",
        "\n",
        "# Define the order of the groups\n",
        "group_order = ['G1', 'G2', 'G3', 'G4', 'G5', 'G6']\n",
        "# Create a boxplot using seaborn\n",
        "sns.boxplot(x='Group', y=columns, data=data, order = group_order)"
      ],
      "metadata": {
        "cellView": "form",
        "id": "nbpDKtU21zB8"
      },
      "execution_count": null,
      "outputs": []
    }
  ]
}
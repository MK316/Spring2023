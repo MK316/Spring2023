{
  "nbformat": 4,
  "nbformat_minor": 0,
  "metadata": {
    "colab": {
      "provenance": [],
      "authorship_tag": "ABX9TyO4jV5BTPipZ2YYRe+DFhBY",
      "include_colab_link": true
    },
    "kernelspec": {
      "name": "python3",
      "display_name": "Python 3"
    },
    "language_info": {
      "name": "python"
    }
  },
  "cells": [
    {
      "cell_type": "markdown",
      "metadata": {
        "id": "view-in-github",
        "colab_type": "text"
      },
      "source": [
        "<a href=\"https://colab.research.google.com/github/MK316/Spring2023/blob/main/DL/DLW06A_part1.ipynb\" target=\"_parent\"><img src=\"https://colab.research.google.com/assets/colab-badge.svg\" alt=\"Open In Colab\"/></a>"
      ]
    },
    {
      "cell_type": "markdown",
      "source": [
        "# 🌀**DLW06A Part I (4/12)** Coding and Language games"
      ],
      "metadata": {
        "id": "_mbT_YJKGkm-"
      }
    },
    {
      "cell_type": "markdown",
      "source": [
        "# 💕 Goal: Creating an app similar to **_Word Guessing Game from Hints_**\n",
        "\n",
        "We will be spending 2 weeks to get this go."
      ],
      "metadata": {
        "id": "ppmHMRdisMiv"
      }
    },
    {
      "cell_type": "markdown",
      "source": [
        "##💦 **Demo 1: Making a word quiz.**"
      ],
      "metadata": {
        "id": "MWpQZGE5wZgt"
      }
    },
    {
      "cell_type": "code",
      "source": [
        "#@markdown Run this code to see guesiong game\n",
        "import random\n",
        "\n",
        "# Define a dictionary of words and their hints\n",
        "word_hints = {\n",
        "    \"suprasegmental\": [\n",
        "        \"This term is related to the features of speech that go beyond individual sounds.\",\n",
        "        \"It is often associated with intonation, stress, and timing.\",\n",
        "        \"Examples include pitch, tone, and stress patterns.\",\n",
        "        \"The answer begins with 's'.\"\n",
        "    ],\n",
        "    \"geminate\": [\n",
        "        \"This term is related to a specific type of consonant.\",\n",
        "        \"It refers to a consonant that is pronounced for a longer duration than its regular counterpart.\",\n",
        "        \"In some languages, it can be represented by doubling the consonant in writing.\",\n",
        "        \"The answer begins with 'g'.\"\n",
        "    ],\n",
        "    \"syllable\": [\n",
        "        \"This term is related to a unit of speech.\",\n",
        "        \"It is a sequence of speech sounds, typically consisting of a vowel and any surrounding consonants.\",\n",
        "        \"A word can have one or multiple of these units.\",\n",
        "        \"The answer begins with 's'.\"\n",
        "    ]\n",
        "}\n",
        "\n",
        "# Define guessing game\n",
        "\n",
        "def guessing_game(word_hints):\n",
        "    words = list(word_hints.keys())\n",
        "    random.shuffle(words)\n",
        "\n",
        "    for word in words:\n",
        "        print(\"\\nGuess the word based on the following hints:\")\n",
        "        hints = word_hints[word]\n",
        "        attempts = 0\n",
        "\n",
        "        while attempts < len(hints):\n",
        "            print(f\"Hint {attempts + 1}: {hints[attempts]}\")\n",
        "            guess = input(\"Your guess: \").strip().lower()\n",
        "\n",
        "            if guess == word.lower():\n",
        "                print(\"Congratulations! You guessed the correct word!\\n\")\n",
        "                break\n",
        "            else:\n",
        "                print(\"Incorrect. Try again with another hint.\\n\")\n",
        "                attempts += 1\n",
        "\n",
        "        if attempts == len(hints):\n",
        "            print(f\"Sorry, you've run out of hints. The correct word was: {word}\\n\")\n",
        "\n",
        "# Using this conditional structure is a common practice in Python to allow a script to be both executed as a standalone program and imported as a module in other scripts without immediately running the code within the script.\n",
        "if __name__ == \"__main__\":\n",
        "  guessing_game(word_hints)"
      ],
      "metadata": {
        "cellView": "form",
        "id": "68fDLUnZs8KF"
      },
      "execution_count": null,
      "outputs": []
    },
    {
      "cell_type": "markdown",
      "source": [
        "##💦**Demo 2: Convert a statement to a yes-no question**"
      ],
      "metadata": {
        "id": "DKwjeU8pW-iu"
      }
    },
    {
      "cell_type": "code",
      "source": [
        "#@markdown Install and import libraries\n",
        "%%capture\n",
        "!pip install gtts\n",
        "!pip install IPython\n",
        "from gtts import gTTS\n",
        "from IPython.display import Audio, display\n",
        "\n",
        "#@markdown etts(), ktts()\n",
        "def etts(text):\n",
        "  text_to_say = text\n",
        "\n",
        "  gtts_object = gTTS(text = text_to_say,\n",
        "                     lang = \"en\",\n",
        "                    slow = False)\n",
        "  \n",
        "  gtts_object.save(\"E-audio.mp3\")\n",
        "  return Audio(\"E-audio.mp3\")\n",
        "\n",
        "def ktts(text):\n",
        "  text_to_say = text\n",
        "\n",
        "  gtts_object = gTTS(text = text_to_say,\n",
        "                     lang = \"ko\",\n",
        "                    slow = False)\n",
        "  \n",
        "  gtts_object.save(\"K-audio.mp3\")\n",
        "  return Audio(\"K-audio.mp3\")"
      ],
      "metadata": {
        "cellView": "form",
        "id": "TajMEehr8_7D"
      },
      "execution_count": null,
      "outputs": []
    },
    {
      "cell_type": "markdown",
      "source": [
        "---\n",
        "### Complete version with some restriction \n",
        "\n",
        "1. The statement you're entering must contain a be-verb.\n",
        "2. If you use a proper noun as a subject, restrict it to one of the followings: \n",
        "\n",
        "> **Male: Tom, Thomas, Bill**\n",
        "\n",
        "> **Female: Mary, Jane, Jessica**\n",
        "\n",
        "2. Must contain a punctuation(.)\n",
        "---"
      ],
      "metadata": {
        "id": "5XYJaX2IDrOu"
      }
    },
    {
      "cell_type": "code",
      "source": [
        "#@markdown Statment to a Yes-No question (Audio autoplay)\n",
        "sentence = input(\"Type a sentence containing a be verb: e.g., I am a students.\\n\")\n",
        "beverbs = [\"is\", \"was\", \"are\", \"were\"]\n",
        "pronouns = [\"I\",\"You\",\"He\",\"She\",\"They\",\"It\"]\n",
        "names = [\"Mary\", \"Jane\", \"Tom\",\"Thomas\",\"Jessica\", \"Bill\"]\n",
        "\n",
        "def check_word(list_A, list_B):\n",
        "    for a in list_A:\n",
        "        for b in list_B:\n",
        "            if b in a:\n",
        "                mword = a\n",
        "                return True, mword\n",
        "    return False, None\n",
        "\n",
        "\n",
        "cat1 = sentence.split()\n",
        "\n",
        "result = check_word(cat1,beverbs)\n",
        "\n",
        "if result[0] == True:\n",
        "  if cat1[0] in pronouns:\n",
        "      b = result[1]\n",
        "      be = \" \"+b+\" \"\n",
        "      ss = sentence.split(be)\n",
        "      subj = ss[0]\n",
        "      nsubj = subj[0].lower()+subj[1:]\n",
        "      pred = ss[1]\n",
        "      w1 = b[0].upper() + b[1:] # Capitalized be verb\n",
        "      newsent = w1 + \" \" + nsubj + \" \" + pred[:-1] + \"?\"\n",
        "      mytext = \"I'll make it to a yes-no question: \" + newsent\n",
        "      print(\"Yes-no question: \", newsent)\n",
        "  elif cat1[0] not in pronouns and cat1[0] in names:\n",
        "        b = result[1]\n",
        "        be = \" \"+b+\" \"\n",
        "        ss = sentence.split(be)\n",
        "        subj = ss[0]\n",
        "        pred = ss[1]\n",
        "        w1 = b[0].upper() + b[1:] # Capitalized be verb\n",
        "        newsent = w1 + \" \" + subj + \" \" + pred[:-1] + \"?\"\n",
        "        mytext = \"I'll make it to a yes-no question: \" + newsent\n",
        "        print(\"Yes-no question: \", newsent)\n",
        "  elif cat1[0] not in pronouns and cat1[0] not in names:\n",
        "        b = result[1]\n",
        "        be = \" \"+b+\" \"\n",
        "        ss = sentence.split(be)\n",
        "        subj = ss[0]\n",
        "        nsubj = subj[0].lower()+subj[1:]\n",
        "        pred = ss[1]\n",
        "        w1 = b[0].upper() + b[1:] # Capitalized be verb\n",
        "        newsent = w1 + \" \" + nsubj + \" \" + pred[:-1] + \"?\"\n",
        "        mytext = \"I'll make it to a yes-no question: \" + newsent\n",
        "        print(\"Yes-no question: \", newsent)\n",
        "\n",
        "else:\n",
        "    mytext = \"The sentence you\\' provided does not contain a 'Be' verb. Try again.\"\n",
        "    print(\"Type a sentence that contains a be verb.\")\n",
        "\n",
        "etts(mytext)\n",
        "Audio(\"E-audio.mp3\",autoplay=True)"
      ],
      "metadata": {
        "cellView": "form",
        "id": "ZjPSWFub-55P"
      },
      "execution_count": null,
      "outputs": []
    },
    {
      "cell_type": "markdown",
      "source": [
        "## 💦**Demo 3: Story game**"
      ],
      "metadata": {
        "id": "UG0_f0gJQl1r"
      }
    },
    {
      "cell_type": "code",
      "source": [
        "#@markdown Adventure game with reading\n",
        "print(\"Welcome to the adventure game!\")\n",
        "print(\"=\"*50)\n",
        "print(\"You are a high school student who has been chosen to embark on a quest to save your town from a mysterious curse.\")\n",
        "print(\"You will face various challenges and choices along the way, and your decisions will determine the outcome of the story.\")\n",
        "print(\"=\"*50)\n",
        "name = input(\"What is your name? \")\n",
        "print(\"=\"*50)\n",
        "print(f\"Nice to meet you, {name}! Are you ready to begin?\")\n",
        "print(\"=\"*50)\n",
        "# Start of the story\n",
        "print(\"You wake up one morning to find that your town is covered in a thick fog.\")\n",
        "print(\"People are starting to get sick, and strange things are happening.\")\n",
        "print(\"You decide to investigate and find out that a curse has been cast upon the town.\")\n",
        "print(\"You meet a wise old sage who tells you that the only way to lift the curse is to find a magical artifact that is hidden in a dangerous dungeon.\")\n",
        "print(\"=\"*50)\n",
        "# First choice\n",
        "print(\"You have two options:\")\n",
        "print(\"Option 1: Search for clues in the town.\")\n",
        "print(\"Option 2: Go straight to the dungeon.\")\n",
        "print(\"=\"*50)\n",
        "choice = input(\"Which option do you choose? (1 or 2) \")\n",
        "print(\"=\"*50)\n",
        "if choice == \"1\":\n",
        "    print(\"You spend the day talking to townspeople and searching for clues.\")\n",
        "    print(\"You find a cryptic message that leads you to a hidden cave.\")\n",
        "elif choice == \"2\":\n",
        "    print(\"You journey to the dungeon and face many dangers along the way.\")\n",
        "    print(\"You eventually reach the entrance to the dungeon.\")\n",
        "print(\"=\"*50)\n",
        "# Second choice\n",
        "print(\"You have two options:\")\n",
        "print(\"Option 1: Enter the cave.\")\n",
        "print(\"Option 2: Enter the dungeon.\")\n",
        "print(\"=\"*50)\n",
        "choice = input(\"Which option do you choose? (1 or 2) \")\n",
        "print(\"=\"*50)\n",
        "if choice == \"1\":\n",
        "    print(\"=\"*50)\n",
        "    print(\"You enter the cave and find the magical artifact!\")\n",
        "    print(\"You bring it back to the town and the curse is lifted.\")\n",
        "    print(\"Congratulations! You have saved the town!\")\n",
        "    print(\"=\"*50)\n",
        "elif choice == \"2\":\n",
        "    print(\"=\"*50)\n",
        "    print(\"You enter the dungeon and face many challenges.\")\n",
        "    print(\"You eventually find the magical artifact, but it is guarded by a powerful monster.\")\n",
        "    print(\"You must defeat the monster to retrieve the artifact.\")\n",
        "    print(\"You engage in a fierce battle!\")\n",
        "    print(\"You lost the battle and the curse remains.\")\n",
        "    print(\"Brave You! Though the curse remains, people appreicate your effort.\")\n",
        "    print(\"=\"*50)\n"
      ],
      "metadata": {
        "cellView": "form",
        "id": "qBAUNW9qP75J"
      },
      "execution_count": null,
      "outputs": []
    },
    {
      "cell_type": "code",
      "source": [
        "#@markdown Story game with listening (audio)\n",
        "from gtts import gTTS\n",
        "import IPython.display as ipd\n",
        "\n",
        "def play_audio(text):\n",
        "    language = 'en'\n",
        "    audio = gTTS(text=text, lang=language, slow=False)\n",
        "    audio.save(\"audio.mp3\")\n",
        "    ipd.display(ipd.Audio(\"audio.mp3\", autoplay=True))\n",
        "\n",
        "# Introduction\n",
        "play_audio(\"Welcome to the story game. You are walking home from school when you hear footsteps behind you. You look back and see a shady figure in the distance. What do you do?\")\n",
        "ipd.clear_output(wait=True)\n",
        "input(\"Press Enter to continue...\")\n",
        "\n",
        "# Stage 1\n",
        "play_audio(\"You decide to run. Do you run towards the park or towards the busy street?\")\n",
        "ipd.clear_output(wait=True)\n",
        "choice = input(\"Enter 1 to run towards the park, or 2 to run towards the busy street: \")\n",
        "if choice == \"1\":\n",
        "    play_audio(\"You run towards the park and manage to lose the shady figure. You continue walking home and make it back safely.\")\n",
        "elif choice == \"2\":\n",
        "    play_audio(\"You run towards the busy street, hoping to find someone to help you. As you get closer, you realize that the figure is a police officer. You stop and explain what happened, and the officer escorts you home safely.\")\n",
        "ipd.clear_output(wait=True)\n",
        "input(\"Press Enter to continue...\")\n",
        "\n",
        "# Stage 2\n",
        "play_audio(\"You arrive home and find that your front door is slightly open. Do you go inside or call the police?\")\n",
        "ipd.clear_output(wait=True)\n",
        "choice = input(\"Enter 1 to go inside, or 2 to call the police: \")\n",
        "if choice == \"1\":\n",
        "    play_audio(\"You cautiously enter your home and find that everything is as you left it. You breathe a sigh of relief and go about your evening.\")\n",
        "elif choice == \"2\":\n",
        "    play_audio(\"You call the police and they arrive shortly after. They search your home and find no one inside. You spend the night at a friend's house and return home the next day.\")\n",
        "ipd.clear_output(wait=True)\n",
        "input(\"Press Enter to continue...\")\n",
        "\n",
        "# Conclusion\n",
        "play_audio(\"Good choice! you have successfully made it home safely. Thanks for playing!\")\n",
        "ipd.clear_output(wait=True)\n"
      ],
      "metadata": {
        "cellView": "form",
        "id": "mx_BDEl-TqLe"
      },
      "execution_count": null,
      "outputs": []
    },
    {
      "cell_type": "markdown",
      "source": [
        "---\n",
        "# 📙Concepts and elements to cover for our goal:\n",
        "\n",
        "0. Importing modules: Explain how to import a module (like random) and use its functions (like random.shuffle()).\n",
        "\n",
        "1. Python basics: Basic data types (strings, integers, lists, dictionaries), variables, and basic input/output functions (like print() and input()).\n",
        "\n",
        "2. String manipulation: Cover string methods like .strip() and .lower().\n",
        "3. Control structures: Introduce for loops, while loops, and conditional statements (if, elif, else).\n",
        "\n",
        "4. Functions: Explain how to define and use functions, including function parameters. \n",
        "\n",
        "5. F-strings: Introduce f-strings (formatted string literals) and how to embed expressions inside string literals using curly braces {}.\n",
        "---"
      ],
      "metadata": {
        "id": "2VMRdKbJwOsk"
      }
    },
    {
      "cell_type": "markdown",
      "source": [
        "# [0] Importing modules\n",
        "\n",
        "1. **function, (class), module, package, and library**\n",
        "\n",
        "> (class) > functions\n",
        "\n",
        "\n",
        "2. Let's use the analogy of a toolbox: \n",
        "\n",
        "+ **a module** is a single tool, (e.g., random) \n",
        "+ **a package** is a toolbox containing multiple tools (e.g., gTTS)\n",
        "+ **a library** is a set of toolboxes designed for a specific purpose. (e.g., nltk - Natural Language Tool Kit) _>> Next time_"
      ],
      "metadata": {
        "id": "wgZEzhkQwzc3"
      }
    },
    {
      "cell_type": "markdown",
      "source": [
        "##A. 'gTTS' package"
      ],
      "metadata": {
        "id": "298wKG9q7-rN"
      }
    },
    {
      "cell_type": "code",
      "source": [
        "!pip install gtts\n",
        "!pip install IPython\n",
        "from gtts import gTTS\n",
        "from IPython.display import Audio, display"
      ],
      "metadata": {
        "id": "YLCRqNbW8E9J"
      },
      "execution_count": null,
      "outputs": []
    },
    {
      "cell_type": "code",
      "source": [
        "#@markdown etts(), ktts()\n",
        "def etts(text):\n",
        "  text_to_say = text\n",
        "\n",
        "  gtts_object = gTTS(text = text_to_say,\n",
        "                     lang = \"en\",\n",
        "                    slow = False)\n",
        "  \n",
        "  gtts_object.save(\"E-audio.mp3\")\n",
        "  return Audio(\"E-audio.mp3\")\n",
        "\n",
        "def ktts(text):\n",
        "  text_to_say = text\n",
        "\n",
        "  gtts_object = gTTS(text = text_to_say,\n",
        "                     lang = \"ko\",\n",
        "                    slow = False)\n",
        "  \n",
        "  gtts_object.save(\"K-audio.mp3\")\n",
        "  return Audio(\"K-audio.mp3\")"
      ],
      "metadata": {
        "cellView": "form",
        "id": "bYDfENzGRUFb"
      },
      "execution_count": null,
      "outputs": []
    },
    {
      "cell_type": "markdown",
      "source": [
        "## B. 'random' module\n",
        "\n",
        "[Random Picker App using 'random'](https://github.com/MK316/Spring2023/blob/main/RandomPickerS23.ipynb)"
      ],
      "metadata": {
        "id": "vSFe_Umb68o9"
      }
    },
    {
      "cell_type": "code",
      "source": [
        "import random"
      ],
      "metadata": {
        "id": "t8tYICF_1Yx8"
      },
      "execution_count": null,
      "outputs": []
    },
    {
      "cell_type": "markdown",
      "source": [
        "Return a number between 3 and 9 (both included):"
      ],
      "metadata": {
        "id": "RlWQ5dXark-r"
      }
    },
    {
      "cell_type": "code",
      "source": [
        "random.randint(1, 10) #random.randint(x,y)는 함수이므로 문법대로 사용해야 함."
      ],
      "metadata": {
        "colab": {
          "base_uri": "https://localhost:8080/"
        },
        "id": "sMf1Ow7W11EZ",
        "outputId": "6c6b838f-939b-4f0b-9da9-a7301fdaa7a0"
      },
      "execution_count": null,
      "outputs": [
        {
          "output_type": "execute_result",
          "data": {
            "text/plain": [
              "5"
            ]
          },
          "metadata": {},
          "execution_count": 17
        }
      ]
    },
    {
      "cell_type": "code",
      "source": [
        "a1 = random.randint(1, 10)\n",
        "a1*10  #변수를 이용하면 결과값을 이용한 다른 연산이나 작업이 가능하다."
      ],
      "metadata": {
        "colab": {
          "base_uri": "https://localhost:8080/"
        },
        "id": "WUVN9-Rs825s",
        "outputId": "6e83869d-df61-428b-b91a-64db35bb7089"
      },
      "execution_count": null,
      "outputs": [
        {
          "output_type": "execute_result",
          "data": {
            "text/plain": [
              "10"
            ]
          },
          "metadata": {},
          "execution_count": 18
        }
      ]
    },
    {
      "cell_type": "markdown",
      "source": [
        "# [1] Python basics: \n",
        "\n",
        "+ Basic data types (strings, integers, lists, dictionaries), \n",
        "+ variables, \n",
        "+ basic input/output functions (like print() and input()).\n",
        "\n"
      ],
      "metadata": {
        "id": "_vTm-kXl8qa_"
      }
    },
    {
      "cell_type": "markdown",
      "source": [
        "## [1-1] Basic data types"
      ],
      "metadata": {
        "id": "qaQ0_hkoENRX"
      }
    },
    {
      "cell_type": "markdown",
      "source": [
        "### A. strings"
      ],
      "metadata": {
        "id": "HB86s1k990Hh"
      }
    },
    {
      "cell_type": "code",
      "source": [
        "a2 = \"Welcome\"\n",
        "a3 = \"2023\""
      ],
      "metadata": {
        "id": "L_OImwSL94Kr"
      },
      "execution_count": null,
      "outputs": []
    },
    {
      "cell_type": "markdown",
      "source": [
        "☺️ DIY: How to get \"Welcome, 2023!\""
      ],
      "metadata": {
        "id": "wkYUBwu1-IvG"
      }
    },
    {
      "cell_type": "code",
      "source": [],
      "metadata": {
        "id": "XZ2LHJcl9_u4",
        "outputId": "f6b592bd-8a7f-4b62-e14f-f97e80cdece8",
        "colab": {
          "base_uri": "https://localhost:8080/",
          "height": 35
        }
      },
      "execution_count": null,
      "outputs": [
        {
          "output_type": "execute_result",
          "data": {
            "text/plain": [
              "'Welcome, 2023!'"
            ],
            "application/vnd.google.colaboratory.intrinsic+json": {
              "type": "string"
            }
          },
          "metadata": {},
          "execution_count": 20
        }
      ]
    },
    {
      "cell_type": "markdown",
      "source": [
        "☺️ DIY: Let a4 = \"화이팅\", and get '화이팅화이팅화이팅화이팅화이팅화이팅화이팅화이팅화이팅화이팅'(10번)"
      ],
      "metadata": {
        "id": "WNaHBznU-yEd"
      }
    },
    {
      "cell_type": "code",
      "source": [],
      "metadata": {
        "id": "0vfPcih3-xg4",
        "outputId": "be3891a2-8eba-4f0b-a31b-9e0ed445871a",
        "colab": {
          "base_uri": "https://localhost:8080/",
          "height": 35
        }
      },
      "execution_count": null,
      "outputs": [
        {
          "output_type": "execute_result",
          "data": {
            "text/plain": [
              "'화이팅화이팅화이팅화이팅화이팅화이팅화이팅화이팅화이팅화이팅'"
            ],
            "application/vnd.google.colaboratory.intrinsic+json": {
              "type": "string"
            }
          },
          "metadata": {},
          "execution_count": 21
        }
      ]
    },
    {
      "cell_type": "code",
      "source": [
        "type(a2). # data type of the variable a2"
      ],
      "metadata": {
        "colab": {
          "base_uri": "https://localhost:8080/"
        },
        "id": "1XroWNyGADZU",
        "outputId": "05a0322b-a18c-401f-8aa2-ec8a7975d907"
      },
      "execution_count": null,
      "outputs": [
        {
          "output_type": "execute_result",
          "data": {
            "text/plain": [
              "str"
            ]
          },
          "metadata": {},
          "execution_count": 22
        }
      ]
    },
    {
      "cell_type": "markdown",
      "source": [
        "###B. Integers, float"
      ],
      "metadata": {
        "id": "kpNXrqZ2_9I2"
      }
    },
    {
      "cell_type": "code",
      "source": [
        "x1 = 45; y1 = 0.5\n",
        "x1 * y1"
      ],
      "metadata": {
        "colab": {
          "base_uri": "https://localhost:8080/"
        },
        "id": "CEs2BHNbAB1Q",
        "outputId": "e63af813-d7ca-422b-91d2-75a50ef4564e"
      },
      "execution_count": null,
      "outputs": [
        {
          "output_type": "execute_result",
          "data": {
            "text/plain": [
              "22.5"
            ]
          },
          "metadata": {},
          "execution_count": 23
        }
      ]
    },
    {
      "cell_type": "code",
      "source": [],
      "metadata": {
        "id": "2WarI3IQsRJX",
        "outputId": "8304e3e2-9753-45f0-adb6-b2da469a304a",
        "colab": {
          "base_uri": "https://localhost:8080/"
        }
      },
      "execution_count": null,
      "outputs": [
        {
          "output_type": "execute_result",
          "data": {
            "text/plain": [
              "float"
            ]
          },
          "metadata": {},
          "execution_count": 24
        }
      ]
    },
    {
      "cell_type": "markdown",
      "source": [
        "### C. List datatype"
      ],
      "metadata": {
        "id": "S7PJcJFkBO46"
      }
    },
    {
      "cell_type": "code",
      "source": [
        "x2 = [1,2,3]\n",
        "x2"
      ],
      "metadata": {
        "colab": {
          "base_uri": "https://localhost:8080/"
        },
        "id": "LjSEH6lABR98",
        "outputId": "eb284b7f-40ef-48c5-ea6f-926543a1ee7b"
      },
      "execution_count": null,
      "outputs": [
        {
          "output_type": "execute_result",
          "data": {
            "text/plain": [
              "[1, 2, 3]"
            ]
          },
          "metadata": {},
          "execution_count": 26
        }
      ]
    },
    {
      "cell_type": "markdown",
      "source": [
        "x2[index]: Python index starts from 0"
      ],
      "metadata": {
        "id": "xcPyj0Fesdiu"
      }
    },
    {
      "cell_type": "code",
      "source": [
        "x2[0]"
      ],
      "metadata": {
        "id": "VGWl1av6BYGu"
      },
      "execution_count": null,
      "outputs": []
    },
    {
      "cell_type": "code",
      "source": [
        "# range(x,y)\n",
        "x3 = range(1,10)\n",
        "list(x3)  #list(), range(1,10)"
      ],
      "metadata": {
        "colab": {
          "base_uri": "https://localhost:8080/"
        },
        "id": "WNmjoCQ1ANr4",
        "outputId": "9e1cf838-bd7f-47f5-def6-731599ef24a5"
      },
      "execution_count": null,
      "outputs": [
        {
          "output_type": "execute_result",
          "data": {
            "text/plain": [
              "[1, 2, 3, 4, 5, 6, 7, 8, 9]"
            ]
          },
          "metadata": {},
          "execution_count": 28
        }
      ]
    },
    {
      "cell_type": "code",
      "source": [
        "x4 = \"John\"\n",
        "list(x4)"
      ],
      "metadata": {
        "colab": {
          "base_uri": "https://localhost:8080/"
        },
        "id": "amRP-ytuBlO6",
        "outputId": "a8eeef49-a6aa-4452-f9e2-d933278c0bdc"
      },
      "execution_count": null,
      "outputs": [
        {
          "output_type": "execute_result",
          "data": {
            "text/plain": [
              "['J', 'o', 'h', 'n']"
            ]
          },
          "metadata": {},
          "execution_count": 29
        }
      ]
    },
    {
      "cell_type": "markdown",
      "source": [
        "###D. Dictionary datatype: {'key':'value'}\n",
        "\n",
        "In Python, a dictionary is a built-in data type that represents a collection of key-value pairs. Each key-value pair in a dictionary is separated by a colon (:), and each pair is separated by a comma. "
      ],
      "metadata": {
        "id": "ZoyOSN_QCCdO"
      }
    },
    {
      "cell_type": "code",
      "source": [
        "mydict = {\"API\":\"Application Programming Interface\", \"GPT\":\"Generative Pretrained Transformer\"}\n",
        "mydict['API']"
      ],
      "metadata": {
        "colab": {
          "base_uri": "https://localhost:8080/",
          "height": 35
        },
        "id": "PdRkfL3JBMWK",
        "outputId": "0e165aee-8079-4359-c38e-64e33c14c9ac"
      },
      "execution_count": null,
      "outputs": [
        {
          "output_type": "execute_result",
          "data": {
            "text/plain": [
              "'Application Programming Interface'"
            ],
            "application/vnd.google.colaboratory.intrinsic+json": {
              "type": "string"
            }
          },
          "metadata": {},
          "execution_count": 30
        }
      ]
    },
    {
      "cell_type": "code",
      "source": [
        "mydict['GPT']"
      ],
      "metadata": {
        "id": "muVfPouBs47b",
        "outputId": "1d08be3c-9e45-4a57-c0e4-1d7ff7368986",
        "colab": {
          "base_uri": "https://localhost:8080/",
          "height": 35
        }
      },
      "execution_count": null,
      "outputs": [
        {
          "output_type": "execute_result",
          "data": {
            "text/plain": [
              "'Generative Pretrained Transformer'"
            ],
            "application/vnd.google.colaboratory.intrinsic+json": {
              "type": "string"
            }
          },
          "metadata": {},
          "execution_count": 31
        }
      ]
    },
    {
      "cell_type": "code",
      "source": [
        "class_size = {\"Class A\": 25, \"Class B\": 30, \"Class C\": 32}\n",
        "class_size['Class C']"
      ],
      "metadata": {
        "colab": {
          "base_uri": "https://localhost:8080/"
        },
        "id": "WBs-NrEJDQRC",
        "outputId": "6c9a6b9f-6471-4424-a133-d47bb0d08f8c"
      },
      "execution_count": null,
      "outputs": [
        {
          "output_type": "execute_result",
          "data": {
            "text/plain": [
              "32"
            ]
          },
          "metadata": {},
          "execution_count": 32
        }
      ]
    },
    {
      "cell_type": "markdown",
      "source": [
        "## [1-2] Variables"
      ],
      "metadata": {
        "id": "0m_ux_SoEUos"
      }
    },
    {
      "cell_type": "markdown",
      "source": [
        "## [1-3] input/output functions"
      ],
      "metadata": {
        "id": "YUasz63dEYAX"
      }
    },
    {
      "cell_type": "code",
      "source": [
        "mynumber = 2\n",
        "mynumber"
      ],
      "metadata": {
        "colab": {
          "base_uri": "https://localhost:8080/"
        },
        "id": "BSp7TWkeEfmz",
        "outputId": "3bcd84d2-c721-4bc7-da68-a245706b8b5c"
      },
      "execution_count": null,
      "outputs": [
        {
          "output_type": "execute_result",
          "data": {
            "text/plain": [
              "2"
            ]
          },
          "metadata": {},
          "execution_count": 87
        }
      ]
    },
    {
      "cell_type": "code",
      "source": [
        "yournumber = input()  # In Python, input() is a built-in function that allows you to get user input from the keyboard. \n",
        "yournumber"
      ],
      "metadata": {
        "colab": {
          "base_uri": "https://localhost:8080/",
          "height": 53
        },
        "id": "6LZudH_0En_w",
        "outputId": "783d5cc3-75a8-465a-963e-b294e0816f0a"
      },
      "execution_count": null,
      "outputs": [
        {
          "name": "stdout",
          "output_type": "stream",
          "text": [
            "4\n"
          ]
        },
        {
          "output_type": "execute_result",
          "data": {
            "text/plain": [
              "'4'"
            ],
            "application/vnd.google.colaboratory.intrinsic+json": {
              "type": "string"
            }
          },
          "metadata": {},
          "execution_count": 33
        }
      ]
    },
    {
      "cell_type": "markdown",
      "source": [
        "☺️ After running the code below, can you tell what the resulting output means?"
      ],
      "metadata": {
        "id": "-Z1mQqzlH4k5"
      }
    },
    {
      "cell_type": "code",
      "source": [
        "yournumber*5"
      ],
      "metadata": {
        "colab": {
          "base_uri": "https://localhost:8080/",
          "height": 35
        },
        "id": "5cGgSs3qHxG_",
        "outputId": "61f4269a-ed03-4cae-f717-7f70b0c34f76"
      },
      "execution_count": null,
      "outputs": [
        {
          "output_type": "execute_result",
          "data": {
            "text/plain": [
              "'44444'"
            ],
            "application/vnd.google.colaboratory.intrinsic+json": {
              "type": "string"
            }
          },
          "metadata": {},
          "execution_count": 34
        }
      ]
    },
    {
      "cell_type": "code",
      "source": [
        "type(yournumber)"
      ],
      "metadata": {
        "colab": {
          "base_uri": "https://localhost:8080/"
        },
        "id": "664rKEalISSY",
        "outputId": "5314bd92-1d93-4d40-d399-b18d7d3b8930"
      },
      "execution_count": null,
      "outputs": [
        {
          "output_type": "execute_result",
          "data": {
            "text/plain": [
              "str"
            ]
          },
          "metadata": {},
          "execution_count": 35
        }
      ]
    },
    {
      "cell_type": "code",
      "source": [
        "yournumber = int(yournumber) # changing the type of the value to integer\n",
        "type(yournumber)"
      ],
      "metadata": {
        "colab": {
          "base_uri": "https://localhost:8080/"
        },
        "id": "u_ocEyoAIVC4",
        "outputId": "cae55304-aabb-4b25-bf49-c0c051815f76"
      },
      "execution_count": null,
      "outputs": [
        {
          "output_type": "execute_result",
          "data": {
            "text/plain": [
              "int"
            ]
          },
          "metadata": {},
          "execution_count": 36
        }
      ]
    },
    {
      "cell_type": "markdown",
      "source": [
        "Getting output:"
      ],
      "metadata": {
        "id": "Z9Kzd8ZW7Bri"
      }
    },
    {
      "cell_type": "code",
      "source": [
        "# print() 함수 배우기\n",
        "print(\"대한민국\")\n",
        "\n",
        "a2 = \"화이팅!\"  # a1: variable(변수)\n",
        "print(a2)\n",
        "print(a2*10)\n",
        "print(\"화이팅 10번 합시다: \", a2*10)\n",
        "a2"
      ],
      "metadata": {
        "id": "aQXDo7u-4-18",
        "outputId": "d02c1b36-7980-4293-8168-c3d350b08205",
        "colab": {
          "base_uri": "https://localhost:8080/",
          "height": 105
        }
      },
      "execution_count": null,
      "outputs": [
        {
          "output_type": "stream",
          "name": "stdout",
          "text": [
            "대한민국\n",
            "화이팅!\n",
            "화이팅!화이팅!화이팅!화이팅!화이팅!화이팅!화이팅!화이팅!화이팅!화이팅!\n",
            "화이팅 10번 합시다:  화이팅!화이팅!화이팅!화이팅!화이팅!화이팅!화이팅!화이팅!화이팅!화이팅!\n"
          ]
        },
        {
          "output_type": "execute_result",
          "data": {
            "text/plain": [
              "'화이팅!'"
            ],
            "application/vnd.google.colaboratory.intrinsic+json": {
              "type": "string"
            }
          },
          "metadata": {},
          "execution_count": 37
        }
      ]
    },
    {
      "cell_type": "code",
      "source": [
        "print(a2)\n",
        "print(\"=\"*30)\n",
        "a1=random.randint(1,10)\n",
        "print(\"Random integer between 1 and 10:\", a1)"
      ],
      "metadata": {
        "colab": {
          "base_uri": "https://localhost:8080/"
        },
        "id": "0jdQu65F2ZWw",
        "outputId": "3a5d1c38-1e5a-4df4-8b8a-e7d3b08ce48b"
      },
      "execution_count": null,
      "outputs": [
        {
          "output_type": "stream",
          "name": "stdout",
          "text": [
            "화이팅!\n",
            "==============================\n",
            "Random integer between 1 and 10: 7\n"
          ]
        }
      ]
    },
    {
      "cell_type": "markdown",
      "source": [
        "☺️DIY: \n",
        "**Q: John and Mary have been together for many days. Ask Mary how many days it has been since she met John. Then you tell Mary how many hours it has been since she met John.**\n",
        "\n",
        "1. Set the variable 'day' to 24\n",
        "2. Set the variable 'num_day' for the input from the user. Get a number (number of days) from the user using input() function\n",
        "2. Calculate days to hours: set the variable 'hours' to the final result."
      ],
      "metadata": {
        "id": "cvkWAvetFtSP"
      }
    },
    {
      "cell_type": "code",
      "source": [
        "day = \n",
        "num_day = \n",
        "hours = \n",
        "print(\"The total hours passed since Mary met John are: \", hours, \"hours.\")"
      ],
      "metadata": {
        "id": "Fdezo9WD1zju",
        "outputId": "174b66de-637f-420b-f218-3dbcf86e8f5b",
        "colab": {
          "base_uri": "https://localhost:8080/"
        }
      },
      "execution_count": null,
      "outputs": [
        {
          "output_type": "stream",
          "name": "stdout",
          "text": [
            "How many days? 23\n",
            "The total hours passed since Mary met John are:  552 hours.\n"
          ]
        }
      ]
    },
    {
      "cell_type": "markdown",
      "source": [
        "#[2] String manipulation: strip() and .lower().\n",
        "\n"
      ],
      "metadata": {
        "id": "zzkVAfU61HDk"
      }
    },
    {
      "cell_type": "markdown",
      "source": [
        "### **data.strip()**\n",
        "\n",
        "+ In Python, strip() is a built-in string method that returns a copy of the string with leading and trailing characters removed. \n",
        "+ By default, strip() removes whitespace characters such as spaces, tabs, and newlines from the beginning and end of the string."
      ],
      "metadata": {
        "id": "sSi_PvE5LTeC"
      }
    },
    {
      "cell_type": "code",
      "source": [
        "w1 = \" Mary is friendly. \"\n",
        "w1"
      ],
      "metadata": {
        "colab": {
          "base_uri": "https://localhost:8080/",
          "height": 35
        },
        "id": "IUtU-qG81XIt",
        "outputId": "f08d7d95-19a2-445a-c2b8-c00909e0f58f"
      },
      "execution_count": 1,
      "outputs": [
        {
          "output_type": "execute_result",
          "data": {
            "text/plain": [
              "' Mary is friendly. '"
            ],
            "application/vnd.google.colaboratory.intrinsic+json": {
              "type": "string"
            }
          },
          "metadata": {},
          "execution_count": 1
        }
      ]
    },
    {
      "cell_type": "code",
      "source": [
        "w1.strip()"
      ],
      "metadata": {
        "colab": {
          "base_uri": "https://localhost:8080/",
          "height": 35
        },
        "id": "ZAhdPbqVKr6e",
        "outputId": "4307f16b-c3a1-4e0c-d890-4127a452eb8d"
      },
      "execution_count": 2,
      "outputs": [
        {
          "output_type": "execute_result",
          "data": {
            "text/plain": [
              "'Mary is friendly.'"
            ],
            "application/vnd.google.colaboratory.intrinsic+json": {
              "type": "string"
            }
          },
          "metadata": {},
          "execution_count": 2
        }
      ]
    },
    {
      "cell_type": "markdown",
      "source": [
        "### **data.split()**"
      ],
      "metadata": {
        "id": "JGPdtmu8MFgv"
      }
    },
    {
      "cell_type": "code",
      "source": [
        "w1 = \"Mary is friendly.\"\n",
        "w1.split()"
      ],
      "metadata": {
        "colab": {
          "base_uri": "https://localhost:8080/"
        },
        "id": "xbF1sJB9MIpw",
        "outputId": "7d24125f-df8f-4d84-fd3c-a7dc272204dc"
      },
      "execution_count": 3,
      "outputs": [
        {
          "output_type": "execute_result",
          "data": {
            "text/plain": [
              "['Mary', 'is', 'friendly.']"
            ]
          },
          "metadata": {},
          "execution_count": 3
        }
      ]
    },
    {
      "cell_type": "code",
      "source": [
        "w2 = \"out-of-date\"\n",
        "w2.split('-')"
      ],
      "metadata": {
        "colab": {
          "base_uri": "https://localhost:8080/"
        },
        "id": "IudKgTjkMVQP",
        "outputId": "9b2ef531-9818-4152-aa3c-89e9779295fc"
      },
      "execution_count": 4,
      "outputs": [
        {
          "output_type": "execute_result",
          "data": {
            "text/plain": [
              "['out', 'of', 'date']"
            ]
          },
          "metadata": {},
          "execution_count": 4
        }
      ]
    },
    {
      "cell_type": "code",
      "source": [
        "w1 = \"Mary\"\n",
        "w2 = \"is\"\n",
        "w3 = \"friendly\""
      ],
      "metadata": {
        "id": "tGBOKKKtLvj7"
      },
      "execution_count": 5,
      "outputs": []
    },
    {
      "cell_type": "code",
      "source": [
        "wordlist = [w1, w2, w3]\n",
        "wordlist"
      ],
      "metadata": {
        "colab": {
          "base_uri": "https://localhost:8080/"
        },
        "id": "c11AXGr0V_a4",
        "outputId": "58a2c8d6-8e8e-42c5-8366-8bc721ca2c67"
      },
      "execution_count": 6,
      "outputs": [
        {
          "output_type": "execute_result",
          "data": {
            "text/plain": [
              "['Mary', 'is', 'friendly']"
            ]
          },
          "metadata": {},
          "execution_count": 6
        }
      ]
    },
    {
      "cell_type": "code",
      "source": [
        "w2 = \"out-of-date\"\n",
        "mysplit = w2.split('-')\n",
        "mysplit"
      ],
      "metadata": {
        "id": "zkQfNKWMG4ij",
        "outputId": "2d11d3a9-17f0-4b7a-c690-4fec7afadc13",
        "colab": {
          "base_uri": "https://localhost:8080/"
        }
      },
      "execution_count": 8,
      "outputs": [
        {
          "output_type": "execute_result",
          "data": {
            "text/plain": [
              "['out', 'of', 'date']"
            ]
          },
          "metadata": {},
          "execution_count": 8
        }
      ]
    },
    {
      "cell_type": "markdown",
      "source": [
        "### **' '.join()**"
      ],
      "metadata": {
        "id": "Mb-LFWWPWn08"
      }
    },
    {
      "cell_type": "code",
      "source": [
        "' '.join(wordlist)"
      ],
      "metadata": {
        "colab": {
          "base_uri": "https://localhost:8080/",
          "height": 35
        },
        "id": "tZA7DsPPWGmA",
        "outputId": "90221f13-9bd2-40de-da6a-de32c074fb58"
      },
      "execution_count": null,
      "outputs": [
        {
          "output_type": "execute_result",
          "data": {
            "text/plain": [
              "'Mary is friendly'"
            ],
            "application/vnd.google.colaboratory.intrinsic+json": {
              "type": "string"
            }
          },
          "metadata": {},
          "execution_count": 52
        }
      ]
    },
    {
      "cell_type": "code",
      "source": [
        "'-'.join(wordlist)"
      ],
      "metadata": {
        "colab": {
          "base_uri": "https://localhost:8080/",
          "height": 35
        },
        "id": "EjLtWSL5WdYy",
        "outputId": "4ce99690-92b2-4ac7-b8c2-ee45569c21fe"
      },
      "execution_count": null,
      "outputs": [
        {
          "output_type": "execute_result",
          "data": {
            "text/plain": [
              "'Mary-is-friendly'"
            ],
            "application/vnd.google.colaboratory.intrinsic+json": {
              "type": "string"
            }
          },
          "metadata": {},
          "execution_count": 53
        }
      ]
    },
    {
      "cell_type": "code",
      "source": [
        "' '.join(mysplit)"
      ],
      "metadata": {
        "id": "PubYOJjdHOxs",
        "outputId": "6b0090ac-6811-4017-9ba1-df05e82274fd",
        "colab": {
          "base_uri": "https://localhost:8080/",
          "height": 35
        }
      },
      "execution_count": 9,
      "outputs": [
        {
          "output_type": "execute_result",
          "data": {
            "text/plain": [
              "'out of date'"
            ],
            "application/vnd.google.colaboratory.intrinsic+json": {
              "type": "string"
            }
          },
          "metadata": {},
          "execution_count": 9
        }
      ]
    },
    {
      "cell_type": "markdown",
      "source": [
        "### **data.lower(), data.upper()**"
      ],
      "metadata": {
        "id": "PgCIMbbcL29X"
      }
    },
    {
      "cell_type": "code",
      "source": [
        "w1.lower()"
      ],
      "metadata": {
        "colab": {
          "base_uri": "https://localhost:8080/",
          "height": 35
        },
        "id": "JGqTVM22MuH0",
        "outputId": "e7590192-da86-4470-d308-cbff882b492e"
      },
      "execution_count": 10,
      "outputs": [
        {
          "output_type": "execute_result",
          "data": {
            "text/plain": [
              "'mary'"
            ],
            "application/vnd.google.colaboratory.intrinsic+json": {
              "type": "string"
            }
          },
          "metadata": {},
          "execution_count": 10
        }
      ]
    },
    {
      "cell_type": "code",
      "source": [
        "w1.upper()"
      ],
      "metadata": {
        "colab": {
          "base_uri": "https://localhost:8080/",
          "height": 35
        },
        "id": "fP2lBss3Myhq",
        "outputId": "ab6ddb34-73d3-4bdd-b0eb-ef23d7f4b8d7"
      },
      "execution_count": 11,
      "outputs": [
        {
          "output_type": "execute_result",
          "data": {
            "text/plain": [
              "'MARY'"
            ],
            "application/vnd.google.colaboratory.intrinsic+json": {
              "type": "string"
            }
          },
          "metadata": {},
          "execution_count": 11
        }
      ]
    },
    {
      "cell_type": "markdown",
      "source": [
        "string index"
      ],
      "metadata": {
        "id": "yZJk2NtCM_oz"
      }
    },
    {
      "cell_type": "code",
      "source": [
        "len(w1) #number of string"
      ],
      "metadata": {
        "colab": {
          "base_uri": "https://localhost:8080/"
        },
        "id": "HmuiXLZSNGNa",
        "outputId": "e637e2da-e505-4125-bad2-c01e45c2f3f5"
      },
      "execution_count": 12,
      "outputs": [
        {
          "output_type": "execute_result",
          "data": {
            "text/plain": [
              "4"
            ]
          },
          "metadata": {},
          "execution_count": 12
        }
      ]
    },
    {
      "cell_type": "code",
      "source": [
        "w1[0] #1st string"
      ],
      "metadata": {
        "colab": {
          "base_uri": "https://localhost:8080/",
          "height": 35
        },
        "id": "xiyozLYxM6xk",
        "outputId": "f3bfdb09-bac0-42c0-d09f-c27006e30474"
      },
      "execution_count": 13,
      "outputs": [
        {
          "output_type": "execute_result",
          "data": {
            "text/plain": [
              "'M'"
            ],
            "application/vnd.google.colaboratory.intrinsic+json": {
              "type": "string"
            }
          },
          "metadata": {},
          "execution_count": 13
        }
      ]
    },
    {
      "cell_type": "code",
      "source": [
        "w1[-1]"
      ],
      "metadata": {
        "colab": {
          "base_uri": "https://localhost:8080/",
          "height": 35
        },
        "id": "AY_Ii7FhNeof",
        "outputId": "167d8a49-f166-4b05-8c8d-576d353f8141"
      },
      "execution_count": 14,
      "outputs": [
        {
          "output_type": "execute_result",
          "data": {
            "text/plain": [
              "'y'"
            ],
            "application/vnd.google.colaboratory.intrinsic+json": {
              "type": "string"
            }
          },
          "metadata": {},
          "execution_count": 14
        }
      ]
    },
    {
      "cell_type": "code",
      "source": [
        "w1[0:]"
      ],
      "metadata": {
        "id": "vhfF3iXwNijx",
        "outputId": "f8647066-d1e4-4a20-b53f-9388e7189647",
        "colab": {
          "base_uri": "https://localhost:8080/",
          "height": 35
        }
      },
      "execution_count": 15,
      "outputs": [
        {
          "output_type": "execute_result",
          "data": {
            "text/plain": [
              "'Mary'"
            ],
            "application/vnd.google.colaboratory.intrinsic+json": {
              "type": "string"
            }
          },
          "metadata": {},
          "execution_count": 15
        }
      ]
    },
    {
      "cell_type": "code",
      "source": [
        "w1[:]"
      ],
      "metadata": {
        "id": "pW4m0FoyNlf4",
        "outputId": "94b46dc1-9d70-44ce-bcb0-318dede95091",
        "colab": {
          "base_uri": "https://localhost:8080/",
          "height": 35
        }
      },
      "execution_count": 16,
      "outputs": [
        {
          "output_type": "execute_result",
          "data": {
            "text/plain": [
              "'Mary'"
            ],
            "application/vnd.google.colaboratory.intrinsic+json": {
              "type": "string"
            }
          },
          "metadata": {},
          "execution_count": 16
        }
      ]
    },
    {
      "cell_type": "code",
      "source": [
        "w1[1:3]"
      ],
      "metadata": {
        "id": "tgp9ozDdNpwd",
        "outputId": "12b109cf-dba5-4741-a530-5764ed209f1d",
        "colab": {
          "base_uri": "https://localhost:8080/",
          "height": 35
        }
      },
      "execution_count": 17,
      "outputs": [
        {
          "output_type": "execute_result",
          "data": {
            "text/plain": [
              "'ar'"
            ],
            "application/vnd.google.colaboratory.intrinsic+json": {
              "type": "string"
            }
          },
          "metadata": {},
          "execution_count": 17
        }
      ]
    },
    {
      "cell_type": "code",
      "source": [
        "w = \"mary\"\n",
        "ini = w[0].upper()\n",
        "ini\n",
        "w = ini + w[1:]\n",
        "print(w)"
      ],
      "metadata": {
        "id": "0Su3TuHfPxwh",
        "outputId": "240c6f63-48b2-4904-f0da-7f49c159f232",
        "colab": {
          "base_uri": "https://localhost:8080/"
        }
      },
      "execution_count": 20,
      "outputs": [
        {
          "output_type": "stream",
          "name": "stdout",
          "text": [
            "Mary\n"
          ]
        }
      ]
    },
    {
      "cell_type": "markdown",
      "source": [
        "☺️ DIY: Convert a statement to a yes-no question (e.g., Mary is smart. Tom is smiling. Jane is late.)"
      ],
      "metadata": {
        "id": "lGVkVdCLNMz0"
      }
    },
    {
      "cell_type": "code",
      "source": [
        "w1 = \"Mary is friendly.\""
      ],
      "metadata": {
        "id": "nz1VNUviNXaJ"
      },
      "execution_count": 21,
      "outputs": []
    }
  ]
}
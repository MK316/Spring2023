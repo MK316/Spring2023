{
  "nbformat": 4,
  "nbformat_minor": 0,
  "metadata": {
    "colab": {
      "private_outputs": true,
      "provenance": [],
      "authorship_tag": "ABX9TyPO/8nMFNCtE2uXznlWxFq6",
      "include_colab_link": true
    },
    "kernelspec": {
      "name": "python3",
      "display_name": "Python 3"
    },
    "language_info": {
      "name": "python"
    }
  },
  "cells": [
    {
      "cell_type": "markdown",
      "metadata": {
        "id": "view-in-github",
        "colab_type": "text"
      },
      "source": [
        "<a href=\"https://colab.research.google.com/github/MK316/Spring2023/blob/main/mypron23.ipynb\" target=\"_parent\"><img src=\"https://colab.research.google.com/assets/colab-badge.svg\" alt=\"Open In Colab\"/></a>"
      ]
    },
    {
      "cell_type": "markdown",
      "source": [
        "# 🐾 Engpro: for your practice"
      ],
      "metadata": {
        "id": "KW18nbumY4a2"
      }
    },
    {
      "cell_type": "code",
      "source": [
        "#@markdown 🚩Setup (Run this)\n",
        "\n",
        "!pip install gtts\n",
        "from gtts import gTTS\n",
        "import pandas as pd\n",
        "from IPython.display import Audio"
      ],
      "metadata": {
        "id": "r4FKOV95_ebs",
        "cellView": "form"
      },
      "execution_count": null,
      "outputs": []
    },
    {
      "cell_type": "markdown",
      "source": [
        "#[1] Check how to pronounce...."
      ],
      "metadata": {
        "id": "4H6DdEjc_Yod"
      }
    },
    {
      "cell_type": "code",
      "execution_count": null,
      "metadata": {
        "cellView": "form",
        "id": "CdiH7JuD_L0v"
      },
      "outputs": [],
      "source": [
        "#@markdown 🚩 Define etts(), 'sample.mp3'\n",
        "def etts(mytext):\n",
        "    tts = gTTS(mytext)\n",
        "    tts.save('sample.mp3')\n",
        "    return Audio('sample.mp3', autoplay=True)"
      ]
    },
    {
      "cell_type": "code",
      "source": [
        "#@markdown Step 1: Generate audio from text.\n",
        "txt = input(\"Type text: \")\n",
        "etts(txt)"
      ],
      "metadata": {
        "cellView": "form",
        "id": "h3zf7hU_XLRt"
      },
      "execution_count": null,
      "outputs": []
    },
    {
      "cell_type": "code",
      "source": [
        "#@markdown Step 2: Saving your audio with a file name you give.\n",
        "import os\n",
        "\n",
        "# Specify the current file path and name\n",
        "current_path = '/content/sample.mp3'\n",
        "\n",
        "filename = input(\"File name to save? e.g., audio1 (This will save a file audio1.mp3)\")\n",
        "# Specify the new file path and name\n",
        "new_path = '/content/'+ filename + '.mp3'\n",
        "\n",
        "# Use the os.rename() function to rename the file\n",
        "os.rename(current_path, new_path)"
      ],
      "metadata": {
        "cellView": "form",
        "id": "qBO9q4pNXhwd"
      },
      "execution_count": null,
      "outputs": []
    }
  ]
}
{
  "nbformat": 4,
  "nbformat_minor": 0,
  "metadata": {
    "colab": {
      "provenance": [],
      "authorship_tag": "ABX9TyMRgs+geOSaFyQbSEYGjecC",
      "include_colab_link": true
    },
    "kernelspec": {
      "name": "python3",
      "display_name": "Python 3"
    },
    "language_info": {
      "name": "python"
    },
    "widgets": {
      "application/vnd.jupyter.widget-state+json": {
        "85995300ab96434a9051ef5f90a65e94": {
          "model_module": "@jupyter-widgets/controls",
          "model_name": "VBoxModel",
          "model_module_version": "1.5.0",
          "state": {
            "_dom_classes": [],
            "_model_module": "@jupyter-widgets/controls",
            "_model_module_version": "1.5.0",
            "_model_name": "VBoxModel",
            "_view_count": null,
            "_view_module": "@jupyter-widgets/controls",
            "_view_module_version": "1.5.0",
            "_view_name": "VBoxView",
            "box_style": "",
            "children": [
              "IPY_MODEL_9d820053d6704f32a944df0b20f215b7",
              "IPY_MODEL_32bebadc433243819699e901ac1e36e2",
              "IPY_MODEL_43d3b870315c40878c2b6d57af24679b",
              "IPY_MODEL_3bd7a884f9a44415a71a84a0b2d598d0"
            ],
            "layout": "IPY_MODEL_f0c01c9df08f41fd8a1c491dae57cb17"
          }
        },
        "9d820053d6704f32a944df0b20f215b7": {
          "model_module": "@jupyter-widgets/controls",
          "model_name": "TextModel",
          "model_module_version": "1.5.0",
          "state": {
            "_dom_classes": [],
            "_model_module": "@jupyter-widgets/controls",
            "_model_module_version": "1.5.0",
            "_model_name": "TextModel",
            "_view_count": null,
            "_view_module": "@jupyter-widgets/controls",
            "_view_module_version": "1.5.0",
            "_view_name": "TextView",
            "continuous_update": true,
            "description": "Text:",
            "description_tooltip": null,
            "disabled": false,
            "layout": "IPY_MODEL_1705246934fd4cc4a0aaa9e7b58acd46",
            "placeholder": "​",
            "style": "IPY_MODEL_3221e83bf20644f182c058a5cf17343f",
            "value": "hello"
          }
        },
        "32bebadc433243819699e901ac1e36e2": {
          "model_module": "@jupyter-widgets/controls",
          "model_name": "DropdownModel",
          "model_module_version": "1.5.0",
          "state": {
            "_dom_classes": [],
            "_model_module": "@jupyter-widgets/controls",
            "_model_module_version": "1.5.0",
            "_model_name": "DropdownModel",
            "_options_labels": [
              "English",
              "French",
              "German",
              "Italian",
              "Japanese",
              "Korean",
              "Spanish",
              "Russian"
            ],
            "_view_count": null,
            "_view_module": "@jupyter-widgets/controls",
            "_view_module_version": "1.5.0",
            "_view_name": "DropdownView",
            "description": "Language:",
            "description_tooltip": null,
            "disabled": false,
            "index": 1,
            "layout": "IPY_MODEL_20c7dfb389224867b597ff9d5cc785d1",
            "style": "IPY_MODEL_20587523eaef4617a7ce6dd8f3ca2b29"
          }
        },
        "43d3b870315c40878c2b6d57af24679b": {
          "model_module": "@jupyter-widgets/controls",
          "model_name": "CheckboxModel",
          "model_module_version": "1.5.0",
          "state": {
            "_dom_classes": [],
            "_model_module": "@jupyter-widgets/controls",
            "_model_module_version": "1.5.0",
            "_model_name": "CheckboxModel",
            "_view_count": null,
            "_view_module": "@jupyter-widgets/controls",
            "_view_module_version": "1.5.0",
            "_view_name": "CheckboxView",
            "description": "Slow",
            "description_tooltip": null,
            "disabled": false,
            "indent": true,
            "layout": "IPY_MODEL_e28b1c2307b446af9ff463d12a7d4e5c",
            "style": "IPY_MODEL_95ee61e5bb6944d49e78517f27c01ccf",
            "value": false
          }
        },
        "3bd7a884f9a44415a71a84a0b2d598d0": {
          "model_module": "@jupyter-widgets/controls",
          "model_name": "ButtonModel",
          "model_module_version": "1.5.0",
          "state": {
            "_dom_classes": [],
            "_model_module": "@jupyter-widgets/controls",
            "_model_module_version": "1.5.0",
            "_model_name": "ButtonModel",
            "_view_count": null,
            "_view_module": "@jupyter-widgets/controls",
            "_view_module_version": "1.5.0",
            "_view_name": "ButtonView",
            "button_style": "",
            "description": "Speak",
            "disabled": false,
            "icon": "",
            "layout": "IPY_MODEL_8d5df7e7678f41fc8640ec98ac0c0142",
            "style": "IPY_MODEL_dc9fd5b7b2414d9093946c072d3e7bab",
            "tooltip": ""
          }
        },
        "f0c01c9df08f41fd8a1c491dae57cb17": {
          "model_module": "@jupyter-widgets/base",
          "model_name": "LayoutModel",
          "model_module_version": "1.2.0",
          "state": {
            "_model_module": "@jupyter-widgets/base",
            "_model_module_version": "1.2.0",
            "_model_name": "LayoutModel",
            "_view_count": null,
            "_view_module": "@jupyter-widgets/base",
            "_view_module_version": "1.2.0",
            "_view_name": "LayoutView",
            "align_content": null,
            "align_items": null,
            "align_self": null,
            "border": null,
            "bottom": null,
            "display": null,
            "flex": null,
            "flex_flow": null,
            "grid_area": null,
            "grid_auto_columns": null,
            "grid_auto_flow": null,
            "grid_auto_rows": null,
            "grid_column": null,
            "grid_gap": null,
            "grid_row": null,
            "grid_template_areas": null,
            "grid_template_columns": null,
            "grid_template_rows": null,
            "height": null,
            "justify_content": null,
            "justify_items": null,
            "left": null,
            "margin": null,
            "max_height": null,
            "max_width": null,
            "min_height": null,
            "min_width": null,
            "object_fit": null,
            "object_position": null,
            "order": null,
            "overflow": null,
            "overflow_x": null,
            "overflow_y": null,
            "padding": null,
            "right": null,
            "top": null,
            "visibility": null,
            "width": null
          }
        },
        "1705246934fd4cc4a0aaa9e7b58acd46": {
          "model_module": "@jupyter-widgets/base",
          "model_name": "LayoutModel",
          "model_module_version": "1.2.0",
          "state": {
            "_model_module": "@jupyter-widgets/base",
            "_model_module_version": "1.2.0",
            "_model_name": "LayoutModel",
            "_view_count": null,
            "_view_module": "@jupyter-widgets/base",
            "_view_module_version": "1.2.0",
            "_view_name": "LayoutView",
            "align_content": null,
            "align_items": null,
            "align_self": null,
            "border": null,
            "bottom": null,
            "display": null,
            "flex": null,
            "flex_flow": null,
            "grid_area": null,
            "grid_auto_columns": null,
            "grid_auto_flow": null,
            "grid_auto_rows": null,
            "grid_column": null,
            "grid_gap": null,
            "grid_row": null,
            "grid_template_areas": null,
            "grid_template_columns": null,
            "grid_template_rows": null,
            "height": null,
            "justify_content": null,
            "justify_items": null,
            "left": null,
            "margin": null,
            "max_height": null,
            "max_width": null,
            "min_height": null,
            "min_width": null,
            "object_fit": null,
            "object_position": null,
            "order": null,
            "overflow": null,
            "overflow_x": null,
            "overflow_y": null,
            "padding": null,
            "right": null,
            "top": null,
            "visibility": null,
            "width": null
          }
        },
        "3221e83bf20644f182c058a5cf17343f": {
          "model_module": "@jupyter-widgets/controls",
          "model_name": "DescriptionStyleModel",
          "model_module_version": "1.5.0",
          "state": {
            "_model_module": "@jupyter-widgets/controls",
            "_model_module_version": "1.5.0",
            "_model_name": "DescriptionStyleModel",
            "_view_count": null,
            "_view_module": "@jupyter-widgets/base",
            "_view_module_version": "1.2.0",
            "_view_name": "StyleView",
            "description_width": ""
          }
        },
        "20c7dfb389224867b597ff9d5cc785d1": {
          "model_module": "@jupyter-widgets/base",
          "model_name": "LayoutModel",
          "model_module_version": "1.2.0",
          "state": {
            "_model_module": "@jupyter-widgets/base",
            "_model_module_version": "1.2.0",
            "_model_name": "LayoutModel",
            "_view_count": null,
            "_view_module": "@jupyter-widgets/base",
            "_view_module_version": "1.2.0",
            "_view_name": "LayoutView",
            "align_content": null,
            "align_items": null,
            "align_self": null,
            "border": null,
            "bottom": null,
            "display": null,
            "flex": null,
            "flex_flow": null,
            "grid_area": null,
            "grid_auto_columns": null,
            "grid_auto_flow": null,
            "grid_auto_rows": null,
            "grid_column": null,
            "grid_gap": null,
            "grid_row": null,
            "grid_template_areas": null,
            "grid_template_columns": null,
            "grid_template_rows": null,
            "height": null,
            "justify_content": null,
            "justify_items": null,
            "left": null,
            "margin": null,
            "max_height": null,
            "max_width": null,
            "min_height": null,
            "min_width": null,
            "object_fit": null,
            "object_position": null,
            "order": null,
            "overflow": null,
            "overflow_x": null,
            "overflow_y": null,
            "padding": null,
            "right": null,
            "top": null,
            "visibility": null,
            "width": null
          }
        },
        "20587523eaef4617a7ce6dd8f3ca2b29": {
          "model_module": "@jupyter-widgets/controls",
          "model_name": "DescriptionStyleModel",
          "model_module_version": "1.5.0",
          "state": {
            "_model_module": "@jupyter-widgets/controls",
            "_model_module_version": "1.5.0",
            "_model_name": "DescriptionStyleModel",
            "_view_count": null,
            "_view_module": "@jupyter-widgets/base",
            "_view_module_version": "1.2.0",
            "_view_name": "StyleView",
            "description_width": ""
          }
        },
        "e28b1c2307b446af9ff463d12a7d4e5c": {
          "model_module": "@jupyter-widgets/base",
          "model_name": "LayoutModel",
          "model_module_version": "1.2.0",
          "state": {
            "_model_module": "@jupyter-widgets/base",
            "_model_module_version": "1.2.0",
            "_model_name": "LayoutModel",
            "_view_count": null,
            "_view_module": "@jupyter-widgets/base",
            "_view_module_version": "1.2.0",
            "_view_name": "LayoutView",
            "align_content": null,
            "align_items": null,
            "align_self": null,
            "border": null,
            "bottom": null,
            "display": null,
            "flex": null,
            "flex_flow": null,
            "grid_area": null,
            "grid_auto_columns": null,
            "grid_auto_flow": null,
            "grid_auto_rows": null,
            "grid_column": null,
            "grid_gap": null,
            "grid_row": null,
            "grid_template_areas": null,
            "grid_template_columns": null,
            "grid_template_rows": null,
            "height": null,
            "justify_content": null,
            "justify_items": null,
            "left": null,
            "margin": null,
            "max_height": null,
            "max_width": null,
            "min_height": null,
            "min_width": null,
            "object_fit": null,
            "object_position": null,
            "order": null,
            "overflow": null,
            "overflow_x": null,
            "overflow_y": null,
            "padding": null,
            "right": null,
            "top": null,
            "visibility": null,
            "width": null
          }
        },
        "95ee61e5bb6944d49e78517f27c01ccf": {
          "model_module": "@jupyter-widgets/controls",
          "model_name": "DescriptionStyleModel",
          "model_module_version": "1.5.0",
          "state": {
            "_model_module": "@jupyter-widgets/controls",
            "_model_module_version": "1.5.0",
            "_model_name": "DescriptionStyleModel",
            "_view_count": null,
            "_view_module": "@jupyter-widgets/base",
            "_view_module_version": "1.2.0",
            "_view_name": "StyleView",
            "description_width": ""
          }
        },
        "8d5df7e7678f41fc8640ec98ac0c0142": {
          "model_module": "@jupyter-widgets/base",
          "model_name": "LayoutModel",
          "model_module_version": "1.2.0",
          "state": {
            "_model_module": "@jupyter-widgets/base",
            "_model_module_version": "1.2.0",
            "_model_name": "LayoutModel",
            "_view_count": null,
            "_view_module": "@jupyter-widgets/base",
            "_view_module_version": "1.2.0",
            "_view_name": "LayoutView",
            "align_content": null,
            "align_items": null,
            "align_self": null,
            "border": null,
            "bottom": null,
            "display": null,
            "flex": null,
            "flex_flow": null,
            "grid_area": null,
            "grid_auto_columns": null,
            "grid_auto_flow": null,
            "grid_auto_rows": null,
            "grid_column": null,
            "grid_gap": null,
            "grid_row": null,
            "grid_template_areas": null,
            "grid_template_columns": null,
            "grid_template_rows": null,
            "height": null,
            "justify_content": null,
            "justify_items": null,
            "left": null,
            "margin": null,
            "max_height": null,
            "max_width": null,
            "min_height": null,
            "min_width": null,
            "object_fit": null,
            "object_position": null,
            "order": null,
            "overflow": null,
            "overflow_x": null,
            "overflow_y": null,
            "padding": null,
            "right": null,
            "top": null,
            "visibility": null,
            "width": null
          }
        },
        "dc9fd5b7b2414d9093946c072d3e7bab": {
          "model_module": "@jupyter-widgets/controls",
          "model_name": "ButtonStyleModel",
          "model_module_version": "1.5.0",
          "state": {
            "_model_module": "@jupyter-widgets/controls",
            "_model_module_version": "1.5.0",
            "_model_name": "ButtonStyleModel",
            "_view_count": null,
            "_view_module": "@jupyter-widgets/base",
            "_view_module_version": "1.2.0",
            "_view_name": "StyleView",
            "button_color": null,
            "font_weight": ""
          }
        }
      }
    }
  },
  "cells": [
    {
      "cell_type": "markdown",
      "metadata": {
        "id": "view-in-github",
        "colab_type": "text"
      },
      "source": [
        "<a href=\"https://colab.research.google.com/github/MK316/Spring2023/blob/main/gTTS_buttoned_multi.ipynb\" target=\"_parent\"><img src=\"https://colab.research.google.com/assets/colab-badge.svg\" alt=\"Open In Colab\"/></a>"
      ]
    },
    {
      "cell_type": "markdown",
      "source": [
        "# gTTS - buttoned"
      ],
      "metadata": {
        "id": "PzsoI1DQqKbr"
      }
    },
    {
      "cell_type": "code",
      "execution_count": 9,
      "metadata": {
        "id": "OFlEGsUDtK7x",
        "cellView": "form"
      },
      "outputs": [],
      "source": [
        "#@markdown Install, import libraries, define etts(), 'sample.mp3'\n",
        "%%capture\n",
        "!pip install gtts\n",
        "# !pip show gtts\n",
        "\n",
        "from gtts import gTTS\n",
        "from IPython.display import Audio\n",
        "\n",
        "def etts(mytext):\n",
        "    tts = gTTS(mytext)\n",
        "    tts.save('sample.mp3')\n",
        "    return Audio('sample.mp3', autoplay=True)\n"
      ]
    },
    {
      "cell_type": "code",
      "source": [
        "#@markdown Button control TTS\n",
        "from gtts import gTTS\n",
        "from IPython.display import Audio\n",
        "import ipywidgets as widgets\n",
        "\n",
        "def etts(mytext, lang='en', dialect=None, slow=False):\n",
        "    if slow:\n",
        "        speed = 0.5\n",
        "    else:\n",
        "        speed = 1.0\n",
        "    \n",
        "    if dialect:\n",
        "        lang_code = f\"{lang}-{dialect}\"\n",
        "    else:\n",
        "        lang_code = lang\n",
        "    \n",
        "    tts = gTTS(mytext, lang=lang_code, slow=slow)\n",
        "    tts.speed = speed\n",
        "    tts.save('sample.mp3')\n",
        "    return Audio('sample.mp3', autoplay=True)\n",
        "\n",
        "# Define the language and dialect options\n",
        "languages = {\n",
        "    'English': 'en',\n",
        "    'French': 'fr',\n",
        "    'German': 'de',\n",
        "    'Italian': 'it',\n",
        "    'Japanese': 'ja',\n",
        "    'Korean': 'ko',\n",
        "    'Spanish': 'es',\n",
        "    'Russian': 'ru'\n",
        "}\n",
        "\n",
        "# Create the language and dialect dropdown widgets\n",
        "lang_dropdown = widgets.Dropdown(options=languages, value='en', description='Language:')\n",
        "\n",
        "# Create the slow checkbox widget\n",
        "slow_checkbox = widgets.Checkbox(value=False, description='Slow')\n",
        "\n",
        "# Define a function to handle the button click event\n",
        "def on_button_click(btn):\n",
        "    lang = lang_dropdown.value\n",
        "    display(etts(input_text.value, lang=lang, slow=False))\n",
        "\n",
        "# Create the text input widget and button\n",
        "input_text = widgets.Text(description='Text:')\n",
        "btn = widgets.Button(description='Speak')\n",
        "btn.on_click(on_button_click)\n",
        "\n",
        "# Display the widgets\n",
        "display(widgets.VBox([input_text, lang_dropdown, slow_checkbox, btn]))\n"
      ],
      "metadata": {
        "colab": {
          "base_uri": "https://localhost:8080/",
          "height": 261,
          "referenced_widgets": [
            "85995300ab96434a9051ef5f90a65e94",
            "9d820053d6704f32a944df0b20f215b7",
            "32bebadc433243819699e901ac1e36e2",
            "43d3b870315c40878c2b6d57af24679b",
            "3bd7a884f9a44415a71a84a0b2d598d0",
            "f0c01c9df08f41fd8a1c491dae57cb17",
            "1705246934fd4cc4a0aaa9e7b58acd46",
            "3221e83bf20644f182c058a5cf17343f",
            "20c7dfb389224867b597ff9d5cc785d1",
            "20587523eaef4617a7ce6dd8f3ca2b29",
            "e28b1c2307b446af9ff463d12a7d4e5c",
            "95ee61e5bb6944d49e78517f27c01ccf",
            "8d5df7e7678f41fc8640ec98ac0c0142",
            "dc9fd5b7b2414d9093946c072d3e7bab"
          ]
        },
        "id": "81wh4DSk48qc",
        "outputId": "aca86be1-9543-4a14-f970-310620054577",
        "cellView": "form"
      },
      "execution_count": 5,
      "outputs": [
        {
          "output_type": "display_data",
          "data": {
            "text/plain": [
              "VBox(children=(Text(value='', description='Text:'), Dropdown(description='Language:', options={'English': 'en'…"
            ],
            "application/vnd.jupyter.widget-view+json": {
              "version_major": 2,
              "version_minor": 0,
              "model_id": "85995300ab96434a9051ef5f90a65e94"
            }
          },
          "metadata": {}
        },
        {
          "output_type": "display_data",
          "data": {
            "text/plain": [
              "<IPython.lib.display.Audio object>"
            ],
            "text/html": [
              "\n",
              "                <audio  controls=\"controls\" autoplay=\"autoplay\">\n",
              "                    <source src=\"data:audio/mpeg;base64,//NExAAAAANIAUAAAP8uOus7wGBf7ryaGnV/43Pxt++KHcFAb5CNBBccHPoxznKw4Ih7+r8NER53b/O/nGGdX///ixBGHif/8aQ3M//9PWoyAtUkUme0lDlugpLGccdS//NExFMQmc5UAZkoAIa0vmXfnuU0gp4uYAgWY6r18tmiw7Lat22y3GxCnWiBpnxfBMCb2RHi9ednZLLb3mEQ9juSwJh+5Ry3zTdX4scODzm19ob0Tn942zir9l/02mtz//NExGMf4kZgAdhgAH7so5uUy0/m278vfOmcYc8MPQTQq7UAP3yjj8EKBYmsfnN6l1mrjAe0jh469zLwpK47eXXYW6Mo2C2pbdqvs5ejh+wvAHEccVzQrEtIdF9hcakh//NExDYd+maAAFsQuGuXUlg8EBFBsN0KLVFoOmBo+7HDBzmTaECAH4puKKNp5cXHWYRXbJeS7u5vSXxUtCaJ1T1anGSPCorem9KqOcvu0Q+xkpmPr4ekKAUOgjeYAcRG//NExBETeTKcABJScZfY12NbRPcXh9ytlM2AqA1fXpjVTUMTMZjaSxFMoaSPQArMvza5z4qFKEKHAFRHude3a37Ht9M3z/d45vSbVV4BcA+MMahfyFwjyzRnAmOjh4Lw//NExBYXqTqcAHsScM3hKJZGXNzjFdWLNkZCZXFbQZ651CMLsKbyd5CWTPtStLIxOhaaxNg0ntrnUBwUNFhGww0ege1gwXYIECgImFJbSWah9Gy7b13LmtPsFjwu7hEU//NExAoTaTawAMPecNBg+MwWEZ0zJAN0eIH+SMpVgWB1jF2VR23lTL7ubKmHOMdxi0ZonpvEDX+cP5/8xNemauc1cZiNlMvVl3Vn7LGo7bjKbWRwFdDmZwTcAzccanmR//NExA8WKbqwAJ4GlBZfpwIrt6jTAvxj22yJNNt9flpr8/vjpKuYJQ1oZU6ZJZ9YBCT9g6EeGA6cDDiHO0SBm7NXKHZPm+c8+dhcBUOb1G2gNhGbQh9N7nhtg8JqODrB//NExAkUaVKwAI5MlL6CNmC9KogcFJmzamZ0lLfPmdNHkjnMt62o+rXf568UHX0vflqNV9/okfn8kW/eiU/0cln/BYC981JjiLZLpkQXYWbWK0IeR1Kxr/2QBj3n5/dJ//NExAoUIcqkAM6KlAgNv7hZbsYOMHALVLdrKPjRPmGuCotCCkoImjyW9fKz39ymEf/6yHt0HPyt5n8xOodIO5QFB3VFF/N9eawi6REpl5ZFJCFK3nznlQDEpnDP54YF//NExAwUCbqUAN0KlA4UEobiZMBN8AMpKhSSRAibAkiLhoPwiYBCMBRCPOon6S2mn4q3cWf/091b7dCC2qipW0rQ0yXQcFCxIDkaBLUItn/01YEo8e3hkfDrF3oq6IqB//NExA4TsbaMAN0KlBnGUamCMpiRiOgAWMFrZedEcoBggFC5aGSIC4CwMcLJVkR+bfMfl/+3y/N8VyHYIUZrfNrGA2vKau9ulf//0f5Zznrs03ExN0muz+NOhMPbwBRh//NExBIQGa6MANSElHHLS2Q0LFwRMSJkiOgAHhPxmZrNBdG6rIF76P0vm////950CIAqb//cMHHtR/Iqfztuka+ZAtgYDrW4mSDxxiyPGEPaQBvcGx0ky0w+wN8RqSx0//NExCQSKVaMANxElIkQ4P+NlbqptrN0eh8j9G9f//a1AggGWgB9O2Jz0v/////qtKW1z9R0CsGbQu8+JCIO6Ad2/dbEXhi/07pglLlXdYsjAwE+pbclKw8D/3KGJN3///NExC4TcWKcANYElKlJ3/2c3Vn5P/X0Z6EAwywQApuiXoY26UT9/v///uYhs/hmsg3g3y52IADBGq78vBjBLV/5YjOipP4ZNwSAhO8I+XXUQh7Da5O9/POf5/6svz+R//NExDMR+VakAM4ElP29fI/jqRjghzDnk1pe0Dst9A+nMqTHV0qiEt1ovLkCBLGKZ0C2TPah6vuhFZV21K21rMcqasioMOzvdRwmSy1yC3Oy//v5cnonY3Ibh20UUZ6F//NExD4S8aakAMZElCtV/X06uJyL7tl1TKZSv3vxbkTdW6GNNuL1RallTOAmlze8GRQKc1LmbdC0MJ1fboPC39HhjwAcTJNRMDBKy6ZUNtbt6OpB+g+szQsmXy87S278//NExEUToTqkAM5gcLuE4FpO3UP68Wql5/W4D5uQTikaJ6q2pahKDmZq8+Jg3o42LVggAjWfylNLDWYkAB4D3jpULI5Re1FF9SKOtHppJaaXMEWskaG0oDtn6iKzXV/6//NExEkSsTakAMZicMsmmcrsFAx5CLOljphbIRUsuCwxtGr1lMoAMQEyD6lIzxS2dpmtoJ0uZZE0BY89zaakcBusV32vTWv1w3O2RfdJGdaBwYC0idPb/20B2//9Nbnc//NExFETmZ6gAM4ElF4xscq3WYSCoyyAxGMNtKpUkYakAZquX0S8bq4tVh7RrnF5sOTBgwSgLAbxDD44fkhxzUtu/tu6Xt3RXK3f+hAx53EVemtuqss4kgWVgWIzBKKw//NExFUQsS6oAMYUcJeI5ubTu2q6diDDF4t6+qpBUKsLXX/YAFxlGCwji7KOp75tarqZ+vq/qIvybLo/8BK/qe42gQWx+xHQsI99prB1ArFZAYlBhp5kYOQnVL25qFXq//NExGURMSakAMYQcAT0CwVhljr2LqrFlIAAIihgesMNa3iLumivjjuPqLqrVc0c4Nnv6ZW3/UqKboB2KHK7YiuJ8oYBO0NcE9Af+LYo8h2JNH1GseRYiBLH2AA2s1nO//NExHMSmSagAM4QcB4j2V49d+pf7qq01PeIzr1iIDgM0bW33ViMa3+vf/////0Vn7kdMPXt2MKQS2KYKJX/LE9y3E3KEhAyPIwvGxMM8WrbjAgE31ZNBdoqNCVnJrq+//NExHsSmK6cAM4wTM+nbO3oxlGizwtd9ELhBYpZ0bDE/gSTJ5UU2YLjnxkR/Hyye4aYQJFk3FX4VRVcQ2oGLZlFOrucJhUJTop0O007atnd99TyylIs5Vup4BQQ//////NExIMPoSKcAMYKcP//+tW3YxNdnuIy0LL/GQRO29oQSiVFiAREWGJansJHl1CIkSKMEg0aY5G35n9bs9+a5/6/98+/7fm+VEY4n/8vyCmO/+j/////6WOPvJDkIA4G//NExJcR0S6UAM4OcO2MphNFOsIAEgiRNwBh04geEypCQhCz9WMEhsowYzJAuCzVHGkpIKfrXL44iOah3nrhtQsx4OHWLqSgq0EH/9IuQxYVBHldruZgO+gNWUxGQgOQ//NExKIRwYKUAM4ElIVDLrMKUiFg9fUAK5jIsC463E5S9MCBhS+X2v0lvjG5e7JvX6/UvarOFBAHezRhwmz7UQsKaYFT5gbyx2IGLICQyVziEFcZQCcfbEhSeGAaEYl4//NExK4R+JKAANawTEdQo9A0lQXtyfN9ryxNbxA+NRLWnHuigBB5jNRYOkirtlTgaSn/6KFaIUBNrM+KQcyADzUREgZwnpCQvQVJYV5DkOLc4l+LkhwNgbASQT1KJKmy//NExLkReSZ0ANZEcOMozkxXflp2rK1c9J0NKBUFSx4GTviKJTvU4OklDUk1KxszHDTrQVGuk0RFhAgBk9aRqUXb2j7s7mHV9c3P7S7kIRkAAgl5uXD7LQux6ybeKJ4q//NExMYR8LJoANPeTPF32zv+/9y29T0frSohASEZ9DWw3mk/umiYmNdaYyAoBQqzTPRNNpq7VhQ7gwuwVaDChQFStrmKFNHiVpYShPdiUJAq4qCpUNA0e1YMhow1qoK0//NExNER4MJUAMvYTHAwaGA0HTWsXQ5Kzv9QMtLA0DUVgAB8qcwlJm0YhhyVI2yWZkQuWRMJORG6Wo52JctGHdKmNwSihYGQmoUDolcJgYIFSIs9p4Emh008Zcu7i6H3//NExNwQmPYAAGJGcAvHzC0LOgBSFnUNRatvd+1CBIk5eceevJalQSFkgtAiIxIkq1DxxieujJgD0FYAzHUS7zdYNHz2x4cSwQO3hbHzvVzB5rxvd+PlRLiLNmOeS629//NExOwWOPnsAGJGcPP20lt/7lqMPvqBz/7/leMMOEUBQAgBEtEQJAkGsoGAQCJa5Gq3/GbjMzahQafBoGQ1EoKg0sFQ0sFQVBUFTwlBU7lgaBpYKgqCvqEoKgqGpLiI//NExOYUKL3sAEpMTBo98qDR7gqCvwVBYO4Kg0eWCoLKOpYE4zpDaW/M/8wwlzzKXEM1WTNiDmOUxUOt4wOXr1NudCNBthMOdkMq9VNcMYOS5rPFFaPKmDOraiNyMLM///NExOgVKLX0AMGGTXLDDLMTJzIDU+76TEFNRTMuMTAwqqqqqqqqqqqqqqqqqqqqqqqqqqqqqqqqqqqqqqqqqqqqqqqqqqqqqqqqqqqqqqqqqqqqqqqqqqqqTEFNRTMu//NExOYU2JHoAEmGTDEwMKqqqqqqqqqqqqqqqqqqqqqqqqqqqqqqqqqqqqqqqqqqqqqqqqqqqqqqqqqqqqqqqqqqqqqqqqqqqqqqqqqqqqqqqqqqqqqqqqqqTEFNRTMu//NExOUSYGQUAOd6KDEwMKqqqqqqqqqqqqqqqqqqqqqqqqqqqqqqqqqqqqqqqqqqqqqqqqqqqqqqqqqqqqqqqqqqqqqqqqqqqqqqqqqqqqqqqqqqqqqqqqqqTEFNRTMu//NExKwAAANIAAAAADEwMKqqqqqqqqqqqqqqqqqqqqqqqqqqqqqqqqqqqqqqqqqqqqqqqqqqqqqqqqqqqqqqqqqqqqqqqqqqqqqqqqqqqqqqqqqqqqqqqqqqqqqqqqqq//NExKwAAANIAAAAAKqqqqqqqqqqqqqqqqqqqqqqqqqqqqqqqqqqqqqqqqqqqqqqqqqqqqqqqqqqqqqqqqqqqqqqqqqqqqqqqqqqqqqqqqqqqqqqqqqqqqqqqqqqqqqq//NExKwAAANIAAAAAKqqqqqqqqqqqqqqqqqqqqqqqqqqqqqqqqqqqqqqqqqqqqqqqqqqqqqqqqqqqqqqqqqqqqqqqqqqqqqqqqqqqqqqqqqqqqqqqqqqqqqqqqqqqqqq\" type=\"audio/mpeg\" />\n",
              "                    Your browser does not support the audio element.\n",
              "                </audio>\n",
              "              "
            ]
          },
          "metadata": {}
        },
        {
          "output_type": "display_data",
          "data": {
            "text/plain": [
              "<IPython.lib.display.Audio object>"
            ],
            "text/html": [
              "\n",
              "                <audio  controls=\"controls\" autoplay=\"autoplay\">\n",
              "                    <source src=\"data:audio/mpeg;base64,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\" type=\"audio/mpeg\" />\n",
              "                    Your browser does not support the audio element.\n",
              "                </audio>\n",
              "              "
            ]
          },
          "metadata": {}
        }
      ]
    }
  ]
}
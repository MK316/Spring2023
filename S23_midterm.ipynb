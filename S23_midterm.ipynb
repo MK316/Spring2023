{
  "nbformat": 4,
  "nbformat_minor": 0,
  "metadata": {
    "colab": {
      "provenance": [],
      "authorship_tag": "ABX9TyM9lYb721N8pXD3UQAUFgdO",
      "include_colab_link": true
    },
    "kernelspec": {
      "name": "python3",
      "display_name": "Python 3"
    },
    "language_info": {
      "name": "python"
    }
  },
  "cells": [
    {
      "cell_type": "markdown",
      "metadata": {
        "id": "view-in-github",
        "colab_type": "text"
      },
      "source": [
        "<a href=\"https://colab.research.google.com/github/MK316/Spring2023/blob/main/S23_midterm.ipynb\" target=\"_parent\"><img src=\"https://colab.research.google.com/assets/colab-badge.svg\" alt=\"Open In Colab\"/></a>"
      ]
    },
    {
      "cell_type": "markdown",
      "source": [
        "# Spring 2023 Midterm results"
      ],
      "metadata": {
        "id": "axE8kD3pq4it"
      }
    },
    {
      "cell_type": "code",
      "source": [
        "import pandas as pd\n",
        "import matplotlib.pyplot as plt"
      ],
      "metadata": {
        "id": "F04qLrPdrb3r"
      },
      "execution_count": 19,
      "outputs": []
    },
    {
      "cell_type": "code",
      "execution_count": 29,
      "metadata": {
        "colab": {
          "base_uri": "https://localhost:8080/"
        },
        "id": "Dc1FS0EYqtMG",
        "outputId": "914a17a9-13a2-4670-c62f-12da8d6e5eea"
      },
      "outputs": [
        {
          "output_type": "stream",
          "name": "stdout",
          "text": [
            "Mounted at /content/drive\n"
          ]
        }
      ],
      "source": [
        "from google.colab import drive\n",
        "drive.mount('/content/drive')"
      ]
    },
    {
      "cell_type": "code",
      "source": [
        "# url = \"/content/drive/MyDrive/Engpro23_Midterm_grade.csv\"\n",
        "url = \"/content/drive/MyDrive/S23_Engling_grades.csv\"\n",
        "\n",
        "df = pd.read_csv(url, encoding = \"cp949\")"
      ],
      "metadata": {
        "id": "1j5WEMbVq_BO"
      },
      "execution_count": 30,
      "outputs": []
    },
    {
      "cell_type": "code",
      "source": [
        "drive.flush_and_unmount()"
      ],
      "metadata": {
        "id": "RXwEjTEPsnAi"
      },
      "execution_count": 31,
      "outputs": []
    },
    {
      "cell_type": "code",
      "source": [
        "selected = [\"SID\",\"Total\"]\n",
        "data = df[selected]\n",
        "\n",
        "\n",
        "data.head()"
      ],
      "metadata": {
        "id": "Gm8L5YztrO0_"
      },
      "execution_count": null,
      "outputs": []
    },
    {
      "cell_type": "code",
      "source": [
        "data = df[\"Total\"]\n",
        "plt.boxplot(data)"
      ],
      "metadata": {
        "id": "U5IA1HHgr8sd"
      },
      "execution_count": null,
      "outputs": []
    },
    {
      "cell_type": "code",
      "source": [
        "count = input(\"How many students? e.g., 26 or 30\")\n",
        "n = int(count)\n",
        "d1 = df.sort_values(by=['Total'], ascending = False)\n",
        "d1.reset_index(drop=True, inplace=True)\n",
        "ID = range(1,n+1); d1['ID'] = ID; d1['Total'].head()"
      ],
      "metadata": {
        "colab": {
          "base_uri": "https://localhost:8080/"
        },
        "id": "csl60ISesuiu",
        "outputId": "e72edb5d-bd4e-4082-a2f8-6d89deebc885"
      },
      "execution_count": 36,
      "outputs": [
        {
          "name": "stdout",
          "output_type": "stream",
          "text": [
            "How many students? e.g., 26 or 3030\n"
          ]
        },
        {
          "output_type": "execute_result",
          "data": {
            "text/plain": [
              "0    116.0\n",
              "1    114.5\n",
              "2    112.5\n",
              "3    111.5\n",
              "4    108.5\n",
              "Name: Total, dtype: float64"
            ]
          },
          "metadata": {},
          "execution_count": 36
        }
      ]
    },
    {
      "cell_type": "code",
      "source": [
        "d1['Total'].hist()"
      ],
      "metadata": {
        "id": "QHXmrhMTs90L"
      },
      "execution_count": null,
      "outputs": []
    },
    {
      "cell_type": "code",
      "source": [
        "d1.plot(x='ID', y='Total', style='.')\n",
        "plt.ylim(0, 130)"
      ],
      "metadata": {
        "id": "ucBaZkc5tDP0"
      },
      "execution_count": null,
      "outputs": []
    }
  ]
}